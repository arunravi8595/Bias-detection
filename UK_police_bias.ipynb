{
  "nbformat": 4,
  "nbformat_minor": 0,
  "metadata": {
    "colab": {
      "name": "UK_police_bias.ipynb",
      "provenance": [],
      "collapsed_sections": [],
      "authorship_tag": "ABX9TyMoyC1tPxng8+X4a/dJc2/4",
      "include_colab_link": true
    },
    "kernelspec": {
      "name": "python3",
      "display_name": "Python 3"
    }
  },
  "cells": [
    {
      "cell_type": "markdown",
      "metadata": {
        "id": "view-in-github",
        "colab_type": "text"
      },
      "source": [
        "<a href=\"https://colab.research.google.com/github/arunravi8595/CE888_Assignment_2/blob/main/UK_police_bias.ipynb\" target=\"_parent\"><img src=\"https://colab.research.google.com/assets/colab-badge.svg\" alt=\"Open In Colab\"/></a>"
      ]
    },
    {
      "cell_type": "code",
      "metadata": {
        "id": "DQI_qJcmJHy5"
      },
      "source": [
        "#Import required libraries\n",
        "\n",
        "import numpy as np\n",
        "import pandas as pd\n",
        "import seaborn as sns\n",
        "import matplotlib.pyplot as plt"
      ],
      "execution_count": null,
      "outputs": []
    },
    {
      "cell_type": "markdown",
      "metadata": {
        "id": "2iGGLR8-bzUB"
      },
      "source": [
        "**Data exploration**\n"
      ]
    },
    {
      "cell_type": "code",
      "metadata": {
        "id": "Fi7hNFAcAwt2",
        "colab": {
          "base_uri": "https://localhost:8080/",
          "height": 581
        },
        "outputId": "99322517-4bbe-4489-c123-7d32c3efb5da"
      },
      "source": [
        "#To find ethnicity distribution in Stop & Search by Police\n",
        "#Data downloaded from https://data.police.uk/data/\n",
        "Police_search = pd.read_csv('https://raw.githubusercontent.com/arunravi8595/CE888/main/Assignment/2020-12-essex-stop-and-search.csv') \n",
        "Police_search.head()"
      ],
      "execution_count": null,
      "outputs": [
        {
          "output_type": "execute_result",
          "data": {
            "text/html": [
              "<div>\n",
              "<style scoped>\n",
              "    .dataframe tbody tr th:only-of-type {\n",
              "        vertical-align: middle;\n",
              "    }\n",
              "\n",
              "    .dataframe tbody tr th {\n",
              "        vertical-align: top;\n",
              "    }\n",
              "\n",
              "    .dataframe thead th {\n",
              "        text-align: right;\n",
              "    }\n",
              "</style>\n",
              "<table border=\"1\" class=\"dataframe\">\n",
              "  <thead>\n",
              "    <tr style=\"text-align: right;\">\n",
              "      <th></th>\n",
              "      <th>Type</th>\n",
              "      <th>Date</th>\n",
              "      <th>Part of a policing operation</th>\n",
              "      <th>Policing operation</th>\n",
              "      <th>Latitude</th>\n",
              "      <th>Longitude</th>\n",
              "      <th>Gender</th>\n",
              "      <th>Age range</th>\n",
              "      <th>Self-defined ethnicity</th>\n",
              "      <th>Officer-defined ethnicity</th>\n",
              "      <th>Legislation</th>\n",
              "      <th>Object of search</th>\n",
              "      <th>Outcome</th>\n",
              "      <th>Outcome linked to object of search</th>\n",
              "      <th>Removal of more than just outer clothing</th>\n",
              "    </tr>\n",
              "  </thead>\n",
              "  <tbody>\n",
              "    <tr>\n",
              "      <th>0</th>\n",
              "      <td>Person and Vehicle search</td>\n",
              "      <td>2020-12-01T00:01:00+00:00</td>\n",
              "      <td>False</td>\n",
              "      <td>NaN</td>\n",
              "      <td>51.881413</td>\n",
              "      <td>0.215455</td>\n",
              "      <td>Female</td>\n",
              "      <td>25-34</td>\n",
              "      <td>Other ethnic group - Not stated</td>\n",
              "      <td>White</td>\n",
              "      <td>Police and Criminal Evidence Act 1984 (section 1)</td>\n",
              "      <td>Articles for use in criminal damage</td>\n",
              "      <td>A no further action disposal</td>\n",
              "      <td>False</td>\n",
              "      <td>False</td>\n",
              "    </tr>\n",
              "    <tr>\n",
              "      <th>1</th>\n",
              "      <td>Person search</td>\n",
              "      <td>2020-12-01T00:01:00+00:00</td>\n",
              "      <td>False</td>\n",
              "      <td>NaN</td>\n",
              "      <td>51.636110</td>\n",
              "      <td>0.062590</td>\n",
              "      <td>Female</td>\n",
              "      <td>18-24</td>\n",
              "      <td>White - English/Welsh/Scottish/Northern Irish/...</td>\n",
              "      <td>White</td>\n",
              "      <td>Misuse of Drugs Act 1971 (section 23)</td>\n",
              "      <td>Controlled drugs</td>\n",
              "      <td>A no further action disposal</td>\n",
              "      <td>False</td>\n",
              "      <td>False</td>\n",
              "    </tr>\n",
              "    <tr>\n",
              "      <th>2</th>\n",
              "      <td>Person search</td>\n",
              "      <td>2020-12-01T00:01:00+00:00</td>\n",
              "      <td>False</td>\n",
              "      <td>NaN</td>\n",
              "      <td>51.636546</td>\n",
              "      <td>0.063333</td>\n",
              "      <td>Male</td>\n",
              "      <td>18-24</td>\n",
              "      <td>Black/African/Caribbean/Black British - Caribbean</td>\n",
              "      <td>Black</td>\n",
              "      <td>Misuse of Drugs Act 1971 (section 23)</td>\n",
              "      <td>Controlled drugs</td>\n",
              "      <td>A no further action disposal</td>\n",
              "      <td>False</td>\n",
              "      <td>False</td>\n",
              "    </tr>\n",
              "    <tr>\n",
              "      <th>3</th>\n",
              "      <td>Person search</td>\n",
              "      <td>2020-12-01T01:01:00+00:00</td>\n",
              "      <td>False</td>\n",
              "      <td>NaN</td>\n",
              "      <td>51.629479</td>\n",
              "      <td>0.439730</td>\n",
              "      <td>Male</td>\n",
              "      <td>18-24</td>\n",
              "      <td>Other ethnic group - Not stated</td>\n",
              "      <td>White</td>\n",
              "      <td>Misuse of Drugs Act 1971 (section 23)</td>\n",
              "      <td>Controlled drugs</td>\n",
              "      <td>A no further action disposal</td>\n",
              "      <td>False</td>\n",
              "      <td>False</td>\n",
              "    </tr>\n",
              "    <tr>\n",
              "      <th>4</th>\n",
              "      <td>Vehicle search</td>\n",
              "      <td>2020-12-01T01:01:00+00:00</td>\n",
              "      <td>False</td>\n",
              "      <td>NaN</td>\n",
              "      <td>51.629479</td>\n",
              "      <td>0.439730</td>\n",
              "      <td>NaN</td>\n",
              "      <td>NaN</td>\n",
              "      <td>NaN</td>\n",
              "      <td>NaN</td>\n",
              "      <td>Misuse of Drugs Act 1971 (section 23)</td>\n",
              "      <td>Controlled drugs</td>\n",
              "      <td>A no further action disposal</td>\n",
              "      <td>False</td>\n",
              "      <td>NaN</td>\n",
              "    </tr>\n",
              "  </tbody>\n",
              "</table>\n",
              "</div>"
            ],
            "text/plain": [
              "                        Type  ... Removal of more than just outer clothing\n",
              "0  Person and Vehicle search  ...                                    False\n",
              "1              Person search  ...                                    False\n",
              "2              Person search  ...                                    False\n",
              "3              Person search  ...                                    False\n",
              "4             Vehicle search  ...                                      NaN\n",
              "\n",
              "[5 rows x 15 columns]"
            ]
          },
          "metadata": {
            "tags": []
          },
          "execution_count": 379
        }
      ]
    },
    {
      "cell_type": "code",
      "metadata": {
        "colab": {
          "base_uri": "https://localhost:8080/"
        },
        "id": "L_25CwJRWP2_",
        "outputId": "5eb034ad-8a08-4022-ca5d-3d3cb77b7274"
      },
      "source": [
        "Police_search.shape"
      ],
      "execution_count": null,
      "outputs": [
        {
          "output_type": "execute_result",
          "data": {
            "text/plain": [
              "(422, 15)"
            ]
          },
          "metadata": {
            "tags": []
          },
          "execution_count": 380
        }
      ]
    },
    {
      "cell_type": "code",
      "metadata": {
        "colab": {
          "base_uri": "https://localhost:8080/"
        },
        "id": "lQBYE8RYX5fA",
        "outputId": "c02b12ee-7d9f-4ff2-fd11-83fe6b05b5d9"
      },
      "source": [
        "#Check NaN in data\n",
        "Police_search.isnull().sum()"
      ],
      "execution_count": null,
      "outputs": [
        {
          "output_type": "execute_result",
          "data": {
            "text/plain": [
              "Type                                          0\n",
              "Date                                          0\n",
              "Part of a policing operation                  0\n",
              "Policing operation                          422\n",
              "Latitude                                      4\n",
              "Longitude                                     4\n",
              "Gender                                       37\n",
              "Age range                                    45\n",
              "Self-defined ethnicity                       37\n",
              "Officer-defined ethnicity                    48\n",
              "Legislation                                   0\n",
              "Object of search                              0\n",
              "Outcome                                       3\n",
              "Outcome linked to object of search            0\n",
              "Removal of more than just outer clothing     37\n",
              "dtype: int64"
            ]
          },
          "metadata": {
            "tags": []
          },
          "execution_count": 381
        }
      ]
    },
    {
      "cell_type": "code",
      "metadata": {
        "colab": {
          "base_uri": "https://localhost:8080/",
          "height": 224
        },
        "id": "2y41qBJL0VY2",
        "outputId": "05ebc004-8b1e-43af-8d61-a25afb80986a"
      },
      "source": [
        "#Take only the required columns from the dataset\n",
        "\n",
        "Police_search = Police_search[['Type','Gender','Age range','Officer-defined ethnicity','Outcome','Outcome linked to object of search']]\n",
        "data = Police_search.dropna()\n",
        "data = data.reset_index(drop=True)\n",
        "data.describe()"
      ],
      "execution_count": null,
      "outputs": [
        {
          "output_type": "execute_result",
          "data": {
            "text/html": [
              "<div>\n",
              "<style scoped>\n",
              "    .dataframe tbody tr th:only-of-type {\n",
              "        vertical-align: middle;\n",
              "    }\n",
              "\n",
              "    .dataframe tbody tr th {\n",
              "        vertical-align: top;\n",
              "    }\n",
              "\n",
              "    .dataframe thead th {\n",
              "        text-align: right;\n",
              "    }\n",
              "</style>\n",
              "<table border=\"1\" class=\"dataframe\">\n",
              "  <thead>\n",
              "    <tr style=\"text-align: right;\">\n",
              "      <th></th>\n",
              "      <th>Type</th>\n",
              "      <th>Gender</th>\n",
              "      <th>Age range</th>\n",
              "      <th>Officer-defined ethnicity</th>\n",
              "      <th>Outcome</th>\n",
              "      <th>Outcome linked to object of search</th>\n",
              "    </tr>\n",
              "  </thead>\n",
              "  <tbody>\n",
              "    <tr>\n",
              "      <th>count</th>\n",
              "      <td>364</td>\n",
              "      <td>364</td>\n",
              "      <td>364</td>\n",
              "      <td>364</td>\n",
              "      <td>364</td>\n",
              "      <td>364</td>\n",
              "    </tr>\n",
              "    <tr>\n",
              "      <th>unique</th>\n",
              "      <td>2</td>\n",
              "      <td>2</td>\n",
              "      <td>4</td>\n",
              "      <td>4</td>\n",
              "      <td>5</td>\n",
              "      <td>2</td>\n",
              "    </tr>\n",
              "    <tr>\n",
              "      <th>top</th>\n",
              "      <td>Person search</td>\n",
              "      <td>Male</td>\n",
              "      <td>18-24</td>\n",
              "      <td>White</td>\n",
              "      <td>A no further action disposal</td>\n",
              "      <td>False</td>\n",
              "    </tr>\n",
              "    <tr>\n",
              "      <th>freq</th>\n",
              "      <td>287</td>\n",
              "      <td>325</td>\n",
              "      <td>159</td>\n",
              "      <td>294</td>\n",
              "      <td>284</td>\n",
              "      <td>288</td>\n",
              "    </tr>\n",
              "  </tbody>\n",
              "</table>\n",
              "</div>"
            ],
            "text/plain": [
              "                 Type  ... Outcome linked to object of search\n",
              "count             364  ...                                364\n",
              "unique              2  ...                                  2\n",
              "top     Person search  ...                              False\n",
              "freq              287  ...                                288\n",
              "\n",
              "[4 rows x 6 columns]"
            ]
          },
          "metadata": {
            "tags": []
          },
          "execution_count": 382
        }
      ]
    },
    {
      "cell_type": "markdown",
      "metadata": {
        "id": "LB8Kd2VB2Sku"
      },
      "source": [
        "**Understanding the field of importance in the data**\n",
        "\n",
        "To know which part of the data to be checked for bias. Visualising the information from the stop and search can provide a general idea on what part needs to be analyzed.\n",
        "The main task is to find how ethnicity plays a role in police search. So the information that is related to ethnic distribution is considered."
      ]
    },
    {
      "cell_type": "code",
      "metadata": {
        "colab": {
          "base_uri": "https://localhost:8080/"
        },
        "id": "Xeg2qpDIWkIM",
        "outputId": "607e9f2c-c8cc-4e61-cb8c-b828e1a91ae2"
      },
      "source": [
        "Police_search[\"Officer-defined ethnicity\"].value_counts()"
      ],
      "execution_count": null,
      "outputs": [
        {
          "output_type": "execute_result",
          "data": {
            "text/plain": [
              "White    304\n",
              "Black     46\n",
              "Asian     12\n",
              "Other     12\n",
              "Name: Officer-defined ethnicity, dtype: int64"
            ]
          },
          "metadata": {
            "tags": []
          },
          "execution_count": 383
        }
      ]
    },
    {
      "cell_type": "code",
      "metadata": {
        "colab": {
          "base_uri": "https://localhost:8080/",
          "height": 296
        },
        "id": "Z9XeZUH5Wu5Q",
        "outputId": "7ce5d7ac-2767-49cb-d38a-9b7afcf15565"
      },
      "source": [
        "#Plot ethnicity distribution\n",
        "sns.countplot(x=\"Officer-defined ethnicity\", data = Police_search)"
      ],
      "execution_count": null,
      "outputs": [
        {
          "output_type": "execute_result",
          "data": {
            "text/plain": [
              "<AxesSubplot:xlabel='Officer-defined ethnicity', ylabel='count'>"
            ]
          },
          "metadata": {
            "tags": []
          },
          "execution_count": 384
        },
        {
          "output_type": "display_data",
          "data": {
            "image/png": "[encoded data removed]",
            "text/plain": [
              "<Figure size 432x288 with 1 Axes>"
            ]
          },
          "metadata": {
            "tags": [],
            "needs_background": "light"
          }
        }
      ]
    },
    {
      "cell_type": "code",
      "metadata": {
        "id": "HGMLC_PHv1Ak"
      },
      "source": [
        "#Combine different Non-white categoriess into a single class\n",
        "\n",
        "Ethnicity = []\n",
        "for x in Police_search[\"Officer-defined ethnicity\"]:\n",
        "  if x == \"White\":\n",
        "    y = \"White\"  \n",
        "  elif x == \"Other\":\n",
        "    y = \"Other\"\n",
        "  else:\n",
        "    y = \"Non-White\"     \n",
        "  Ethnicity.append(y)       \n",
        "  \n",
        "Police_search[\"Ethnicity\"] = Ethnicity        "
      ],
      "execution_count": null,
      "outputs": []
    },
    {
      "cell_type": "code",
      "metadata": {
        "colab": {
          "base_uri": "https://localhost:8080/"
        },
        "id": "q_9i9EKgzR9p",
        "outputId": "8e59ffd5-0881-4756-f893-29ce98c8df28"
      },
      "source": [
        "Police_search[\"Ethnicity\"].value_counts()"
      ],
      "execution_count": null,
      "outputs": [
        {
          "output_type": "execute_result",
          "data": {
            "text/plain": [
              "White        304\n",
              "Non-White    106\n",
              "Other         12\n",
              "Name: Ethnicity, dtype: int64"
            ]
          },
          "metadata": {
            "tags": []
          },
          "execution_count": 386
        }
      ]
    },
    {
      "cell_type": "code",
      "metadata": {
        "colab": {
          "base_uri": "https://localhost:8080/",
          "height": 520
        },
        "id": "1CE70pFfce3g",
        "outputId": "a1397035-46ad-4f6f-e98a-7321d413d828"
      },
      "source": [
        "#Plot a graph to visualize the ethnic distribution\n",
        "\n",
        "graph = Police_search['Ethnicity'].value_counts().plot(kind='bar', figsize=(10,7),\n",
        "                                                  color=\"grey\", fontsize=13);\n",
        "graph.set_alpha(0.8)\n",
        "graph.set_title(\"Ethnic distribution in Police search\", fontsize=12)\n",
        "graph.set_ylabel('Count', fontsize=12)\n",
        "graph.set_xlabel('Ethnicity', fontsize=12)\n",
        "\n",
        "totals = []\n",
        "\n",
        "# find the values and append to list\n",
        "for i in graph.patches:\n",
        "    totals.append(i.get_height())\n",
        "\n",
        "# set individual bar lables using above list\n",
        "total = sum(totals)\n",
        "\n",
        "# set individual bar lables using above list\n",
        "for i in graph.patches:\n",
        "    # get_x pulls left or right; get_height pushes up or down\n",
        "    graph.text(i.get_x()+0.15, i.get_height()+5, \\\n",
        "            str(round((i.get_height()/total)*100, 2))+'%', fontsize=13.5,\n",
        "                color='red')"
      ],
      "execution_count": null,
      "outputs": [
        {
          "output_type": "display_data",
          "data": {
            "image/png": "[encoded data removed]",
            "text/plain": [
              "<Figure size 720x504 with 1 Axes>"
            ]
          },
          "metadata": {
            "tags": [],
            "needs_background": "light"
          }
        }
      ]
    },
    {
      "cell_type": "code",
      "metadata": {
        "colab": {
          "base_uri": "https://localhost:8080/",
          "height": 481
        },
        "id": "Mg9Nff975Uai",
        "outputId": "b751e579-8a58-4326-b09f-f5a388382c72"
      },
      "source": [
        "#To find the outcome decision taken by police officers based on ethnicity\n",
        "Police_search.groupby('Outcome')['Ethnicity'].value_counts().unstack(0).plot.bar(title='Search Decision by ethnicity', figsize=(15,10));"
      ],
      "execution_count": null,
      "outputs": [
        {
          "output_type": "display_data",
          "data": {
            "image/png": "[encoded data removed]",
            "text/plain": [
              "<Figure size 1080x720 with 1 Axes>"
            ]
          },
          "metadata": {
            "tags": [],
            "needs_background": "light"
          }
        }
      ]
    },
    {
      "cell_type": "code",
      "metadata": {
        "colab": {
          "base_uri": "https://localhost:8080/"
        },
        "id": "bwnfSNO6PHR9",
        "outputId": "721ce83c-16dc-447e-d76e-2ee4059bec4d"
      },
      "source": [
        "# In the data, \"Outcome linked to object of search\" specifies whether the suspect has been arrested or not\n",
        "# Hence the column is renamed as \"Arrested\" which has the info as TRUE or FALSE\n",
        "Police_search.rename(columns = {'Outcome linked to object of search':'Arrested'}, inplace = True)\n",
        "Police_search[\"Arrested\"].value_counts()"
      ],
      "execution_count": null,
      "outputs": [
        {
          "output_type": "execute_result",
          "data": {
            "text/plain": [
              "False    334\n",
              "True      88\n",
              "Name: Arrested, dtype: int64"
            ]
          },
          "metadata": {
            "tags": []
          },
          "execution_count": 389
        }
      ]
    },
    {
      "cell_type": "code",
      "metadata": {
        "id": "lWSQvGRs_ZVh",
        "colab": {
          "base_uri": "https://localhost:8080/",
          "height": 300
        },
        "outputId": "f6bbbb41-77da-40a7-d455-bb0e73dae678"
      },
      "source": [
        "sns.countplot(x = \"Arrested\", data = Police_search)"
      ],
      "execution_count": null,
      "outputs": [
        {
          "output_type": "execute_result",
          "data": {
            "text/plain": [
              "<AxesSubplot:xlabel='Arrested', ylabel='count'>"
            ]
          },
          "metadata": {
            "tags": []
          },
          "execution_count": 390
        },
        {
          "output_type": "display_data",
          "data": {
            "image/png": "[encoded data removed]",
            "text/plain": [
              "<Figure size 432x288 with 1 Axes>"
            ]
          },
          "metadata": {
            "tags": [],
            "needs_background": "light"
          }
        }
      ]
    },
    {
      "cell_type": "code",
      "metadata": {
        "id": "DjOQ7oc5PbhM",
        "colab": {
          "base_uri": "https://localhost:8080/"
        },
        "outputId": "e4a32b0c-06c9-4424-b6f6-9e2640ae067a"
      },
      "source": [
        "Police_search[\"Gender\"].value_counts()"
      ],
      "execution_count": null,
      "outputs": [
        {
          "output_type": "execute_result",
          "data": {
            "text/plain": [
              "Male      345\n",
              "Female     40\n",
              "Name: Gender, dtype: int64"
            ]
          },
          "metadata": {
            "tags": []
          },
          "execution_count": 391
        }
      ]
    },
    {
      "cell_type": "code",
      "metadata": {
        "id": "nBdT-gvnP3wz",
        "colab": {
          "base_uri": "https://localhost:8080/",
          "height": 296
        },
        "outputId": "2d915907-b992-4dcc-a4a5-1fbd07314659"
      },
      "source": [
        "sns.countplot(x = \"Gender\", data = Police_search)"
      ],
      "execution_count": null,
      "outputs": [
        {
          "output_type": "execute_result",
          "data": {
            "text/plain": [
              "<AxesSubplot:xlabel='Gender', ylabel='count'>"
            ]
          },
          "metadata": {
            "tags": []
          },
          "execution_count": 392
        },
        {
          "output_type": "display_data",
          "data": {
            "image/png": "[encoded data removed]",
            "text/plain": [
              "<Figure size 432x288 with 1 Axes>"
            ]
          },
          "metadata": {
            "tags": [],
            "needs_background": "light"
          }
        }
      ]
    },
    {
      "cell_type": "code",
      "metadata": {
        "colab": {
          "base_uri": "https://localhost:8080/"
        },
        "id": "dtVvXiyNql1Y",
        "outputId": "9935460e-215d-4135-deed-3efd4ae0a668"
      },
      "source": [
        "Police_search['Arrested'].value_counts(normalize=True).mul(100).astype(str)+'%'"
      ],
      "execution_count": null,
      "outputs": [
        {
          "output_type": "execute_result",
          "data": {
            "text/plain": [
              "False    79.14691943127961%\n",
              "True     20.85308056872038%\n",
              "Name: Arrested, dtype: object"
            ]
          },
          "metadata": {
            "tags": []
          },
          "execution_count": 393
        }
      ]
    },
    {
      "cell_type": "code",
      "metadata": {
        "colab": {
          "base_uri": "https://localhost:8080/",
          "height": 484
        },
        "id": "70B2v_4ktaD0",
        "outputId": "1134896e-a3a5-494a-b390-fed5f22b39e3"
      },
      "source": [
        "graph = Police_search['Arrested'].value_counts().plot(kind='bar', figsize=(10,7),\n",
        "                                                  color=\"grey\", fontsize=13);\n",
        "graph.set_alpha(0.8)\n",
        "graph.set_title(\"Percentage of arrested people\", fontsize=12)\n",
        "graph.set_ylabel('Count', fontsize=12)\n",
        "graph.set_xlabel('Arrested', fontsize=12)\n",
        "\n",
        "totals = []\n",
        "\n",
        "# find the values and append to list\n",
        "for i in graph.patches:\n",
        "    totals.append(i.get_height())\n",
        "\n",
        "# set individual bar lables using above list\n",
        "total = sum(totals)\n",
        "\n",
        "# set individual bar lables using above list\n",
        "for i in graph.patches:\n",
        "    # get_x pulls left or right; get_height pushes up or down\n",
        "    graph.text(i.get_x()+0.16, i.get_height()+5, \\\n",
        "            str(round((i.get_height()/total)*100, 2))+'%', fontsize=13.5,\n",
        "                color='red')"
      ],
      "execution_count": null,
      "outputs": [
        {
          "output_type": "display_data",
          "data": {
            "image/png": "[encoded data removed]",
            "text/plain": [
              "<Figure size 720x504 with 1 Axes>"
            ]
          },
          "metadata": {
            "tags": [],
            "needs_background": "light"
          }
        }
      ]
    },
    {
      "cell_type": "code",
      "metadata": {
        "id": "2Pp-QUxLf_o6",
        "colab": {
          "base_uri": "https://localhost:8080/"
        },
        "outputId": "49e60093-f6b1-4fde-de12-45f16832f173"
      },
      "source": [
        "\n",
        "census_data = pd.read_csv('https://raw.githubusercontent.com/arunravi8595/CE888/main/Assignment/Essex_Ethnicity_Census.csv') \n",
        "census_data.shape"
      ],
      "execution_count": null,
      "outputs": [
        {
          "output_type": "execute_result",
          "data": {
            "text/plain": [
              "(23, 16)"
            ]
          },
          "metadata": {
            "tags": []
          },
          "execution_count": 395
        }
      ]
    },
    {
      "cell_type": "code",
      "metadata": {
        "id": "L8AxCc9TgFT4",
        "colab": {
          "base_uri": "https://localhost:8080/"
        },
        "outputId": "45bc6881-1215-48a5-cd2f-bcec705e5d10"
      },
      "source": [
        "#Check NaN in data\n",
        "census_data.isnull().sum()"
      ],
      "execution_count": null,
      "outputs": [
        {
          "output_type": "execute_result",
          "data": {
            "text/plain": [
              "Category              0\n",
              "Essex                 0\n",
              "Basildon              0\n",
              "Braintree             0\n",
              "Brentwood             0\n",
              "Castle Point          0\n",
              "Chelmsford            0\n",
              "Colchester            0\n",
              "Epping Forest         0\n",
              "Harlow                0\n",
              "Maldon                0\n",
              "Rochford              0\n",
              "Tendring              0\n",
              "Uttlesford            0\n",
              "Southend-on-Sea UA    0\n",
              "Thurrock UA           0\n",
              "dtype: int64"
            ]
          },
          "metadata": {
            "tags": []
          },
          "execution_count": 396
        }
      ]
    },
    {
      "cell_type": "code",
      "metadata": {
        "id": "cMu3YeysewyE",
        "colab": {
          "base_uri": "https://localhost:8080/",
          "height": 343
        },
        "outputId": "e34b2481-57e8-4ee2-e05b-7ca5829dad9a"
      },
      "source": [
        "census_data.head()\n"
      ],
      "execution_count": null,
      "outputs": [
        {
          "output_type": "execute_result",
          "data": {
            "text/html": [
              "<div>\n",
              "<style scoped>\n",
              "    .dataframe tbody tr th:only-of-type {\n",
              "        vertical-align: middle;\n",
              "    }\n",
              "\n",
              "    .dataframe tbody tr th {\n",
              "        vertical-align: top;\n",
              "    }\n",
              "\n",
              "    .dataframe thead th {\n",
              "        text-align: right;\n",
              "    }\n",
              "</style>\n",
              "<table border=\"1\" class=\"dataframe\">\n",
              "  <thead>\n",
              "    <tr style=\"text-align: right;\">\n",
              "      <th></th>\n",
              "      <th>Category</th>\n",
              "      <th>Essex</th>\n",
              "      <th>Basildon</th>\n",
              "      <th>Braintree</th>\n",
              "      <th>Brentwood</th>\n",
              "      <th>Castle Point</th>\n",
              "      <th>Chelmsford</th>\n",
              "      <th>Colchester</th>\n",
              "      <th>Epping Forest</th>\n",
              "      <th>Harlow</th>\n",
              "      <th>Maldon</th>\n",
              "      <th>Rochford</th>\n",
              "      <th>Tendring</th>\n",
              "      <th>Uttlesford</th>\n",
              "      <th>Southend-on-Sea UA</th>\n",
              "      <th>Thurrock UA</th>\n",
              "    </tr>\n",
              "  </thead>\n",
              "  <tbody>\n",
              "    <tr>\n",
              "      <th>0</th>\n",
              "      <td>White: British</td>\n",
              "      <td>1264877</td>\n",
              "      <td>156215</td>\n",
              "      <td>137010</td>\n",
              "      <td>65688</td>\n",
              "      <td>83943</td>\n",
              "      <td>151990</td>\n",
              "      <td>151453</td>\n",
              "      <td>106233</td>\n",
              "      <td>68715</td>\n",
              "      <td>59011</td>\n",
              "      <td>79628</td>\n",
              "      <td>131666</td>\n",
              "      <td>73325</td>\n",
              "      <td>151136</td>\n",
              "      <td>127587</td>\n",
              "    </tr>\n",
              "    <tr>\n",
              "      <th>1</th>\n",
              "      <td>White: Irish</td>\n",
              "      <td>11165</td>\n",
              "      <td>1313</td>\n",
              "      <td>1051</td>\n",
              "      <td>921</td>\n",
              "      <td>527</td>\n",
              "      <td>1450</td>\n",
              "      <td>1155</td>\n",
              "      <td>1427</td>\n",
              "      <td>875</td>\n",
              "      <td>358</td>\n",
              "      <td>468</td>\n",
              "      <td>998</td>\n",
              "      <td>622</td>\n",
              "      <td>1496</td>\n",
              "      <td>1108</td>\n",
              "    </tr>\n",
              "    <tr>\n",
              "      <th>2</th>\n",
              "      <td>White: Gypsy or Irish Traveller</td>\n",
              "      <td>2161</td>\n",
              "      <td>873</td>\n",
              "      <td>132</td>\n",
              "      <td>121</td>\n",
              "      <td>17</td>\n",
              "      <td>212</td>\n",
              "      <td>79</td>\n",
              "      <td>176</td>\n",
              "      <td>117</td>\n",
              "      <td>201</td>\n",
              "      <td>49</td>\n",
              "      <td>62</td>\n",
              "      <td>122</td>\n",
              "      <td>162</td>\n",
              "      <td>308</td>\n",
              "    </tr>\n",
              "    <tr>\n",
              "      <th>3</th>\n",
              "      <td>White: Other White</td>\n",
              "      <td>35653</td>\n",
              "      <td>3276</td>\n",
              "      <td>3894</td>\n",
              "      <td>2138</td>\n",
              "      <td>786</td>\n",
              "      <td>4331</td>\n",
              "      <td>6619</td>\n",
              "      <td>5033</td>\n",
              "      <td>3292</td>\n",
              "      <td>859</td>\n",
              "      <td>792</td>\n",
              "      <td>1941</td>\n",
              "      <td>2692</td>\n",
              "      <td>6229</td>\n",
              "      <td>6426</td>\n",
              "    </tr>\n",
              "    <tr>\n",
              "      <th>4</th>\n",
              "      <td>Mixed/multiple ethnic group: White and Black C...</td>\n",
              "      <td>6936</td>\n",
              "      <td>1131</td>\n",
              "      <td>554</td>\n",
              "      <td>343</td>\n",
              "      <td>346</td>\n",
              "      <td>854</td>\n",
              "      <td>889</td>\n",
              "      <td>881</td>\n",
              "      <td>654</td>\n",
              "      <td>152</td>\n",
              "      <td>296</td>\n",
              "      <td>595</td>\n",
              "      <td>241</td>\n",
              "      <td>1039</td>\n",
              "      <td>1056</td>\n",
              "    </tr>\n",
              "  </tbody>\n",
              "</table>\n",
              "</div>"
            ],
            "text/plain": [
              "                                            Category  ...  Thurrock UA\n",
              "0                                     White: British  ...       127587\n",
              "1                                       White: Irish  ...         1108\n",
              "2                    White: Gypsy or Irish Traveller  ...          308\n",
              "3                                 White: Other White  ...         6426\n",
              "4  Mixed/multiple ethnic group: White and Black C...  ...         1056\n",
              "\n",
              "[5 rows x 16 columns]"
            ]
          },
          "metadata": {
            "tags": []
          },
          "execution_count": 397
        }
      ]
    },
    {
      "cell_type": "code",
      "metadata": {
        "id": "vOW3oB8O4ojj",
        "colab": {
          "base_uri": "https://localhost:8080/"
        },
        "outputId": "1fcb1de4-62fa-4a69-f043-61a4c25eca5e"
      },
      "source": [
        "list(census_data.columns.values)"
      ],
      "execution_count": null,
      "outputs": [
        {
          "output_type": "execute_result",
          "data": {
            "text/plain": [
              "['Category',\n",
              " 'Essex ',\n",
              " 'Basildon',\n",
              " 'Braintree',\n",
              " 'Brentwood',\n",
              " 'Castle Point',\n",
              " 'Chelmsford',\n",
              " 'Colchester',\n",
              " 'Epping Forest',\n",
              " 'Harlow',\n",
              " 'Maldon',\n",
              " 'Rochford',\n",
              " 'Tendring',\n",
              " 'Uttlesford',\n",
              " 'Southend-on-Sea UA',\n",
              " 'Thurrock UA']"
            ]
          },
          "metadata": {
            "tags": []
          },
          "execution_count": 398
        }
      ]
    },
    {
      "cell_type": "code",
      "metadata": {
        "colab": {
          "base_uri": "https://localhost:8080/",
          "height": 204
        },
        "id": "fOiOliu2q0ep",
        "outputId": "084a9caa-1fa4-43cb-8119-7cd7254b4d8d"
      },
      "source": [
        "census_data.rename(columns = {'Essex ':'Essex'}, inplace = True)\n",
        "census = census_data[['Category','Essex']]\n",
        "census.head()"
      ],
      "execution_count": null,
      "outputs": [
        {
          "output_type": "execute_result",
          "data": {
            "text/html": [
              "<div>\n",
              "<style scoped>\n",
              "    .dataframe tbody tr th:only-of-type {\n",
              "        vertical-align: middle;\n",
              "    }\n",
              "\n",
              "    .dataframe tbody tr th {\n",
              "        vertical-align: top;\n",
              "    }\n",
              "\n",
              "    .dataframe thead th {\n",
              "        text-align: right;\n",
              "    }\n",
              "</style>\n",
              "<table border=\"1\" class=\"dataframe\">\n",
              "  <thead>\n",
              "    <tr style=\"text-align: right;\">\n",
              "      <th></th>\n",
              "      <th>Category</th>\n",
              "      <th>Essex</th>\n",
              "    </tr>\n",
              "  </thead>\n",
              "  <tbody>\n",
              "    <tr>\n",
              "      <th>0</th>\n",
              "      <td>White: British</td>\n",
              "      <td>1264877</td>\n",
              "    </tr>\n",
              "    <tr>\n",
              "      <th>1</th>\n",
              "      <td>White: Irish</td>\n",
              "      <td>11165</td>\n",
              "    </tr>\n",
              "    <tr>\n",
              "      <th>2</th>\n",
              "      <td>White: Gypsy or Irish Traveller</td>\n",
              "      <td>2161</td>\n",
              "    </tr>\n",
              "    <tr>\n",
              "      <th>3</th>\n",
              "      <td>White: Other White</td>\n",
              "      <td>35653</td>\n",
              "    </tr>\n",
              "    <tr>\n",
              "      <th>4</th>\n",
              "      <td>Mixed/multiple ethnic group: White and Black C...</td>\n",
              "      <td>6936</td>\n",
              "    </tr>\n",
              "  </tbody>\n",
              "</table>\n",
              "</div>"
            ],
            "text/plain": [
              "                                            Category    Essex\n",
              "0                                     White: British  1264877\n",
              "1                                       White: Irish    11165\n",
              "2                    White: Gypsy or Irish Traveller     2161\n",
              "3                                 White: Other White    35653\n",
              "4  Mixed/multiple ethnic group: White and Black C...     6936"
            ]
          },
          "metadata": {
            "tags": []
          },
          "execution_count": 399
        }
      ]
    },
    {
      "cell_type": "code",
      "metadata": {
        "colab": {
          "base_uri": "https://localhost:8080/"
        },
        "id": "uuceJo5-6zq1",
        "outputId": "c08c62ca-d6fb-4e55-91b1-0c8d67d38142"
      },
      "source": [
        "print (census.dtypes)"
      ],
      "execution_count": null,
      "outputs": [
        {
          "output_type": "stream",
          "text": [
            "Category    object\n",
            "Essex        int64\n",
            "dtype: object\n"
          ],
          "name": "stdout"
        }
      ]
    },
    {
      "cell_type": "code",
      "metadata": {
        "colab": {
          "base_uri": "https://localhost:8080/",
          "height": 867
        },
        "id": "RoIfkspkvwAe",
        "outputId": "2d5f7ca9-ac10-4db6-b486-21c9c288e32e"
      },
      "source": [
        "census['Ethnic_percent'] = 100*census['Essex']/census['Essex'].sum()\n",
        "display(census)"
      ],
      "execution_count": null,
      "outputs": [
        {
          "output_type": "stream",
          "text": [
            "\n",
            "A value is trying to be set on a copy of a slice from a DataFrame.\n",
            "Try using .loc[row_indexer,col_indexer] = value instead\n",
            "\n",
            "See the caveats in the documentation: https://pandas.pydata.org/pandas-docs/stable/user_guide/indexing.html#returning-a-view-versus-a-copy\n"
          ],
          "name": "stderr"
        },
        {
          "output_type": "display_data",
          "data": {
            "text/html": [
              "<div>\n",
              "<style scoped>\n",
              "    .dataframe tbody tr th:only-of-type {\n",
              "        vertical-align: middle;\n",
              "    }\n",
              "\n",
              "    .dataframe tbody tr th {\n",
              "        vertical-align: top;\n",
              "    }\n",
              "\n",
              "    .dataframe thead th {\n",
              "        text-align: right;\n",
              "    }\n",
              "</style>\n",
              "<table border=\"1\" class=\"dataframe\">\n",
              "  <thead>\n",
              "    <tr style=\"text-align: right;\">\n",
              "      <th></th>\n",
              "      <th>Category</th>\n",
              "      <th>Essex</th>\n",
              "      <th>Ethnic_percent</th>\n",
              "    </tr>\n",
              "  </thead>\n",
              "  <tbody>\n",
              "    <tr>\n",
              "      <th>0</th>\n",
              "      <td>White: British</td>\n",
              "      <td>1264877</td>\n",
              "      <td>81.444758</td>\n",
              "    </tr>\n",
              "    <tr>\n",
              "      <th>1</th>\n",
              "      <td>White: Irish</td>\n",
              "      <td>11165</td>\n",
              "      <td>0.718908</td>\n",
              "    </tr>\n",
              "    <tr>\n",
              "      <th>2</th>\n",
              "      <td>White: Gypsy or Irish Traveller</td>\n",
              "      <td>2161</td>\n",
              "      <td>0.139146</td>\n",
              "    </tr>\n",
              "    <tr>\n",
              "      <th>3</th>\n",
              "      <td>White: Other White</td>\n",
              "      <td>35653</td>\n",
              "      <td>2.295678</td>\n",
              "    </tr>\n",
              "    <tr>\n",
              "      <th>4</th>\n",
              "      <td>Mixed/multiple ethnic group: White and Black C...</td>\n",
              "      <td>6936</td>\n",
              "      <td>0.446605</td>\n",
              "    </tr>\n",
              "    <tr>\n",
              "      <th>5</th>\n",
              "      <td>Mixed/multiple ethnic group: White and Black A...</td>\n",
              "      <td>2801</td>\n",
              "      <td>0.180355</td>\n",
              "    </tr>\n",
              "    <tr>\n",
              "      <th>6</th>\n",
              "      <td>Mixed/multiple ethnic group: White and Asian</td>\n",
              "      <td>6173</td>\n",
              "      <td>0.397476</td>\n",
              "    </tr>\n",
              "    <tr>\n",
              "      <th>7</th>\n",
              "      <td>Mixed/multiple ethnic group: Other Mixed</td>\n",
              "      <td>4975</td>\n",
              "      <td>0.320338</td>\n",
              "    </tr>\n",
              "    <tr>\n",
              "      <th>8</th>\n",
              "      <td>Mixed/Multiple Ethnic Group (Total)</td>\n",
              "      <td>20885</td>\n",
              "      <td>1.344774</td>\n",
              "    </tr>\n",
              "    <tr>\n",
              "      <th>9</th>\n",
              "      <td>Asian/Asian British: Indian</td>\n",
              "      <td>12456</td>\n",
              "      <td>0.802035</td>\n",
              "    </tr>\n",
              "    <tr>\n",
              "      <th>10</th>\n",
              "      <td>Asian/Asian British: Pakistani</td>\n",
              "      <td>3462</td>\n",
              "      <td>0.222916</td>\n",
              "    </tr>\n",
              "    <tr>\n",
              "      <th>11</th>\n",
              "      <td>Asian/Asian British: Bangladeshi</td>\n",
              "      <td>2747</td>\n",
              "      <td>0.176878</td>\n",
              "    </tr>\n",
              "    <tr>\n",
              "      <th>12</th>\n",
              "      <td>Asian/Asian British: Chinese</td>\n",
              "      <td>6361</td>\n",
              "      <td>0.409581</td>\n",
              "    </tr>\n",
              "    <tr>\n",
              "      <th>13</th>\n",
              "      <td>Asian/Asian British: Other Asian</td>\n",
              "      <td>9834</td>\n",
              "      <td>0.633206</td>\n",
              "    </tr>\n",
              "    <tr>\n",
              "      <th>14</th>\n",
              "      <td>Asian/Asian British (Total)</td>\n",
              "      <td>34860</td>\n",
              "      <td>2.244617</td>\n",
              "    </tr>\n",
              "    <tr>\n",
              "      <th>15</th>\n",
              "      <td>Black/African/Caribbean/Black British: African</td>\n",
              "      <td>12143</td>\n",
              "      <td>0.781881</td>\n",
              "    </tr>\n",
              "    <tr>\n",
              "      <th>16</th>\n",
              "      <td>Black/African/Caribbean/Black British: Caribbean</td>\n",
              "      <td>4556</td>\n",
              "      <td>0.293358</td>\n",
              "    </tr>\n",
              "    <tr>\n",
              "      <th>17</th>\n",
              "      <td>Black/African/Caribbean/Black British: Other B...</td>\n",
              "      <td>2010</td>\n",
              "      <td>0.129423</td>\n",
              "    </tr>\n",
              "    <tr>\n",
              "      <th>18</th>\n",
              "      <td>Black/Black British (Total)</td>\n",
              "      <td>18709</td>\n",
              "      <td>1.204663</td>\n",
              "    </tr>\n",
              "    <tr>\n",
              "      <th>19</th>\n",
              "      <td>Other ethnic group: Arab</td>\n",
              "      <td>2042</td>\n",
              "      <td>0.131483</td>\n",
              "    </tr>\n",
              "    <tr>\n",
              "      <th>20</th>\n",
              "      <td>Other ethnic group: Any other ethnic group</td>\n",
              "      <td>3235</td>\n",
              "      <td>0.208300</td>\n",
              "    </tr>\n",
              "    <tr>\n",
              "      <th>21</th>\n",
              "      <td>Other Ethnic Groups (Total)</td>\n",
              "      <td>5277</td>\n",
              "      <td>0.339783</td>\n",
              "    </tr>\n",
              "    <tr>\n",
              "      <th>22</th>\n",
              "      <td>BAME</td>\n",
              "      <td>79731</td>\n",
              "      <td>5.133837</td>\n",
              "    </tr>\n",
              "  </tbody>\n",
              "</table>\n",
              "</div>"
            ],
            "text/plain": [
              "                                             Category    Essex  Ethnic_percent\n",
              "0                                      White: British  1264877       81.444758\n",
              "1                                        White: Irish    11165        0.718908\n",
              "2                     White: Gypsy or Irish Traveller     2161        0.139146\n",
              "3                                  White: Other White    35653        2.295678\n",
              "4   Mixed/multiple ethnic group: White and Black C...     6936        0.446605\n",
              "5   Mixed/multiple ethnic group: White and Black A...     2801        0.180355\n",
              "6        Mixed/multiple ethnic group: White and Asian     6173        0.397476\n",
              "7            Mixed/multiple ethnic group: Other Mixed     4975        0.320338\n",
              "8                 Mixed/Multiple Ethnic Group (Total)    20885        1.344774\n",
              "9                         Asian/Asian British: Indian    12456        0.802035\n",
              "10                     Asian/Asian British: Pakistani     3462        0.222916\n",
              "11                   Asian/Asian British: Bangladeshi     2747        0.176878\n",
              "12                       Asian/Asian British: Chinese     6361        0.409581\n",
              "13                   Asian/Asian British: Other Asian     9834        0.633206\n",
              "14                        Asian/Asian British (Total)    34860        2.244617\n",
              "15     Black/African/Caribbean/Black British: African    12143        0.781881\n",
              "16   Black/African/Caribbean/Black British: Caribbean     4556        0.293358\n",
              "17  Black/African/Caribbean/Black British: Other B...     2010        0.129423\n",
              "18                        Black/Black British (Total)    18709        1.204663\n",
              "19                           Other ethnic group: Arab     2042        0.131483\n",
              "20         Other ethnic group: Any other ethnic group     3235        0.208300\n",
              "21                        Other Ethnic Groups (Total)     5277        0.339783\n",
              "22                                               BAME    79731        5.133837"
            ]
          },
          "metadata": {
            "tags": []
          }
        }
      ]
    },
    {
      "cell_type": "code",
      "metadata": {
        "colab": {
          "base_uri": "https://localhost:8080/",
          "height": 793
        },
        "id": "xVMRqknJF3Ky",
        "outputId": "ac65782f-210b-4c2e-e566-be7ffb74d35c"
      },
      "source": [
        "census.set_index('Category')"
      ],
      "execution_count": null,
      "outputs": [
        {
          "output_type": "execute_result",
          "data": {
            "text/html": [
              "<div>\n",
              "<style scoped>\n",
              "    .dataframe tbody tr th:only-of-type {\n",
              "        vertical-align: middle;\n",
              "    }\n",
              "\n",
              "    .dataframe tbody tr th {\n",
              "        vertical-align: top;\n",
              "    }\n",
              "\n",
              "    .dataframe thead th {\n",
              "        text-align: right;\n",
              "    }\n",
              "</style>\n",
              "<table border=\"1\" class=\"dataframe\">\n",
              "  <thead>\n",
              "    <tr style=\"text-align: right;\">\n",
              "      <th></th>\n",
              "      <th>Essex</th>\n",
              "      <th>Ethnic_percent</th>\n",
              "    </tr>\n",
              "    <tr>\n",
              "      <th>Category</th>\n",
              "      <th></th>\n",
              "      <th></th>\n",
              "    </tr>\n",
              "  </thead>\n",
              "  <tbody>\n",
              "    <tr>\n",
              "      <th>White: British</th>\n",
              "      <td>1264877</td>\n",
              "      <td>81.444758</td>\n",
              "    </tr>\n",
              "    <tr>\n",
              "      <th>White: Irish</th>\n",
              "      <td>11165</td>\n",
              "      <td>0.718908</td>\n",
              "    </tr>\n",
              "    <tr>\n",
              "      <th>White: Gypsy or Irish Traveller</th>\n",
              "      <td>2161</td>\n",
              "      <td>0.139146</td>\n",
              "    </tr>\n",
              "    <tr>\n",
              "      <th>White: Other White</th>\n",
              "      <td>35653</td>\n",
              "      <td>2.295678</td>\n",
              "    </tr>\n",
              "    <tr>\n",
              "      <th>Mixed/multiple ethnic group: White and Black Caribbean</th>\n",
              "      <td>6936</td>\n",
              "      <td>0.446605</td>\n",
              "    </tr>\n",
              "    <tr>\n",
              "      <th>Mixed/multiple ethnic group: White and Black African</th>\n",
              "      <td>2801</td>\n",
              "      <td>0.180355</td>\n",
              "    </tr>\n",
              "    <tr>\n",
              "      <th>Mixed/multiple ethnic group: White and Asian</th>\n",
              "      <td>6173</td>\n",
              "      <td>0.397476</td>\n",
              "    </tr>\n",
              "    <tr>\n",
              "      <th>Mixed/multiple ethnic group: Other Mixed</th>\n",
              "      <td>4975</td>\n",
              "      <td>0.320338</td>\n",
              "    </tr>\n",
              "    <tr>\n",
              "      <th>Mixed/Multiple Ethnic Group (Total)</th>\n",
              "      <td>20885</td>\n",
              "      <td>1.344774</td>\n",
              "    </tr>\n",
              "    <tr>\n",
              "      <th>Asian/Asian British: Indian</th>\n",
              "      <td>12456</td>\n",
              "      <td>0.802035</td>\n",
              "    </tr>\n",
              "    <tr>\n",
              "      <th>Asian/Asian British: Pakistani</th>\n",
              "      <td>3462</td>\n",
              "      <td>0.222916</td>\n",
              "    </tr>\n",
              "    <tr>\n",
              "      <th>Asian/Asian British: Bangladeshi</th>\n",
              "      <td>2747</td>\n",
              "      <td>0.176878</td>\n",
              "    </tr>\n",
              "    <tr>\n",
              "      <th>Asian/Asian British: Chinese</th>\n",
              "      <td>6361</td>\n",
              "      <td>0.409581</td>\n",
              "    </tr>\n",
              "    <tr>\n",
              "      <th>Asian/Asian British: Other Asian</th>\n",
              "      <td>9834</td>\n",
              "      <td>0.633206</td>\n",
              "    </tr>\n",
              "    <tr>\n",
              "      <th>Asian/Asian British (Total)</th>\n",
              "      <td>34860</td>\n",
              "      <td>2.244617</td>\n",
              "    </tr>\n",
              "    <tr>\n",
              "      <th>Black/African/Caribbean/Black British: African</th>\n",
              "      <td>12143</td>\n",
              "      <td>0.781881</td>\n",
              "    </tr>\n",
              "    <tr>\n",
              "      <th>Black/African/Caribbean/Black British: Caribbean</th>\n",
              "      <td>4556</td>\n",
              "      <td>0.293358</td>\n",
              "    </tr>\n",
              "    <tr>\n",
              "      <th>Black/African/Caribbean/Black British: Other Black</th>\n",
              "      <td>2010</td>\n",
              "      <td>0.129423</td>\n",
              "    </tr>\n",
              "    <tr>\n",
              "      <th>Black/Black British (Total)</th>\n",
              "      <td>18709</td>\n",
              "      <td>1.204663</td>\n",
              "    </tr>\n",
              "    <tr>\n",
              "      <th>Other ethnic group: Arab</th>\n",
              "      <td>2042</td>\n",
              "      <td>0.131483</td>\n",
              "    </tr>\n",
              "    <tr>\n",
              "      <th>Other ethnic group: Any other ethnic group</th>\n",
              "      <td>3235</td>\n",
              "      <td>0.208300</td>\n",
              "    </tr>\n",
              "    <tr>\n",
              "      <th>Other Ethnic Groups (Total)</th>\n",
              "      <td>5277</td>\n",
              "      <td>0.339783</td>\n",
              "    </tr>\n",
              "    <tr>\n",
              "      <th>BAME</th>\n",
              "      <td>79731</td>\n",
              "      <td>5.133837</td>\n",
              "    </tr>\n",
              "  </tbody>\n",
              "</table>\n",
              "</div>"
            ],
            "text/plain": [
              "                                                      Essex  Ethnic_percent\n",
              "Category                                                                   \n",
              "White: British                                      1264877       81.444758\n",
              "White: Irish                                          11165        0.718908\n",
              "White: Gypsy or Irish Traveller                        2161        0.139146\n",
              "White: Other White                                    35653        2.295678\n",
              "Mixed/multiple ethnic group: White and Black Ca...     6936        0.446605\n",
              "Mixed/multiple ethnic group: White and Black Af...     2801        0.180355\n",
              "Mixed/multiple ethnic group: White and Asian           6173        0.397476\n",
              "Mixed/multiple ethnic group: Other Mixed               4975        0.320338\n",
              "Mixed/Multiple Ethnic Group (Total)                   20885        1.344774\n",
              "Asian/Asian British: Indian                           12456        0.802035\n",
              "Asian/Asian British: Pakistani                         3462        0.222916\n",
              "Asian/Asian British: Bangladeshi                       2747        0.176878\n",
              "Asian/Asian British: Chinese                           6361        0.409581\n",
              "Asian/Asian British: Other Asian                       9834        0.633206\n",
              "Asian/Asian British (Total)                           34860        2.244617\n",
              "Black/African/Caribbean/Black British: African        12143        0.781881\n",
              "Black/African/Caribbean/Black British: Caribbean       4556        0.293358\n",
              "Black/African/Caribbean/Black British: Other Black     2010        0.129423\n",
              "Black/Black British (Total)                           18709        1.204663\n",
              "Other ethnic group: Arab                               2042        0.131483\n",
              "Other ethnic group: Any other ethnic group             3235        0.208300\n",
              "Other Ethnic Groups (Total)                            5277        0.339783\n",
              "BAME                                                  79731        5.133837"
            ]
          },
          "metadata": {
            "tags": []
          },
          "execution_count": 402
        }
      ]
    },
    {
      "cell_type": "code",
      "metadata": {
        "colab": {
          "base_uri": "https://localhost:8080/",
          "height": 200
        },
        "id": "XBupBsviIxXP",
        "outputId": "4b066134-5e2a-4956-ef57-e0cd26cd1765"
      },
      "source": [
        "ax1 = plt.subplot(121, aspect='equal')\n",
        "census.plot(kind='pie', y = 'Ethnic_percent', ax=ax1, autopct='%1.1f%%', \n",
        " startangle=90, shadow=False, labels=census['Category'], legend = False, fontsize=7)"
      ],
      "execution_count": null,
      "outputs": [
        {
          "output_type": "execute_result",
          "data": {
            "text/plain": [
              "<AxesSubplot:ylabel='Ethnic_percent'>"
            ]
          },
          "metadata": {
            "tags": []
          },
          "execution_count": 403
        },
        {
          "output_type": "display_data",
          "data": {
            "image/png": "[encoded data removed]",
            "text/plain": [
              "<Figure size 432x288 with 1 Axes>"
            ]
          },
          "metadata": {
            "tags": []
          }
        }
      ]
    },
    {
      "cell_type": "code",
      "metadata": {
        "colab": {
          "base_uri": "https://localhost:8080/",
          "height": 466
        },
        "id": "yv-ZDirOD3sE",
        "outputId": "18dda6db-6402-4d53-b608-98636bc7569f"
      },
      "source": [
        "plot = census.plot.pie(y='Ethnic_percent', figsize=(8,8))"
      ],
      "execution_count": null,
      "outputs": [
        {
          "output_type": "display_data",
          "data": {
            "image/png": "[encoded data removed]",
            "text/plain": [
              "<Figure size 576x576 with 1 Axes>"
            ]
          },
          "metadata": {
            "tags": []
          }
        }
      ]
    },
    {
      "cell_type": "code",
      "metadata": {
        "id": "zHfbbba3iin2"
      },
      "source": [
        "#Combine similar ethnic groups together\n",
        "#Make ethnic classifications to match Data1 - Police search"
      ],
      "execution_count": null,
      "outputs": []
    },
    {
      "cell_type": "code",
      "metadata": {
        "id": "7w4-msruZPLe",
        "colab": {
          "base_uri": "https://localhost:8080/",
          "height": 238
        },
        "outputId": "e54fa83e-6aa9-4014-c6e1-8c78b8a9dd19"
      },
      "source": [
        "#Load Data-3\n",
        "#To find ethnic distribution across the Police workforce\n",
        "#Data downloaded from https://www.ethnicity-facts-figures.service.gov.uk/workforce-and-business/workforce-diversity/police-workforce/latest#by-ethnicity-police-officers\n",
        "workforce_data=pd.read_csv('https://raw.githubusercontent.com/arunravi8595/CE888/main/Assignment/by-ethnicity-police-officers-table.csv')\n",
        "workforce_data.head()"
      ],
      "execution_count": null,
      "outputs": [
        {
          "output_type": "execute_result",
          "data": {
            "text/html": [
              "<div>\n",
              "<style scoped>\n",
              "    .dataframe tbody tr th:only-of-type {\n",
              "        vertical-align: middle;\n",
              "    }\n",
              "\n",
              "    .dataframe tbody tr th {\n",
              "        vertical-align: top;\n",
              "    }\n",
              "\n",
              "    .dataframe thead th {\n",
              "        text-align: right;\n",
              "    }\n",
              "</style>\n",
              "<table border=\"1\" class=\"dataframe\">\n",
              "  <thead>\n",
              "    <tr style=\"text-align: right;\">\n",
              "      <th></th>\n",
              "      <th>Ethnicity</th>\n",
              "      <th>% of police officers</th>\n",
              "      <th>% of population</th>\n",
              "      <th>Number of police officers</th>\n",
              "    </tr>\n",
              "  </thead>\n",
              "  <tbody>\n",
              "    <tr>\n",
              "      <th>0</th>\n",
              "      <td>Asian</td>\n",
              "      <td>3.1</td>\n",
              "      <td>6.8</td>\n",
              "      <td>3,884</td>\n",
              "    </tr>\n",
              "    <tr>\n",
              "      <th>1</th>\n",
              "      <td>Black</td>\n",
              "      <td>1.3</td>\n",
              "      <td>3.3</td>\n",
              "      <td>1,586</td>\n",
              "    </tr>\n",
              "    <tr>\n",
              "      <th>2</th>\n",
              "      <td>Mixed</td>\n",
              "      <td>2.2</td>\n",
              "      <td>2.2</td>\n",
              "      <td>2,711</td>\n",
              "    </tr>\n",
              "    <tr>\n",
              "      <th>3</th>\n",
              "      <td>White</td>\n",
              "      <td>92.7</td>\n",
              "      <td>86.0</td>\n",
              "      <td>1,16,536</td>\n",
              "    </tr>\n",
              "    <tr>\n",
              "      <th>4</th>\n",
              "      <td>Other inc Chinese</td>\n",
              "      <td>0.8</td>\n",
              "      <td>1.7</td>\n",
              "      <td>993</td>\n",
              "    </tr>\n",
              "  </tbody>\n",
              "</table>\n",
              "</div>"
            ],
            "text/plain": [
              "           Ethnicity  ...  Number of police officers\n",
              "0              Asian  ...                      3,884\n",
              "1              Black  ...                      1,586\n",
              "2              Mixed  ...                      2,711\n",
              "3              White  ...                   1,16,536\n",
              "4  Other inc Chinese  ...                        993\n",
              "\n",
              "[5 rows x 4 columns]"
            ]
          },
          "metadata": {
            "tags": []
          },
          "execution_count": 406
        }
      ]
    },
    {
      "cell_type": "code",
      "metadata": {
        "colab": {
          "base_uri": "https://localhost:8080/",
          "height": 269
        },
        "id": "4NAidRhRQFwN",
        "outputId": "798e93ff-4c72-4515-cf85-2ced50428a33"
      },
      "source": [
        "workforce_data.set_index('Ethnicity')"
      ],
      "execution_count": null,
      "outputs": [
        {
          "output_type": "execute_result",
          "data": {
            "text/html": [
              "<div>\n",
              "<style scoped>\n",
              "    .dataframe tbody tr th:only-of-type {\n",
              "        vertical-align: middle;\n",
              "    }\n",
              "\n",
              "    .dataframe tbody tr th {\n",
              "        vertical-align: top;\n",
              "    }\n",
              "\n",
              "    .dataframe thead th {\n",
              "        text-align: right;\n",
              "    }\n",
              "</style>\n",
              "<table border=\"1\" class=\"dataframe\">\n",
              "  <thead>\n",
              "    <tr style=\"text-align: right;\">\n",
              "      <th></th>\n",
              "      <th>% of police officers</th>\n",
              "      <th>% of population</th>\n",
              "      <th>Number of police officers</th>\n",
              "    </tr>\n",
              "    <tr>\n",
              "      <th>Ethnicity</th>\n",
              "      <th></th>\n",
              "      <th></th>\n",
              "      <th></th>\n",
              "    </tr>\n",
              "  </thead>\n",
              "  <tbody>\n",
              "    <tr>\n",
              "      <th>Asian</th>\n",
              "      <td>3.1</td>\n",
              "      <td>6.8</td>\n",
              "      <td>3,884</td>\n",
              "    </tr>\n",
              "    <tr>\n",
              "      <th>Black</th>\n",
              "      <td>1.3</td>\n",
              "      <td>3.3</td>\n",
              "      <td>1,586</td>\n",
              "    </tr>\n",
              "    <tr>\n",
              "      <th>Mixed</th>\n",
              "      <td>2.2</td>\n",
              "      <td>2.2</td>\n",
              "      <td>2,711</td>\n",
              "    </tr>\n",
              "    <tr>\n",
              "      <th>White</th>\n",
              "      <td>92.7</td>\n",
              "      <td>86.0</td>\n",
              "      <td>1,16,536</td>\n",
              "    </tr>\n",
              "    <tr>\n",
              "      <th>Other inc Chinese</th>\n",
              "      <td>0.8</td>\n",
              "      <td>1.7</td>\n",
              "      <td>993</td>\n",
              "    </tr>\n",
              "  </tbody>\n",
              "</table>\n",
              "</div>"
            ],
            "text/plain": [
              "                   % of police officers  ...  Number of police officers\n",
              "Ethnicity                                ...                           \n",
              "Asian                               3.1  ...                      3,884\n",
              "Black                               1.3  ...                      1,586\n",
              "Mixed                               2.2  ...                      2,711\n",
              "White                              92.7  ...                   1,16,536\n",
              "Other inc Chinese                   0.8  ...                        993\n",
              "\n",
              "[5 rows x 3 columns]"
            ]
          },
          "metadata": {
            "tags": []
          },
          "execution_count": 407
        }
      ]
    },
    {
      "cell_type": "code",
      "metadata": {
        "colab": {
          "base_uri": "https://localhost:8080/"
        },
        "id": "rvb9RSraQWox",
        "outputId": "d01fb9a4-2249-468b-e1e6-86691668f5c1"
      },
      "source": [
        "list(workforce_data.columns.values)"
      ],
      "execution_count": null,
      "outputs": [
        {
          "output_type": "execute_result",
          "data": {
            "text/plain": [
              "['Ethnicity',\n",
              " '% of police officers',\n",
              " '% of population',\n",
              " 'Number of police officers']"
            ]
          },
          "metadata": {
            "tags": []
          },
          "execution_count": 408
        }
      ]
    },
    {
      "cell_type": "code",
      "metadata": {
        "colab": {
          "base_uri": "https://localhost:8080/"
        },
        "id": "R4QoW9WIT5eV",
        "outputId": "aaf39c64-6946-49da-b7ab-45efc1f424fc"
      },
      "source": [
        "print (workforce_data.dtypes)"
      ],
      "execution_count": null,
      "outputs": [
        {
          "output_type": "stream",
          "text": [
            "Ethnicity                     object\n",
            "% of police officers         float64\n",
            "% of population              float64\n",
            "Number of police officers     object\n",
            "dtype: object\n"
          ],
          "name": "stdout"
        }
      ]
    },
    {
      "cell_type": "code",
      "metadata": {
        "colab": {
          "base_uri": "https://localhost:8080/",
          "height": 303
        },
        "id": "_R50hBwxWdzw",
        "outputId": "f2740226-5a03-4b88-d619-f94b1725c983"
      },
      "source": [
        "plt.pie(\n",
        "    workforce_data['% of police officers'],\n",
        "    labels=workforce_data['Ethnicity'],\n",
        "    shadow=False,\n",
        "    explode=(0, 0, 0, 0.2, 0),\n",
        "    startangle=90,\n",
        "    autopct='%1.1f%%',\n",
        "    )\n",
        "plt.axis('equal')\n",
        "plt.tight_layout()\n",
        "plt.show()"
      ],
      "execution_count": null,
      "outputs": [
        {
          "output_type": "display_data",
          "data": {
            "image/png": "[encoded data removed]",
            "text/plain": [
              "<Figure size 432x288 with 1 Axes>"
            ]
          },
          "metadata": {
            "tags": []
          }
        }
      ]
    },
    {
      "cell_type": "code",
      "metadata": {
        "colab": {
          "base_uri": "https://localhost:8080/",
          "height": 309
        },
        "id": "OwM2R0S1Tn-n",
        "outputId": "1a4bc2d7-4fff-4676-fbe5-7b50ec6fd520"
      },
      "source": [
        "workforce_data['% of police officers'].plot(kind=\"bar\", title=\"Ethnicity\")\n",
        "plt.title(\"Mince Pie Consumption Study Results\")\n",
        "plt.xlabel(\"Family Member\")\n",
        "plt.ylabel(\"Pies Consumed\")"
      ],
      "execution_count": null,
      "outputs": [
        {
          "output_type": "execute_result",
          "data": {
            "text/plain": [
              "Text(0, 0.5, 'Pies Consumed')"
            ]
          },
          "metadata": {
            "tags": []
          },
          "execution_count": 411
        },
        {
          "output_type": "display_data",
          "data": {
            "image/png": "[encoded data removed]",
            "text/plain": [
              "<Figure size 432x288 with 1 Axes>"
            ]
          },
          "metadata": {
            "tags": [],
            "needs_background": "light"
          }
        }
      ]
    },
    {
      "cell_type": "code",
      "metadata": {
        "colab": {
          "base_uri": "https://localhost:8080/",
          "height": 466
        },
        "id": "C7xdVMSwPoE4",
        "outputId": "9c966eda-7a72-4487-cd84-53d7ea3d7aec"
      },
      "source": [
        "plot = workforce_data.plot.pie(y='% of police officers', figsize=(8,8))"
      ],
      "execution_count": null,
      "outputs": [
        {
          "output_type": "display_data",
          "data": {
            "image/png": "[encoded data removed]",
            "text/plain": [
              "<Figure size 576x576 with 1 Axes>"
            ]
          },
          "metadata": {
            "tags": []
          }
        }
      ]
    },
    {
      "cell_type": "code",
      "metadata": {
        "id": "zG963KBEemhZ"
      },
      "source": [
        ""
      ],
      "execution_count": null,
      "outputs": []
    },
    {
      "cell_type": "markdown",
      "metadata": {
        "id": "InLseDvbTX8Y"
      },
      "source": [
        "**Detection of Bias and Mitigation**\n",
        "\n",
        "Using AIF360 ML Algorithm to address the fairness metrics"
      ]
    },
    {
      "cell_type": "code",
      "metadata": {
        "id": "kgG8KsglwWZe"
      },
      "source": [
        ""
      ],
      "execution_count": null,
      "outputs": []
    },
    {
      "cell_type": "code",
      "metadata": {
        "id": "8ZhGKAD-CK_e",
        "colab": {
          "base_uri": "https://localhost:8080/",
          "height": 1000
        },
        "outputId": "250c63e1-0388-4984-8b59-83946815e359"
      },
      "source": [
        "!pip install 'aif360[all]'\n",
        "!pip install -U scikit-learn scipy matplotlib\n",
        "!pip install 'tensorflow>=1.13.1,< 2'\n",
        "!pip install fairlearn\n",
        "!pip install BlackBoxAuditing"
      ],
      "execution_count": null,
      "outputs": [
        {
          "output_type": "stream",
          "text": [
            "Requirement already satisfied: aif360[all] in /usr/local/lib/python3.7/dist-packages (0.4.0)\n",
            "Requirement already satisfied: tempeh in /usr/local/lib/python3.7/dist-packages (from aif360[all]) (0.1.12)\n",
            "Requirement already satisfied: pandas>=0.24.0 in /usr/local/lib/python3.7/dist-packages (from aif360[all]) (1.1.5)\n",
            "Collecting scipy<1.6.0,>=1.2.0\n",
            "  Using cached https://files.pythonhosted.org/packages/dc/7e/8f6a79b102ca1ea928bae8998b05bf5dc24a90571db13cd119f275ba6252/scipy-1.5.4-cp37-cp37m-manylinux1_x86_64.whl\n",
            "Requirement already satisfied: matplotlib in /usr/local/lib/python3.7/dist-packages (from aif360[all]) (3.4.1)\n",
            "Requirement already satisfied: scikit-learn>=0.22.1 in /usr/local/lib/python3.7/dist-packages (from aif360[all]) (0.24.2)\n",
            "Requirement already satisfied: numpy>=1.16 in /usr/local/lib/python3.7/dist-packages (from aif360[all]) (1.18.5)\n",
            "Requirement already satisfied: pytest>=3.5; extra == \"all\" in /usr/local/lib/python3.7/dist-packages (from aif360[all]) (3.6.4)\n",
            "Requirement already satisfied: fairlearn==0.4.6; extra == \"all\" in /usr/local/lib/python3.7/dist-packages (from aif360[all]) (0.4.6)\n",
            "Requirement already satisfied: sphinx-rtd-theme; extra == \"all\" in /usr/local/lib/python3.7/dist-packages (from aif360[all]) (0.5.2)\n",
            "Requirement already satisfied: tensorflow>=1.13.1; extra == \"all\" in /usr/local/lib/python3.7/dist-packages (from aif360[all]) (1.15.5)\n",
            "Requirement already satisfied: cvxpy>=1.0; extra == \"all\" in /usr/local/lib/python3.7/dist-packages (from aif360[all]) (1.0.31)\n",
            "Requirement already satisfied: adversarial-robustness-toolbox>=1.0.0; extra == \"all\" in /usr/local/lib/python3.7/dist-packages (from aif360[all]) (1.6.1)\n",
            "Requirement already satisfied: sphinx; extra == \"all\" in /usr/local/lib/python3.7/dist-packages (from aif360[all]) (1.8.5)\n",
            "Requirement already satisfied: BlackBoxAuditing; extra == \"all\" in /usr/local/lib/python3.7/dist-packages (from aif360[all]) (0.1.54)\n",
            "Requirement already satisfied: lime; extra == \"all\" in /usr/local/lib/python3.7/dist-packages (from aif360[all]) (0.2.0.1)\n",
            "Requirement already satisfied: jupyter; extra == \"all\" in /usr/local/lib/python3.7/dist-packages (from aif360[all]) (1.0.0)\n",
            "Requirement already satisfied: tqdm; extra == \"all\" in /usr/local/lib/python3.7/dist-packages (from aif360[all]) (4.41.1)\n",
            "Requirement already satisfied: shap in /usr/local/lib/python3.7/dist-packages (from tempeh->aif360[all]) (0.39.0)\n",
            "Requirement already satisfied: requests in /usr/local/lib/python3.7/dist-packages (from tempeh->aif360[all]) (2.23.0)\n",
            "Requirement already satisfied: memory-profiler in /usr/local/lib/python3.7/dist-packages (from tempeh->aif360[all]) (0.58.0)\n",
            "Requirement already satisfied: pytz>=2017.2 in /usr/local/lib/python3.7/dist-packages (from pandas>=0.24.0->aif360[all]) (2018.9)\n",
            "Requirement already satisfied: python-dateutil>=2.7.3 in /usr/local/lib/python3.7/dist-packages (from pandas>=0.24.0->aif360[all]) (2.8.1)\n",
            "Requirement already satisfied: cycler>=0.10 in /usr/local/lib/python3.7/dist-packages (from matplotlib->aif360[all]) (0.10.0)\n",
            "Requirement already satisfied: kiwisolver>=1.0.1 in /usr/local/lib/python3.7/dist-packages (from matplotlib->aif360[all]) (1.3.1)\n",
            "Requirement already satisfied: pillow>=6.2.0 in /usr/local/lib/python3.7/dist-packages (from matplotlib->aif360[all]) (7.1.2)\n",
            "Requirement already satisfied: pyparsing>=2.2.1 in /usr/local/lib/python3.7/dist-packages (from matplotlib->aif360[all]) (2.4.7)\n",
            "Requirement already satisfied: threadpoolctl>=2.0.0 in /usr/local/lib/python3.7/dist-packages (from scikit-learn>=0.22.1->aif360[all]) (2.1.0)\n",
            "Requirement already satisfied: joblib>=0.11 in /usr/local/lib/python3.7/dist-packages (from scikit-learn>=0.22.1->aif360[all]) (1.0.1)\n",
            "Requirement already satisfied: setuptools in /usr/local/lib/python3.7/dist-packages (from pytest>=3.5; extra == \"all\"->aif360[all]) (56.0.0)\n",
            "Requirement already satisfied: attrs>=17.4.0 in /usr/local/lib/python3.7/dist-packages (from pytest>=3.5; extra == \"all\"->aif360[all]) (20.3.0)\n",
            "Requirement already satisfied: pluggy<0.8,>=0.5 in /usr/local/lib/python3.7/dist-packages (from pytest>=3.5; extra == \"all\"->aif360[all]) (0.7.1)\n",
            "Requirement already satisfied: py>=1.5.0 in /usr/local/lib/python3.7/dist-packages (from pytest>=3.5; extra == \"all\"->aif360[all]) (1.10.0)\n",
            "Requirement already satisfied: atomicwrites>=1.0 in /usr/local/lib/python3.7/dist-packages (from pytest>=3.5; extra == \"all\"->aif360[all]) (1.4.0)\n",
            "Requirement already satisfied: more-itertools>=4.0.0 in /usr/local/lib/python3.7/dist-packages (from pytest>=3.5; extra == \"all\"->aif360[all]) (8.7.0)\n",
            "Requirement already satisfied: six>=1.10.0 in /usr/local/lib/python3.7/dist-packages (from pytest>=3.5; extra == \"all\"->aif360[all]) (1.15.0)\n",
            "Requirement already satisfied: ipywidgets>=7.5.0 in /usr/local/lib/python3.7/dist-packages (from fairlearn==0.4.6; extra == \"all\"->aif360[all]) (7.6.3)\n",
            "Requirement already satisfied: docutils<0.17 in /usr/local/lib/python3.7/dist-packages (from sphinx-rtd-theme; extra == \"all\"->aif360[all]) (0.16)\n",
            "Requirement already satisfied: astor>=0.6.0 in /usr/local/lib/python3.7/dist-packages (from tensorflow>=1.13.1; extra == \"all\"->aif360[all]) (0.8.1)\n",
            "Requirement already satisfied: keras-applications>=1.0.8 in /usr/local/lib/python3.7/dist-packages (from tensorflow>=1.13.1; extra == \"all\"->aif360[all]) (1.0.8)\n",
            "Requirement already satisfied: tensorboard<1.16.0,>=1.15.0 in /usr/local/lib/python3.7/dist-packages (from tensorflow>=1.13.1; extra == \"all\"->aif360[all]) (1.15.0)\n",
            "Requirement already satisfied: h5py<=2.10.0 in /usr/local/lib/python3.7/dist-packages (from tensorflow>=1.13.1; extra == \"all\"->aif360[all]) (2.10.0)\n",
            "Requirement already satisfied: grpcio>=1.8.6 in /usr/local/lib/python3.7/dist-packages (from tensorflow>=1.13.1; extra == \"all\"->aif360[all]) (1.32.0)\n",
            "Requirement already satisfied: tensorflow-estimator==1.15.1 in /usr/local/lib/python3.7/dist-packages (from tensorflow>=1.13.1; extra == \"all\"->aif360[all]) (1.15.1)\n",
            "Requirement already satisfied: keras-preprocessing>=1.0.5 in /usr/local/lib/python3.7/dist-packages (from tensorflow>=1.13.1; extra == \"all\"->aif360[all]) (1.1.2)\n",
            "Requirement already satisfied: wheel>=0.26; python_version >= \"3\" in /usr/local/lib/python3.7/dist-packages (from tensorflow>=1.13.1; extra == \"all\"->aif360[all]) (0.36.2)\n",
            "Requirement already satisfied: protobuf>=3.6.1 in /usr/local/lib/python3.7/dist-packages (from tensorflow>=1.13.1; extra == \"all\"->aif360[all]) (3.12.4)\n",
            "Requirement already satisfied: opt-einsum>=2.3.2 in /usr/local/lib/python3.7/dist-packages (from tensorflow>=1.13.1; extra == \"all\"->aif360[all]) (3.3.0)\n",
            "Requirement already satisfied: wrapt>=1.11.1 in /usr/local/lib/python3.7/dist-packages (from tensorflow>=1.13.1; extra == \"all\"->aif360[all]) (1.12.1)\n",
            "Requirement already satisfied: google-pasta>=0.1.6 in /usr/local/lib/python3.7/dist-packages (from tensorflow>=1.13.1; extra == \"all\"->aif360[all]) (0.2.0)\n",
            "Requirement already satisfied: gast==0.2.2 in /usr/local/lib/python3.7/dist-packages (from tensorflow>=1.13.1; extra == \"all\"->aif360[all]) (0.2.2)\n",
            "Requirement already satisfied: termcolor>=1.1.0 in /usr/local/lib/python3.7/dist-packages (from tensorflow>=1.13.1; extra == \"all\"->aif360[all]) (1.1.0)\n",
            "Requirement already satisfied: absl-py>=0.7.0 in /usr/local/lib/python3.7/dist-packages (from tensorflow>=1.13.1; extra == \"all\"->aif360[all]) (0.12.0)\n",
            "Requirement already satisfied: ecos>=2 in /usr/local/lib/python3.7/dist-packages (from cvxpy>=1.0; extra == \"all\"->aif360[all]) (2.0.7.post1)\n",
            "Requirement already satisfied: scs>=1.1.3 in /usr/local/lib/python3.7/dist-packages (from cvxpy>=1.0; extra == \"all\"->aif360[all]) (2.1.3)\n",
            "Requirement already satisfied: multiprocess in /usr/local/lib/python3.7/dist-packages (from cvxpy>=1.0; extra == \"all\"->aif360[all]) (0.70.11.1)\n",
            "Requirement already satisfied: osqp>=0.4.1 in /usr/local/lib/python3.7/dist-packages (from cvxpy>=1.0; extra == \"all\"->aif360[all]) (0.6.2.post0)\n",
            "Requirement already satisfied: statsmodels in /usr/local/lib/python3.7/dist-packages (from adversarial-robustness-toolbox>=1.0.0; extra == \"all\"->aif360[all]) (0.10.2)\n",
            "Requirement already satisfied: cma in /usr/local/lib/python3.7/dist-packages (from adversarial-robustness-toolbox>=1.0.0; extra == \"all\"->aif360[all]) (3.0.3)\n",
            "Requirement already satisfied: mypy in /usr/local/lib/python3.7/dist-packages (from adversarial-robustness-toolbox>=1.0.0; extra == \"all\"->aif360[all]) (0.812)\n",
            "Requirement already satisfied: numba~=0.53.1 in /usr/local/lib/python3.7/dist-packages (from adversarial-robustness-toolbox>=1.0.0; extra == \"all\"->aif360[all]) (0.53.1)\n",
            "Requirement already satisfied: resampy in /usr/local/lib/python3.7/dist-packages (from adversarial-robustness-toolbox>=1.0.0; extra == \"all\"->aif360[all]) (0.2.2)\n",
            "Requirement already satisfied: pydub in /usr/local/lib/python3.7/dist-packages (from adversarial-robustness-toolbox>=1.0.0; extra == \"all\"->aif360[all]) (0.25.1)\n",
            "Requirement already satisfied: ffmpeg-python in /usr/local/lib/python3.7/dist-packages (from adversarial-robustness-toolbox>=1.0.0; extra == \"all\"->aif360[all]) (0.2.0)\n",
            "Requirement already satisfied: snowballstemmer>=1.1 in /usr/local/lib/python3.7/dist-packages (from sphinx; extra == \"all\"->aif360[all]) (2.1.0)\n",
            "Requirement already satisfied: imagesize in /usr/local/lib/python3.7/dist-packages (from sphinx; extra == \"all\"->aif360[all]) (1.2.0)\n",
            "Requirement already satisfied: packaging in /usr/local/lib/python3.7/dist-packages (from sphinx; extra == \"all\"->aif360[all]) (20.9)\n",
            "Requirement already satisfied: babel!=2.0,>=1.3 in /usr/local/lib/python3.7/dist-packages (from sphinx; extra == \"all\"->aif360[all]) (2.9.0)\n",
            "Requirement already satisfied: alabaster<0.8,>=0.7 in /usr/local/lib/python3.7/dist-packages (from sphinx; extra == \"all\"->aif360[all]) (0.7.12)\n",
            "Requirement already satisfied: Pygments>=2.0 in /usr/local/lib/python3.7/dist-packages (from sphinx; extra == \"all\"->aif360[all]) (2.6.1)\n",
            "Requirement already satisfied: sphinxcontrib-websupport in /usr/local/lib/python3.7/dist-packages (from sphinx; extra == \"all\"->aif360[all]) (1.2.4)\n",
            "Requirement already satisfied: Jinja2>=2.3 in /usr/local/lib/python3.7/dist-packages (from sphinx; extra == \"all\"->aif360[all]) (2.11.3)\n",
            "Requirement already satisfied: networkx in /usr/local/lib/python3.7/dist-packages (from BlackBoxAuditing; extra == \"all\"->aif360[all]) (2.5.1)\n",
            "Requirement already satisfied: scikit-image>=0.12 in /usr/local/lib/python3.7/dist-packages (from lime; extra == \"all\"->aif360[all]) (0.16.2)\n",
            "Requirement already satisfied: ipykernel in /usr/local/lib/python3.7/dist-packages (from jupyter; extra == \"all\"->aif360[all]) (4.10.1)\n",
            "Requirement already satisfied: jupyter-console in /usr/local/lib/python3.7/dist-packages (from jupyter; extra == \"all\"->aif360[all]) (5.2.0)\n",
            "Requirement already satisfied: nbconvert in /usr/local/lib/python3.7/dist-packages (from jupyter; extra == \"all\"->aif360[all]) (5.6.1)\n",
            "Requirement already satisfied: qtconsole in /usr/local/lib/python3.7/dist-packages (from jupyter; extra == \"all\"->aif360[all]) (5.0.3)\n",
            "Requirement already satisfied: notebook in /usr/local/lib/python3.7/dist-packages (from jupyter; extra == \"all\"->aif360[all]) (5.3.1)\n",
            "Requirement already satisfied: slicer==0.0.7 in /usr/local/lib/python3.7/dist-packages (from shap->tempeh->aif360[all]) (0.0.7)\n",
            "Requirement already satisfied: cloudpickle in /usr/local/lib/python3.7/dist-packages (from shap->tempeh->aif360[all]) (1.3.0)\n",
            "Requirement already satisfied: idna<3,>=2.5 in /usr/local/lib/python3.7/dist-packages (from requests->tempeh->aif360[all]) (2.10)\n",
            "Requirement already satisfied: certifi>=2017.4.17 in /usr/local/lib/python3.7/dist-packages (from requests->tempeh->aif360[all]) (2020.12.5)\n",
            "Requirement already satisfied: chardet<4,>=3.0.2 in /usr/local/lib/python3.7/dist-packages (from requests->tempeh->aif360[all]) (3.0.4)\n",
            "Requirement already satisfied: urllib3!=1.25.0,!=1.25.1,<1.26,>=1.21.1 in /usr/local/lib/python3.7/dist-packages (from requests->tempeh->aif360[all]) (1.24.3)\n",
            "Requirement already satisfied: psutil in /usr/local/lib/python3.7/dist-packages (from memory-profiler->tempeh->aif360[all]) (5.4.8)\n",
            "Requirement already satisfied: ipython>=4.0.0; python_version >= \"3.3\" in /usr/local/lib/python3.7/dist-packages (from ipywidgets>=7.5.0->fairlearn==0.4.6; extra == \"all\"->aif360[all]) (5.5.0)\n",
            "Requirement already satisfied: traitlets>=4.3.1 in /usr/local/lib/python3.7/dist-packages (from ipywidgets>=7.5.0->fairlearn==0.4.6; extra == \"all\"->aif360[all]) (5.0.5)\n",
            "Requirement already satisfied: nbformat>=4.2.0 in /usr/local/lib/python3.7/dist-packages (from ipywidgets>=7.5.0->fairlearn==0.4.6; extra == \"all\"->aif360[all]) (5.1.3)\n",
            "Requirement already satisfied: jupyterlab-widgets>=1.0.0; python_version >= \"3.6\" in /usr/local/lib/python3.7/dist-packages (from ipywidgets>=7.5.0->fairlearn==0.4.6; extra == \"all\"->aif360[all]) (1.0.0)\n",
            "Requirement already satisfied: widgetsnbextension~=3.5.0 in /usr/local/lib/python3.7/dist-packages (from ipywidgets>=7.5.0->fairlearn==0.4.6; extra == \"all\"->aif360[all]) (3.5.1)\n",
            "Requirement already satisfied: markdown>=2.6.8 in /usr/local/lib/python3.7/dist-packages (from tensorboard<1.16.0,>=1.15.0->tensorflow>=1.13.1; extra == \"all\"->aif360[all]) (3.3.4)\n",
            "Requirement already satisfied: werkzeug>=0.11.15 in /usr/local/lib/python3.7/dist-packages (from tensorboard<1.16.0,>=1.15.0->tensorflow>=1.13.1; extra == \"all\"->aif360[all]) (1.0.1)\n",
            "Requirement already satisfied: dill>=0.3.3 in /usr/local/lib/python3.7/dist-packages (from multiprocess->cvxpy>=1.0; extra == \"all\"->aif360[all]) (0.3.3)\n",
            "Requirement already satisfied: qdldl in /usr/local/lib/python3.7/dist-packages (from osqp>=0.4.1->cvxpy>=1.0; extra == \"all\"->aif360[all]) (0.1.5.post0)\n",
            "Requirement already satisfied: patsy>=0.4.0 in /usr/local/lib/python3.7/dist-packages (from statsmodels->adversarial-robustness-toolbox>=1.0.0; extra == \"all\"->aif360[all]) (0.5.1)\n",
            "Requirement already satisfied: mypy-extensions<0.5.0,>=0.4.3 in /usr/local/lib/python3.7/dist-packages (from mypy->adversarial-robustness-toolbox>=1.0.0; extra == \"all\"->aif360[all]) (0.4.3)\n",
            "Requirement already satisfied: typed-ast<1.5.0,>=1.4.0 in /usr/local/lib/python3.7/dist-packages (from mypy->adversarial-robustness-toolbox>=1.0.0; extra == \"all\"->aif360[all]) (1.4.3)\n",
            "Requirement already satisfied: typing-extensions>=3.7.4 in /usr/local/lib/python3.7/dist-packages (from mypy->adversarial-robustness-toolbox>=1.0.0; extra == \"all\"->aif360[all]) (3.7.4.3)\n",
            "Requirement already satisfied: llvmlite<0.37,>=0.36.0rc1 in /usr/local/lib/python3.7/dist-packages (from numba~=0.53.1->adversarial-robustness-toolbox>=1.0.0; extra == \"all\"->aif360[all]) (0.36.0)\n",
            "Requirement already satisfied: future in /usr/local/lib/python3.7/dist-packages (from ffmpeg-python->adversarial-robustness-toolbox>=1.0.0; extra == \"all\"->aif360[all]) (0.16.0)\n",
            "Requirement already satisfied: sphinxcontrib-serializinghtml in /usr/local/lib/python3.7/dist-packages (from sphinxcontrib-websupport->sphinx; extra == \"all\"->aif360[all]) (1.1.4)\n",
            "Requirement already satisfied: MarkupSafe>=0.23 in /usr/local/lib/python3.7/dist-packages (from Jinja2>=2.3->sphinx; extra == \"all\"->aif360[all]) (1.1.1)\n",
            "Requirement already satisfied: decorator<5,>=4.3 in /usr/local/lib/python3.7/dist-packages (from networkx->BlackBoxAuditing; extra == \"all\"->aif360[all]) (4.4.2)\n",
            "Requirement already satisfied: PyWavelets>=0.4.0 in /usr/local/lib/python3.7/dist-packages (from scikit-image>=0.12->lime; extra == \"all\"->aif360[all]) (1.1.1)\n",
            "Requirement already satisfied: imageio>=2.3.0 in /usr/local/lib/python3.7/dist-packages (from scikit-image>=0.12->lime; extra == \"all\"->aif360[all]) (2.4.1)\n",
            "Requirement already satisfied: jupyter-client in /usr/local/lib/python3.7/dist-packages (from ipykernel->jupyter; extra == \"all\"->aif360[all]) (5.3.5)\n",
            "Requirement already satisfied: tornado>=4.0 in /usr/local/lib/python3.7/dist-packages (from ipykernel->jupyter; extra == \"all\"->aif360[all]) (5.1.1)\n",
            "Requirement already satisfied: prompt-toolkit<2.0.0,>=1.0.0 in /usr/local/lib/python3.7/dist-packages (from jupyter-console->jupyter; extra == \"all\"->aif360[all]) (1.0.18)\n",
            "Requirement already satisfied: bleach in /usr/local/lib/python3.7/dist-packages (from nbconvert->jupyter; extra == \"all\"->aif360[all]) (3.3.0)\n",
            "Requirement already satisfied: mistune<2,>=0.8.1 in /usr/local/lib/python3.7/dist-packages (from nbconvert->jupyter; extra == \"all\"->aif360[all]) (0.8.4)\n",
            "Requirement already satisfied: pandocfilters>=1.4.1 in /usr/local/lib/python3.7/dist-packages (from nbconvert->jupyter; extra == \"all\"->aif360[all]) (1.4.3)\n",
            "Requirement already satisfied: entrypoints>=0.2.2 in /usr/local/lib/python3.7/dist-packages (from nbconvert->jupyter; extra == \"all\"->aif360[all]) (0.3)\n",
            "Requirement already satisfied: defusedxml in /usr/local/lib/python3.7/dist-packages (from nbconvert->jupyter; extra == \"all\"->aif360[all]) (0.7.1)\n",
            "Requirement already satisfied: jupyter-core in /usr/local/lib/python3.7/dist-packages (from nbconvert->jupyter; extra == \"all\"->aif360[all]) (4.7.1)\n",
            "Requirement already satisfied: testpath in /usr/local/lib/python3.7/dist-packages (from nbconvert->jupyter; extra == \"all\"->aif360[all]) (0.4.4)\n",
            "Requirement already satisfied: qtpy in /usr/local/lib/python3.7/dist-packages (from qtconsole->jupyter; extra == \"all\"->aif360[all]) (1.9.0)\n",
            "Requirement already satisfied: pyzmq>=17.1 in /usr/local/lib/python3.7/dist-packages (from qtconsole->jupyter; extra == \"all\"->aif360[all]) (22.0.3)\n",
            "Requirement already satisfied: ipython-genutils in /usr/local/lib/python3.7/dist-packages (from qtconsole->jupyter; extra == \"all\"->aif360[all]) (0.2.0)\n",
            "Requirement already satisfied: Send2Trash in /usr/local/lib/python3.7/dist-packages (from notebook->jupyter; extra == \"all\"->aif360[all]) (1.5.0)\n",
            "Requirement already satisfied: terminado>=0.8.1 in /usr/local/lib/python3.7/dist-packages (from notebook->jupyter; extra == \"all\"->aif360[all]) (0.9.4)\n",
            "Requirement already satisfied: simplegeneric>0.8 in /usr/local/lib/python3.7/dist-packages (from ipython>=4.0.0; python_version >= \"3.3\"->ipywidgets>=7.5.0->fairlearn==0.4.6; extra == \"all\"->aif360[all]) (0.8.1)\n",
            "Requirement already satisfied: pexpect; sys_platform != \"win32\" in /usr/local/lib/python3.7/dist-packages (from ipython>=4.0.0; python_version >= \"3.3\"->ipywidgets>=7.5.0->fairlearn==0.4.6; extra == \"all\"->aif360[all]) (4.8.0)\n",
            "Requirement already satisfied: pickleshare in /usr/local/lib/python3.7/dist-packages (from ipython>=4.0.0; python_version >= \"3.3\"->ipywidgets>=7.5.0->fairlearn==0.4.6; extra == \"all\"->aif360[all]) (0.7.5)\n",
            "Requirement already satisfied: jsonschema!=2.5.0,>=2.4 in /usr/local/lib/python3.7/dist-packages (from nbformat>=4.2.0->ipywidgets>=7.5.0->fairlearn==0.4.6; extra == \"all\"->aif360[all]) (2.6.0)\n",
            "Requirement already satisfied: importlib-metadata; python_version < \"3.8\" in /usr/local/lib/python3.7/dist-packages (from markdown>=2.6.8->tensorboard<1.16.0,>=1.15.0->tensorflow>=1.13.1; extra == \"all\"->aif360[all]) (3.10.1)\n",
            "Requirement already satisfied: wcwidth in /usr/local/lib/python3.7/dist-packages (from prompt-toolkit<2.0.0,>=1.0.0->jupyter-console->jupyter; extra == \"all\"->aif360[all]) (0.2.5)\n",
            "Requirement already satisfied: webencodings in /usr/local/lib/python3.7/dist-packages (from bleach->nbconvert->jupyter; extra == \"all\"->aif360[all]) (0.5.1)\n",
            "Requirement already satisfied: ptyprocess; os_name != \"nt\" in /usr/local/lib/python3.7/dist-packages (from terminado>=0.8.1->notebook->jupyter; extra == \"all\"->aif360[all]) (0.7.0)\n",
            "Requirement already satisfied: zipp>=0.5 in /usr/local/lib/python3.7/dist-packages (from importlib-metadata; python_version < \"3.8\"->markdown>=2.6.8->tensorboard<1.16.0,>=1.15.0->tensorflow>=1.13.1; extra == \"all\"->aif360[all]) (3.4.1)\n",
            "\u001b[31mERROR: albumentations 0.1.12 has requirement imgaug<0.2.7,>=0.2.5, but you'll have imgaug 0.2.9 which is incompatible.\u001b[0m\n",
            "\u001b[31mERROR: adversarial-robustness-toolbox 1.6.1 has requirement scikit-learn<=0.24.1,>=0.22.2, but you'll have scikit-learn 0.24.2 which is incompatible.\u001b[0m\n",
            "Installing collected packages: scipy\n",
            "  Found existing installation: scipy 1.6.3\n",
            "    Uninstalling scipy-1.6.3:\n",
            "      Successfully uninstalled scipy-1.6.3\n",
            "Successfully installed scipy-1.5.4\n"
          ],
          "name": "stdout"
        },
        {
          "output_type": "display_data",
          "data": {
            "application/vnd.colab-display-data+json": {
              "pip_warning": {
                "packages": [
                  "scipy"
                ]
              }
            }
          },
          "metadata": {
            "tags": []
          }
        },
        {
          "output_type": "stream",
          "text": [
            "Requirement already up-to-date: scikit-learn in /usr/local/lib/python3.7/dist-packages (0.24.2)\n",
            "Collecting scipy\n",
            "  Using cached https://files.pythonhosted.org/packages/7d/e8/43ffca541d2f208d516296950b25fe1084b35c2881f4d444c1346ca75815/scipy-1.6.3-cp37-cp37m-manylinux1_x86_64.whl\n",
            "Requirement already up-to-date: matplotlib in /usr/local/lib/python3.7/dist-packages (3.4.1)\n",
            "Requirement already satisfied, skipping upgrade: numpy>=1.13.3 in /usr/local/lib/python3.7/dist-packages (from scikit-learn) (1.18.5)\n",
            "Requirement already satisfied, skipping upgrade: joblib>=0.11 in /usr/local/lib/python3.7/dist-packages (from scikit-learn) (1.0.1)\n",
            "Requirement already satisfied, skipping upgrade: threadpoolctl>=2.0.0 in /usr/local/lib/python3.7/dist-packages (from scikit-learn) (2.1.0)\n",
            "Requirement already satisfied, skipping upgrade: pillow>=6.2.0 in /usr/local/lib/python3.7/dist-packages (from matplotlib) (7.1.2)\n",
            "Requirement already satisfied, skipping upgrade: kiwisolver>=1.0.1 in /usr/local/lib/python3.7/dist-packages (from matplotlib) (1.3.1)\n",
            "Requirement already satisfied, skipping upgrade: cycler>=0.10 in /usr/local/lib/python3.7/dist-packages (from matplotlib) (0.10.0)\n",
            "Requirement already satisfied, skipping upgrade: python-dateutil>=2.7 in /usr/local/lib/python3.7/dist-packages (from matplotlib) (2.8.1)\n",
            "Requirement already satisfied, skipping upgrade: pyparsing>=2.2.1 in /usr/local/lib/python3.7/dist-packages (from matplotlib) (2.4.7)\n",
            "Requirement already satisfied, skipping upgrade: six in /usr/local/lib/python3.7/dist-packages (from cycler>=0.10->matplotlib) (1.15.0)\n",
            "\u001b[31mERROR: albumentations 0.1.12 has requirement imgaug<0.2.7,>=0.2.5, but you'll have imgaug 0.2.9 which is incompatible.\u001b[0m\n",
            "\u001b[31mERROR: aif360 0.4.0 has requirement scipy<1.6.0,>=1.2.0, but you'll have scipy 1.6.3 which is incompatible.\u001b[0m\n",
            "\u001b[31mERROR: adversarial-robustness-toolbox 1.6.1 has requirement scikit-learn<=0.24.1,>=0.22.2, but you'll have scikit-learn 0.24.2 which is incompatible.\u001b[0m\n",
            "Installing collected packages: scipy\n",
            "  Found existing installation: scipy 1.5.4\n",
            "    Uninstalling scipy-1.5.4:\n",
            "      Successfully uninstalled scipy-1.5.4\n",
            "Successfully installed scipy-1.6.3\n"
          ],
          "name": "stdout"
        },
        {
          "output_type": "display_data",
          "data": {
            "application/vnd.colab-display-data+json": {
              "pip_warning": {
                "packages": [
                  "scipy"
                ]
              }
            }
          },
          "metadata": {
            "tags": []
          }
        },
        {
          "output_type": "stream",
          "text": [
            "Requirement already satisfied: tensorflow<2,>=1.13.1 in /usr/local/lib/python3.7/dist-packages (1.15.5)\n",
            "Requirement already satisfied: six>=1.10.0 in /usr/local/lib/python3.7/dist-packages (from tensorflow<2,>=1.13.1) (1.15.0)\n",
            "Requirement already satisfied: keras-applications>=1.0.8 in /usr/local/lib/python3.7/dist-packages (from tensorflow<2,>=1.13.1) (1.0.8)\n",
            "Requirement already satisfied: google-pasta>=0.1.6 in /usr/local/lib/python3.7/dist-packages (from tensorflow<2,>=1.13.1) (0.2.0)\n",
            "Requirement already satisfied: numpy<1.19.0,>=1.16.0 in /usr/local/lib/python3.7/dist-packages (from tensorflow<2,>=1.13.1) (1.18.5)\n",
            "Requirement already satisfied: gast==0.2.2 in /usr/local/lib/python3.7/dist-packages (from tensorflow<2,>=1.13.1) (0.2.2)\n",
            "Requirement already satisfied: grpcio>=1.8.6 in /usr/local/lib/python3.7/dist-packages (from tensorflow<2,>=1.13.1) (1.32.0)\n",
            "Requirement already satisfied: astor>=0.6.0 in /usr/local/lib/python3.7/dist-packages (from tensorflow<2,>=1.13.1) (0.8.1)\n",
            "Requirement already satisfied: tensorboard<1.16.0,>=1.15.0 in /usr/local/lib/python3.7/dist-packages (from tensorflow<2,>=1.13.1) (1.15.0)\n",
            "Requirement already satisfied: tensorflow-estimator==1.15.1 in /usr/local/lib/python3.7/dist-packages (from tensorflow<2,>=1.13.1) (1.15.1)\n",
            "Requirement already satisfied: termcolor>=1.1.0 in /usr/local/lib/python3.7/dist-packages (from tensorflow<2,>=1.13.1) (1.1.0)\n",
            "Requirement already satisfied: h5py<=2.10.0 in /usr/local/lib/python3.7/dist-packages (from tensorflow<2,>=1.13.1) (2.10.0)\n",
            "Requirement already satisfied: protobuf>=3.6.1 in /usr/local/lib/python3.7/dist-packages (from tensorflow<2,>=1.13.1) (3.12.4)\n",
            "Requirement already satisfied: absl-py>=0.7.0 in /usr/local/lib/python3.7/dist-packages (from tensorflow<2,>=1.13.1) (0.12.0)\n",
            "Requirement already satisfied: wrapt>=1.11.1 in /usr/local/lib/python3.7/dist-packages (from tensorflow<2,>=1.13.1) (1.12.1)\n",
            "Requirement already satisfied: keras-preprocessing>=1.0.5 in /usr/local/lib/python3.7/dist-packages (from tensorflow<2,>=1.13.1) (1.1.2)\n",
            "Requirement already satisfied: opt-einsum>=2.3.2 in /usr/local/lib/python3.7/dist-packages (from tensorflow<2,>=1.13.1) (3.3.0)\n",
            "Requirement already satisfied: wheel>=0.26; python_version >= \"3\" in /usr/local/lib/python3.7/dist-packages (from tensorflow<2,>=1.13.1) (0.36.2)\n",
            "Requirement already satisfied: setuptools>=41.0.0 in /usr/local/lib/python3.7/dist-packages (from tensorboard<1.16.0,>=1.15.0->tensorflow<2,>=1.13.1) (56.0.0)\n",
            "Requirement already satisfied: markdown>=2.6.8 in /usr/local/lib/python3.7/dist-packages (from tensorboard<1.16.0,>=1.15.0->tensorflow<2,>=1.13.1) (3.3.4)\n",
            "Requirement already satisfied: werkzeug>=0.11.15 in /usr/local/lib/python3.7/dist-packages (from tensorboard<1.16.0,>=1.15.0->tensorflow<2,>=1.13.1) (1.0.1)\n",
            "Requirement already satisfied: importlib-metadata; python_version < \"3.8\" in /usr/local/lib/python3.7/dist-packages (from markdown>=2.6.8->tensorboard<1.16.0,>=1.15.0->tensorflow<2,>=1.13.1) (3.10.1)\n",
            "Requirement already satisfied: zipp>=0.5 in /usr/local/lib/python3.7/dist-packages (from importlib-metadata; python_version < \"3.8\"->markdown>=2.6.8->tensorboard<1.16.0,>=1.15.0->tensorflow<2,>=1.13.1) (3.4.1)\n",
            "Requirement already satisfied: typing-extensions>=3.6.4; python_version < \"3.8\" in /usr/local/lib/python3.7/dist-packages (from importlib-metadata; python_version < \"3.8\"->markdown>=2.6.8->tensorboard<1.16.0,>=1.15.0->tensorflow<2,>=1.13.1) (3.7.4.3)\n",
            "Requirement already satisfied: fairlearn in /usr/local/lib/python3.7/dist-packages (0.4.6)\n",
            "Requirement already satisfied: scikit-learn>=0.22.1 in /usr/local/lib/python3.7/dist-packages (from fairlearn) (0.24.2)\n",
            "Requirement already satisfied: scipy>=1.3.1 in /usr/local/lib/python3.7/dist-packages (from fairlearn) (1.6.3)\n",
            "Requirement already satisfied: numpy>=1.17.2 in /usr/local/lib/python3.7/dist-packages (from fairlearn) (1.18.5)\n",
            "Requirement already satisfied: ipywidgets>=7.5.0 in /usr/local/lib/python3.7/dist-packages (from fairlearn) (7.6.3)\n",
            "Requirement already satisfied: pandas>=0.25.1 in /usr/local/lib/python3.7/dist-packages (from fairlearn) (1.1.5)\n",
            "Requirement already satisfied: threadpoolctl>=2.0.0 in /usr/local/lib/python3.7/dist-packages (from scikit-learn>=0.22.1->fairlearn) (2.1.0)\n",
            "Requirement already satisfied: joblib>=0.11 in /usr/local/lib/python3.7/dist-packages (from scikit-learn>=0.22.1->fairlearn) (1.0.1)\n",
            "Requirement already satisfied: traitlets>=4.3.1 in /usr/local/lib/python3.7/dist-packages (from ipywidgets>=7.5.0->fairlearn) (5.0.5)\n",
            "Requirement already satisfied: widgetsnbextension~=3.5.0 in /usr/local/lib/python3.7/dist-packages (from ipywidgets>=7.5.0->fairlearn) (3.5.1)\n",
            "Requirement already satisfied: jupyterlab-widgets>=1.0.0; python_version >= \"3.6\" in /usr/local/lib/python3.7/dist-packages (from ipywidgets>=7.5.0->fairlearn) (1.0.0)\n",
            "Requirement already satisfied: ipython>=4.0.0; python_version >= \"3.3\" in /usr/local/lib/python3.7/dist-packages (from ipywidgets>=7.5.0->fairlearn) (5.5.0)\n",
            "Requirement already satisfied: nbformat>=4.2.0 in /usr/local/lib/python3.7/dist-packages (from ipywidgets>=7.5.0->fairlearn) (5.1.3)\n",
            "Requirement already satisfied: ipykernel>=4.5.1 in /usr/local/lib/python3.7/dist-packages (from ipywidgets>=7.5.0->fairlearn) (4.10.1)\n",
            "Requirement already satisfied: pytz>=2017.2 in /usr/local/lib/python3.7/dist-packages (from pandas>=0.25.1->fairlearn) (2018.9)\n",
            "Requirement already satisfied: python-dateutil>=2.7.3 in /usr/local/lib/python3.7/dist-packages (from pandas>=0.25.1->fairlearn) (2.8.1)\n",
            "Requirement already satisfied: ipython-genutils in /usr/local/lib/python3.7/dist-packages (from traitlets>=4.3.1->ipywidgets>=7.5.0->fairlearn) (0.2.0)\n",
            "Requirement already satisfied: notebook>=4.4.1 in /usr/local/lib/python3.7/dist-packages (from widgetsnbextension~=3.5.0->ipywidgets>=7.5.0->fairlearn) (5.3.1)\n",
            "Requirement already satisfied: setuptools>=18.5 in /usr/local/lib/python3.7/dist-packages (from ipython>=4.0.0; python_version >= \"3.3\"->ipywidgets>=7.5.0->fairlearn) (56.0.0)\n",
            "Requirement already satisfied: simplegeneric>0.8 in /usr/local/lib/python3.7/dist-packages (from ipython>=4.0.0; python_version >= \"3.3\"->ipywidgets>=7.5.0->fairlearn) (0.8.1)\n",
            "Requirement already satisfied: pickleshare in /usr/local/lib/python3.7/dist-packages (from ipython>=4.0.0; python_version >= \"3.3\"->ipywidgets>=7.5.0->fairlearn) (0.7.5)\n",
            "Requirement already satisfied: pygments in /usr/local/lib/python3.7/dist-packages (from ipython>=4.0.0; python_version >= \"3.3\"->ipywidgets>=7.5.0->fairlearn) (2.6.1)\n",
            "Requirement already satisfied: prompt-toolkit<2.0.0,>=1.0.4 in /usr/local/lib/python3.7/dist-packages (from ipython>=4.0.0; python_version >= \"3.3\"->ipywidgets>=7.5.0->fairlearn) (1.0.18)\n",
            "Requirement already satisfied: decorator in /usr/local/lib/python3.7/dist-packages (from ipython>=4.0.0; python_version >= \"3.3\"->ipywidgets>=7.5.0->fairlearn) (4.4.2)\n",
            "Requirement already satisfied: pexpect; sys_platform != \"win32\" in /usr/local/lib/python3.7/dist-packages (from ipython>=4.0.0; python_version >= \"3.3\"->ipywidgets>=7.5.0->fairlearn) (4.8.0)\n",
            "Requirement already satisfied: jsonschema!=2.5.0,>=2.4 in /usr/local/lib/python3.7/dist-packages (from nbformat>=4.2.0->ipywidgets>=7.5.0->fairlearn) (2.6.0)\n",
            "Requirement already satisfied: jupyter-core in /usr/local/lib/python3.7/dist-packages (from nbformat>=4.2.0->ipywidgets>=7.5.0->fairlearn) (4.7.1)\n",
            "Requirement already satisfied: jupyter-client in /usr/local/lib/python3.7/dist-packages (from ipykernel>=4.5.1->ipywidgets>=7.5.0->fairlearn) (5.3.5)\n",
            "Requirement already satisfied: tornado>=4.0 in /usr/local/lib/python3.7/dist-packages (from ipykernel>=4.5.1->ipywidgets>=7.5.0->fairlearn) (5.1.1)\n",
            "Requirement already satisfied: six>=1.5 in /usr/local/lib/python3.7/dist-packages (from python-dateutil>=2.7.3->pandas>=0.25.1->fairlearn) (1.15.0)\n",
            "Requirement already satisfied: Send2Trash in /usr/local/lib/python3.7/dist-packages (from notebook>=4.4.1->widgetsnbextension~=3.5.0->ipywidgets>=7.5.0->fairlearn) (1.5.0)\n",
            "Requirement already satisfied: terminado>=0.8.1 in /usr/local/lib/python3.7/dist-packages (from notebook>=4.4.1->widgetsnbextension~=3.5.0->ipywidgets>=7.5.0->fairlearn) (0.9.4)\n",
            "Requirement already satisfied: nbconvert in /usr/local/lib/python3.7/dist-packages (from notebook>=4.4.1->widgetsnbextension~=3.5.0->ipywidgets>=7.5.0->fairlearn) (5.6.1)\n",
            "Requirement already satisfied: jinja2 in /usr/local/lib/python3.7/dist-packages (from notebook>=4.4.1->widgetsnbextension~=3.5.0->ipywidgets>=7.5.0->fairlearn) (2.11.3)\n",
            "Requirement already satisfied: wcwidth in /usr/local/lib/python3.7/dist-packages (from prompt-toolkit<2.0.0,>=1.0.4->ipython>=4.0.0; python_version >= \"3.3\"->ipywidgets>=7.5.0->fairlearn) (0.2.5)\n",
            "Requirement already satisfied: ptyprocess>=0.5 in /usr/local/lib/python3.7/dist-packages (from pexpect; sys_platform != \"win32\"->ipython>=4.0.0; python_version >= \"3.3\"->ipywidgets>=7.5.0->fairlearn) (0.7.0)\n",
            "Requirement already satisfied: pyzmq>=13 in /usr/local/lib/python3.7/dist-packages (from jupyter-client->ipykernel>=4.5.1->ipywidgets>=7.5.0->fairlearn) (22.0.3)\n",
            "Requirement already satisfied: mistune<2,>=0.8.1 in /usr/local/lib/python3.7/dist-packages (from nbconvert->notebook>=4.4.1->widgetsnbextension~=3.5.0->ipywidgets>=7.5.0->fairlearn) (0.8.4)\n",
            "Requirement already satisfied: defusedxml in /usr/local/lib/python3.7/dist-packages (from nbconvert->notebook>=4.4.1->widgetsnbextension~=3.5.0->ipywidgets>=7.5.0->fairlearn) (0.7.1)\n",
            "Requirement already satisfied: entrypoints>=0.2.2 in /usr/local/lib/python3.7/dist-packages (from nbconvert->notebook>=4.4.1->widgetsnbextension~=3.5.0->ipywidgets>=7.5.0->fairlearn) (0.3)\n",
            "Requirement already satisfied: pandocfilters>=1.4.1 in /usr/local/lib/python3.7/dist-packages (from nbconvert->notebook>=4.4.1->widgetsnbextension~=3.5.0->ipywidgets>=7.5.0->fairlearn) (1.4.3)\n",
            "Requirement already satisfied: bleach in /usr/local/lib/python3.7/dist-packages (from nbconvert->notebook>=4.4.1->widgetsnbextension~=3.5.0->ipywidgets>=7.5.0->fairlearn) (3.3.0)\n",
            "Requirement already satisfied: testpath in /usr/local/lib/python3.7/dist-packages (from nbconvert->notebook>=4.4.1->widgetsnbextension~=3.5.0->ipywidgets>=7.5.0->fairlearn) (0.4.4)\n",
            "Requirement already satisfied: MarkupSafe>=0.23 in /usr/local/lib/python3.7/dist-packages (from jinja2->notebook>=4.4.1->widgetsnbextension~=3.5.0->ipywidgets>=7.5.0->fairlearn) (1.1.1)\n",
            "Requirement already satisfied: webencodings in /usr/local/lib/python3.7/dist-packages (from bleach->nbconvert->notebook>=4.4.1->widgetsnbextension~=3.5.0->ipywidgets>=7.5.0->fairlearn) (0.5.1)\n",
            "Requirement already satisfied: packaging in /usr/local/lib/python3.7/dist-packages (from bleach->nbconvert->notebook>=4.4.1->widgetsnbextension~=3.5.0->ipywidgets>=7.5.0->fairlearn) (20.9)\n",
            "Requirement already satisfied: pyparsing>=2.0.2 in /usr/local/lib/python3.7/dist-packages (from packaging->bleach->nbconvert->notebook>=4.4.1->widgetsnbextension~=3.5.0->ipywidgets>=7.5.0->fairlearn) (2.4.7)\n",
            "Requirement already satisfied: BlackBoxAuditing in /usr/local/lib/python3.7/dist-packages (0.1.54)\n",
            "Requirement already satisfied: pandas in /usr/local/lib/python3.7/dist-packages (from BlackBoxAuditing) (1.1.5)\n",
            "Requirement already satisfied: networkx in /usr/local/lib/python3.7/dist-packages (from BlackBoxAuditing) (2.5.1)\n",
            "Requirement already satisfied: matplotlib in /usr/local/lib/python3.7/dist-packages (from BlackBoxAuditing) (3.4.1)\n",
            "Requirement already satisfied: numpy in /usr/local/lib/python3.7/dist-packages (from BlackBoxAuditing) (1.18.5)\n",
            "Requirement already satisfied: pytz>=2017.2 in /usr/local/lib/python3.7/dist-packages (from pandas->BlackBoxAuditing) (2018.9)\n",
            "Requirement already satisfied: python-dateutil>=2.7.3 in /usr/local/lib/python3.7/dist-packages (from pandas->BlackBoxAuditing) (2.8.1)\n",
            "Requirement already satisfied: decorator<5,>=4.3 in /usr/local/lib/python3.7/dist-packages (from networkx->BlackBoxAuditing) (4.4.2)\n",
            "Requirement already satisfied: cycler>=0.10 in /usr/local/lib/python3.7/dist-packages (from matplotlib->BlackBoxAuditing) (0.10.0)\n",
            "Requirement already satisfied: pyparsing>=2.2.1 in /usr/local/lib/python3.7/dist-packages (from matplotlib->BlackBoxAuditing) (2.4.7)\n",
            "Requirement already satisfied: pillow>=6.2.0 in /usr/local/lib/python3.7/dist-packages (from matplotlib->BlackBoxAuditing) (7.1.2)\n",
            "Requirement already satisfied: kiwisolver>=1.0.1 in /usr/local/lib/python3.7/dist-packages (from matplotlib->BlackBoxAuditing) (1.3.1)\n",
            "Requirement already satisfied: six>=1.5 in /usr/local/lib/python3.7/dist-packages (from python-dateutil>=2.7.3->pandas->BlackBoxAuditing) (1.15.0)\n"
          ],
          "name": "stdout"
        }
      ]
    },
    {
      "cell_type": "code",
      "metadata": {
        "id": "P0q9WLhvTT9D"
      },
      "source": [
        "#importing required library packages:\n",
        "import sklearn\n",
        "from sklearn import metrics\n",
        "from sklearn.metrics import accuracy_score\n",
        "from sklearn.preprocessing import LabelEncoder\n",
        "from sklearn.ensemble import RandomForestClassifier\n",
        "from sklearn.linear_model import LogisticRegression\n",
        "from sklearn.preprocessing import StandardScaler\n",
        "from sklearn.model_selection import train_test_split, cross_val_score\n",
        "\n",
        "import aif360\n",
        "from aif360.metrics import BinaryLabelDatasetMetric\n",
        "from aif360.algorithms.preprocessing import Reweighing\n",
        "from aif360.algorithms.preprocessing.reweighing import Reweighing\n",
        "from aif360.algorithms.preprocessing import DisparateImpactRemover\n",
        "\n",
        "\n",
        "from IPython.display import Markdown, display"
      ],
      "execution_count": null,
      "outputs": []
    },
    {
      "cell_type": "code",
      "metadata": {
        "id": "nSsq5DaPrZ2s",
        "colab": {
          "base_uri": "https://localhost:8080/",
          "height": 408
        },
        "outputId": "9958c072-cd11-4979-d298-a66b95a14533"
      },
      "source": [
        "# Using Police_search data to bulid algorithm and ML model\n",
        "df = Police_search.copy()\n",
        "df.head()"
      ],
      "execution_count": null,
      "outputs": [
        {
          "output_type": "execute_result",
          "data": {
            "text/html": [
              "<div>\n",
              "<style scoped>\n",
              "    .dataframe tbody tr th:only-of-type {\n",
              "        vertical-align: middle;\n",
              "    }\n",
              "\n",
              "    .dataframe tbody tr th {\n",
              "        vertical-align: top;\n",
              "    }\n",
              "\n",
              "    .dataframe thead th {\n",
              "        text-align: right;\n",
              "    }\n",
              "</style>\n",
              "<table border=\"1\" class=\"dataframe\">\n",
              "  <thead>\n",
              "    <tr style=\"text-align: right;\">\n",
              "      <th></th>\n",
              "      <th>Type</th>\n",
              "      <th>Gender</th>\n",
              "      <th>Age range</th>\n",
              "      <th>Officer-defined ethnicity</th>\n",
              "      <th>Outcome</th>\n",
              "      <th>Arrested</th>\n",
              "      <th>Ethnicity</th>\n",
              "    </tr>\n",
              "  </thead>\n",
              "  <tbody>\n",
              "    <tr>\n",
              "      <th>0</th>\n",
              "      <td>Person and Vehicle search</td>\n",
              "      <td>Female</td>\n",
              "      <td>25-34</td>\n",
              "      <td>White</td>\n",
              "      <td>A no further action disposal</td>\n",
              "      <td>False</td>\n",
              "      <td>White</td>\n",
              "    </tr>\n",
              "    <tr>\n",
              "      <th>1</th>\n",
              "      <td>Person search</td>\n",
              "      <td>Female</td>\n",
              "      <td>18-24</td>\n",
              "      <td>White</td>\n",
              "      <td>A no further action disposal</td>\n",
              "      <td>False</td>\n",
              "      <td>White</td>\n",
              "    </tr>\n",
              "    <tr>\n",
              "      <th>2</th>\n",
              "      <td>Person search</td>\n",
              "      <td>Male</td>\n",
              "      <td>18-24</td>\n",
              "      <td>Black</td>\n",
              "      <td>A no further action disposal</td>\n",
              "      <td>False</td>\n",
              "      <td>Non-White</td>\n",
              "    </tr>\n",
              "    <tr>\n",
              "      <th>3</th>\n",
              "      <td>Person search</td>\n",
              "      <td>Male</td>\n",
              "      <td>18-24</td>\n",
              "      <td>White</td>\n",
              "      <td>A no further action disposal</td>\n",
              "      <td>False</td>\n",
              "      <td>White</td>\n",
              "    </tr>\n",
              "    <tr>\n",
              "      <th>4</th>\n",
              "      <td>Vehicle search</td>\n",
              "      <td>NaN</td>\n",
              "      <td>NaN</td>\n",
              "      <td>NaN</td>\n",
              "      <td>A no further action disposal</td>\n",
              "      <td>False</td>\n",
              "      <td>Non-White</td>\n",
              "    </tr>\n",
              "  </tbody>\n",
              "</table>\n",
              "</div>"
            ],
            "text/plain": [
              "                        Type  Gender  ... Arrested  Ethnicity\n",
              "0  Person and Vehicle search  Female  ...    False      White\n",
              "1              Person search  Female  ...    False      White\n",
              "2              Person search    Male  ...    False  Non-White\n",
              "3              Person search    Male  ...    False      White\n",
              "4             Vehicle search     NaN  ...    False  Non-White\n",
              "\n",
              "[5 rows x 7 columns]"
            ]
          },
          "metadata": {
            "tags": []
          },
          "execution_count": 415
        }
      ]
    },
    {
      "cell_type": "code",
      "metadata": {
        "id": "UFOBxST_tDbz",
        "colab": {
          "base_uri": "https://localhost:8080/"
        },
        "outputId": "40ed0ac1-20ec-48ae-d3a0-da45ea6d423f"
      },
      "source": [
        "df[\"Ethnicity\"].value_counts()"
      ],
      "execution_count": null,
      "outputs": [
        {
          "output_type": "execute_result",
          "data": {
            "text/plain": [
              "White        304\n",
              "Non-White    106\n",
              "Other         12\n",
              "Name: Ethnicity, dtype: int64"
            ]
          },
          "metadata": {
            "tags": []
          },
          "execution_count": 416
        }
      ]
    },
    {
      "cell_type": "code",
      "metadata": {
        "colab": {
          "base_uri": "https://localhost:8080/"
        },
        "id": "FVfr8CtSw0W3",
        "outputId": "06480600-1993-4383-c82f-c4d633ece531"
      },
      "source": [
        "df[\"Arrested\"].value_counts()"
      ],
      "execution_count": null,
      "outputs": [
        {
          "output_type": "execute_result",
          "data": {
            "text/plain": [
              "False    334\n",
              "True      88\n",
              "Name: Arrested, dtype: int64"
            ]
          },
          "metadata": {
            "tags": []
          },
          "execution_count": 417
        }
      ]
    },
    {
      "cell_type": "code",
      "metadata": {
        "colab": {
          "base_uri": "https://localhost:8080/"
        },
        "id": "T9ETitCax_rf",
        "outputId": "2978ef02-b657-4f7b-af4f-75b6866051dc"
      },
      "source": [
        "print (df.dtypes)"
      ],
      "execution_count": null,
      "outputs": [
        {
          "output_type": "stream",
          "text": [
            "Type                         object\n",
            "Gender                       object\n",
            "Age range                    object\n",
            "Officer-defined ethnicity    object\n",
            "Outcome                      object\n",
            "Arrested                       bool\n",
            "Ethnicity                    object\n",
            "dtype: object\n"
          ],
          "name": "stdout"
        }
      ]
    },
    {
      "cell_type": "code",
      "metadata": {
        "colab": {
          "base_uri": "https://localhost:8080/",
          "height": 408
        },
        "id": "8NbUpVq3_sYt",
        "outputId": "f33b7619-ce43-4e9b-d065-5ae856ebe2a5"
      },
      "source": [
        "#Replacing boolean values with string\n",
        "df['Arrested'] = df['Arrested'].replace({True:'Yes', False:'No'})\n",
        "df.head()"
      ],
      "execution_count": null,
      "outputs": [
        {
          "output_type": "execute_result",
          "data": {
            "text/html": [
              "<div>\n",
              "<style scoped>\n",
              "    .dataframe tbody tr th:only-of-type {\n",
              "        vertical-align: middle;\n",
              "    }\n",
              "\n",
              "    .dataframe tbody tr th {\n",
              "        vertical-align: top;\n",
              "    }\n",
              "\n",
              "    .dataframe thead th {\n",
              "        text-align: right;\n",
              "    }\n",
              "</style>\n",
              "<table border=\"1\" class=\"dataframe\">\n",
              "  <thead>\n",
              "    <tr style=\"text-align: right;\">\n",
              "      <th></th>\n",
              "      <th>Type</th>\n",
              "      <th>Gender</th>\n",
              "      <th>Age range</th>\n",
              "      <th>Officer-defined ethnicity</th>\n",
              "      <th>Outcome</th>\n",
              "      <th>Arrested</th>\n",
              "      <th>Ethnicity</th>\n",
              "    </tr>\n",
              "  </thead>\n",
              "  <tbody>\n",
              "    <tr>\n",
              "      <th>0</th>\n",
              "      <td>Person and Vehicle search</td>\n",
              "      <td>Female</td>\n",
              "      <td>25-34</td>\n",
              "      <td>White</td>\n",
              "      <td>A no further action disposal</td>\n",
              "      <td>No</td>\n",
              "      <td>White</td>\n",
              "    </tr>\n",
              "    <tr>\n",
              "      <th>1</th>\n",
              "      <td>Person search</td>\n",
              "      <td>Female</td>\n",
              "      <td>18-24</td>\n",
              "      <td>White</td>\n",
              "      <td>A no further action disposal</td>\n",
              "      <td>No</td>\n",
              "      <td>White</td>\n",
              "    </tr>\n",
              "    <tr>\n",
              "      <th>2</th>\n",
              "      <td>Person search</td>\n",
              "      <td>Male</td>\n",
              "      <td>18-24</td>\n",
              "      <td>Black</td>\n",
              "      <td>A no further action disposal</td>\n",
              "      <td>No</td>\n",
              "      <td>Non-White</td>\n",
              "    </tr>\n",
              "    <tr>\n",
              "      <th>3</th>\n",
              "      <td>Person search</td>\n",
              "      <td>Male</td>\n",
              "      <td>18-24</td>\n",
              "      <td>White</td>\n",
              "      <td>A no further action disposal</td>\n",
              "      <td>No</td>\n",
              "      <td>White</td>\n",
              "    </tr>\n",
              "    <tr>\n",
              "      <th>4</th>\n",
              "      <td>Vehicle search</td>\n",
              "      <td>NaN</td>\n",
              "      <td>NaN</td>\n",
              "      <td>NaN</td>\n",
              "      <td>A no further action disposal</td>\n",
              "      <td>No</td>\n",
              "      <td>Non-White</td>\n",
              "    </tr>\n",
              "  </tbody>\n",
              "</table>\n",
              "</div>"
            ],
            "text/plain": [
              "                        Type  Gender  ... Arrested  Ethnicity\n",
              "0  Person and Vehicle search  Female  ...       No      White\n",
              "1              Person search  Female  ...       No      White\n",
              "2              Person search    Male  ...       No  Non-White\n",
              "3              Person search    Male  ...       No      White\n",
              "4             Vehicle search     NaN  ...       No  Non-White\n",
              "\n",
              "[5 rows x 7 columns]"
            ]
          },
          "metadata": {
            "tags": []
          },
          "execution_count": 419
        }
      ]
    },
    {
      "cell_type": "code",
      "metadata": {
        "colab": {
          "base_uri": "https://localhost:8080/"
        },
        "id": "TlYXSyCFo2oM",
        "outputId": "55723b01-2e28-4bba-a584-037510886713"
      },
      "source": [
        "df[\"Ethnicity\"].value_counts()"
      ],
      "execution_count": null,
      "outputs": [
        {
          "output_type": "execute_result",
          "data": {
            "text/plain": [
              "White        304\n",
              "Non-White    106\n",
              "Other         12\n",
              "Name: Ethnicity, dtype: int64"
            ]
          },
          "metadata": {
            "tags": []
          },
          "execution_count": 420
        }
      ]
    },
    {
      "cell_type": "code",
      "metadata": {
        "id": "8rM-mHrBsBQu"
      },
      "source": [
        "df = df[df[\"Ethnicity\"]!=\"Other\"]"
      ],
      "execution_count": null,
      "outputs": []
    },
    {
      "cell_type": "code",
      "metadata": {
        "colab": {
          "base_uri": "https://localhost:8080/"
        },
        "id": "QYSpWQFZxgSU",
        "outputId": "4aa9da31-dfcd-42d9-b607-74dd1c133770"
      },
      "source": [
        "df[\"Ethnicity\"].value_counts()"
      ],
      "execution_count": null,
      "outputs": [
        {
          "output_type": "execute_result",
          "data": {
            "text/plain": [
              "White        304\n",
              "Non-White    106\n",
              "Name: Ethnicity, dtype: int64"
            ]
          },
          "metadata": {
            "tags": []
          },
          "execution_count": 422
        }
      ]
    },
    {
      "cell_type": "code",
      "metadata": {
        "colab": {
          "base_uri": "https://localhost:8080/"
        },
        "id": "d6ycz-HfBn1P",
        "outputId": "1871caaf-4d39-429d-b2b9-17c931b408b1"
      },
      "source": [
        "df[\"Arrested\"].value_counts()"
      ],
      "execution_count": null,
      "outputs": [
        {
          "output_type": "execute_result",
          "data": {
            "text/plain": [
              "No     324\n",
              "Yes     86\n",
              "Name: Arrested, dtype: int64"
            ]
          },
          "metadata": {
            "tags": []
          },
          "execution_count": 423
        }
      ]
    },
    {
      "cell_type": "code",
      "metadata": {
        "colab": {
          "base_uri": "https://localhost:8080/"
        },
        "id": "zImaC7BBncrG",
        "outputId": "9128fbec-b0db-442f-9cd1-e2d01d5df36e"
      },
      "source": [
        "df[\"Gender\"].value_counts()"
      ],
      "execution_count": null,
      "outputs": [
        {
          "output_type": "execute_result",
          "data": {
            "text/plain": [
              "Male      334\n",
              "Female     39\n",
              "Name: Gender, dtype: int64"
            ]
          },
          "metadata": {
            "tags": []
          },
          "execution_count": 424
        }
      ]
    },
    {
      "cell_type": "code",
      "metadata": {
        "colab": {
          "base_uri": "https://localhost:8080/"
        },
        "id": "MrIEA2b77eej",
        "outputId": "4b195c3c-fffa-478b-ef97-c24120811d59"
      },
      "source": [
        "df.info()"
      ],
      "execution_count": null,
      "outputs": [
        {
          "output_type": "stream",
          "text": [
            "<class 'pandas.core.frame.DataFrame'>\n",
            "Int64Index: 410 entries, 0 to 420\n",
            "Data columns (total 7 columns):\n",
            " #   Column                     Non-Null Count  Dtype \n",
            "---  ------                     --------------  ----- \n",
            " 0   Type                       410 non-null    object\n",
            " 1   Gender                     373 non-null    object\n",
            " 2   Age range                  365 non-null    object\n",
            " 3   Officer-defined ethnicity  362 non-null    object\n",
            " 4   Outcome                    407 non-null    object\n",
            " 5   Arrested                   410 non-null    object\n",
            " 6   Ethnicity                  410 non-null    object\n",
            "dtypes: object(7)\n",
            "memory usage: 25.6+ KB\n"
          ],
          "name": "stdout"
        }
      ]
    },
    {
      "cell_type": "code",
      "metadata": {
        "id": "264EQAEbLMmI"
      },
      "source": [
        "#Manually encoding ethnicity and arrest columns\n",
        "\n",
        "df.loc[df.Ethnicity == \"White\",\"Ethnicity\"] = 1        #Priviliged\n",
        "df.loc[df.Ethnicity == \"Non-White\",\"Ethnicity\"] = 0    #Unpriviliged\n",
        "\n",
        "df.loc[df.Arrested == \"Yes\",\"Ethnicity\"] = 1        \n",
        "df.loc[df.Ethnicity == \"No\",\"Ethnicity\"] = 0        \n",
        "\n"
      ],
      "execution_count": null,
      "outputs": []
    },
    {
      "cell_type": "code",
      "metadata": {
        "id": "AsSi-dCxrkya"
      },
      "source": [
        "y = df[\"Arrested\"]"
      ],
      "execution_count": null,
      "outputs": []
    },
    {
      "cell_type": "code",
      "metadata": {
        "id": "QHGT5rfWiq6v"
      },
      "source": [
        "numerical_ft=[\"Age range\"]\n",
        "scaler = StandardScaler()"
      ],
      "execution_count": null,
      "outputs": []
    },
    {
      "cell_type": "code",
      "metadata": {
        "colab": {
          "base_uri": "https://localhost:8080/",
          "height": 510
        },
        "id": "5uj9eap19dBO",
        "outputId": "ba5c45ee-1349-4ad2-af30-819ac68964a5"
      },
      "source": [
        "from sklearn import preprocessing\n",
        "categorical_column = ['Arrested', 'Ethnicity', 'Gender']\n",
        "\n",
        "data_encoded = df.copy(deep=True)\n",
        "#Use Scikit-learn label encoding to encode character data\n",
        "lab_enc = preprocessing.LabelEncoder()\n",
        "for col in categorical_column:\n",
        "        data_encoded[col] = lab_enc.fit_transform(df[col])\n",
        "        le_name_mapping = dict(zip(lab_enc.classes_, lab_enc.transform(lab_enc.classes_)))\n",
        "        print('Feature', col)\n",
        "        print('mapping', le_name_mapping)\n",
        "        \n",
        "\n",
        "data_encoded.head()"
      ],
      "execution_count": null,
      "outputs": [
        {
          "output_type": "stream",
          "text": [
            "Feature Arrested\n",
            "mapping {'No': 0, 'Yes': 1}\n",
            "Feature Ethnicity\n",
            "mapping {0: 0, 1: 1}\n",
            "Feature Gender\n",
            "mapping {'Female': 0, 'Male': 1, nan: 2}\n"
          ],
          "name": "stdout"
        },
        {
          "output_type": "execute_result",
          "data": {
            "text/html": [
              "<div>\n",
              "<style scoped>\n",
              "    .dataframe tbody tr th:only-of-type {\n",
              "        vertical-align: middle;\n",
              "    }\n",
              "\n",
              "    .dataframe tbody tr th {\n",
              "        vertical-align: top;\n",
              "    }\n",
              "\n",
              "    .dataframe thead th {\n",
              "        text-align: right;\n",
              "    }\n",
              "</style>\n",
              "<table border=\"1\" class=\"dataframe\">\n",
              "  <thead>\n",
              "    <tr style=\"text-align: right;\">\n",
              "      <th></th>\n",
              "      <th>Type</th>\n",
              "      <th>Gender</th>\n",
              "      <th>Age range</th>\n",
              "      <th>Officer-defined ethnicity</th>\n",
              "      <th>Outcome</th>\n",
              "      <th>Arrested</th>\n",
              "      <th>Ethnicity</th>\n",
              "    </tr>\n",
              "  </thead>\n",
              "  <tbody>\n",
              "    <tr>\n",
              "      <th>0</th>\n",
              "      <td>Person and Vehicle search</td>\n",
              "      <td>0</td>\n",
              "      <td>25-34</td>\n",
              "      <td>White</td>\n",
              "      <td>A no further action disposal</td>\n",
              "      <td>0</td>\n",
              "      <td>1</td>\n",
              "    </tr>\n",
              "    <tr>\n",
              "      <th>1</th>\n",
              "      <td>Person search</td>\n",
              "      <td>0</td>\n",
              "      <td>18-24</td>\n",
              "      <td>White</td>\n",
              "      <td>A no further action disposal</td>\n",
              "      <td>0</td>\n",
              "      <td>1</td>\n",
              "    </tr>\n",
              "    <tr>\n",
              "      <th>2</th>\n",
              "      <td>Person search</td>\n",
              "      <td>1</td>\n",
              "      <td>18-24</td>\n",
              "      <td>Black</td>\n",
              "      <td>A no further action disposal</td>\n",
              "      <td>0</td>\n",
              "      <td>0</td>\n",
              "    </tr>\n",
              "    <tr>\n",
              "      <th>3</th>\n",
              "      <td>Person search</td>\n",
              "      <td>1</td>\n",
              "      <td>18-24</td>\n",
              "      <td>White</td>\n",
              "      <td>A no further action disposal</td>\n",
              "      <td>0</td>\n",
              "      <td>1</td>\n",
              "    </tr>\n",
              "    <tr>\n",
              "      <th>4</th>\n",
              "      <td>Vehicle search</td>\n",
              "      <td>2</td>\n",
              "      <td>NaN</td>\n",
              "      <td>NaN</td>\n",
              "      <td>A no further action disposal</td>\n",
              "      <td>0</td>\n",
              "      <td>0</td>\n",
              "    </tr>\n",
              "  </tbody>\n",
              "</table>\n",
              "</div>"
            ],
            "text/plain": [
              "                        Type  Gender  ... Arrested Ethnicity\n",
              "0  Person and Vehicle search       0  ...        0         1\n",
              "1              Person search       0  ...        0         1\n",
              "2              Person search       1  ...        0         0\n",
              "3              Person search       1  ...        0         1\n",
              "4             Vehicle search       2  ...        0         0\n",
              "\n",
              "[5 rows x 7 columns]"
            ]
          },
          "metadata": {
            "tags": []
          },
          "execution_count": 429
        }
      ]
    },
    {
      "cell_type": "code",
      "metadata": {
        "id": "Aiw56StA4LUb"
      },
      "source": [
        "df.loc[df.Ethnicity == \"White\",\"Ethnicity\"] = 1\n",
        "df.loc[df.Ethnicity == \"Non-White\", \"Ethnicity\"] = 0\n",
        "\n",
        "df.loc[df.Arrested ==\"Yes\", \"Arrested\"] = 1\n",
        "df.loc[df.Arrested ==\"No\", \"Arrested\"] = 0"
      ],
      "execution_count": null,
      "outputs": []
    },
    {
      "cell_type": "code",
      "metadata": {
        "colab": {
          "base_uri": "https://localhost:8080/"
        },
        "id": "OSHfe6GAl5IG",
        "outputId": "83f5834e-517c-43d6-9df4-7cec475ac98b"
      },
      "source": [
        "df.shape"
      ],
      "execution_count": null,
      "outputs": [
        {
          "output_type": "execute_result",
          "data": {
            "text/plain": [
              "(410, 7)"
            ]
          },
          "metadata": {
            "tags": []
          },
          "execution_count": 431
        }
      ]
    },
    {
      "cell_type": "code",
      "metadata": {
        "id": "YpMYe_oAsmdD"
      },
      "source": [
        ""
      ],
      "execution_count": null,
      "outputs": []
    },
    {
      "cell_type": "code",
      "metadata": {
        "id": "O0fGlRqpFpUO"
      },
      "source": [
        "categorical_ft = df[df.columns.difference(numerical_ft)] \n",
        "categorical_ft = categorical_ft[categorical_ft.columns.difference([\"Ethnicity\", \"Arrested\"])]\n",
        "categorical_columns = categorical_ft.columns.to_list()\n",
        "\n",
        "for column in categorical_column:\n",
        "  encode = pd.get_dummies(df[column], prefix = column)\n",
        "  df = df.drop(column, axis = 1)\n",
        "  df = df.join(encode)"
      ],
      "execution_count": null,
      "outputs": []
    },
    {
      "cell_type": "code",
      "metadata": {
        "colab": {
          "base_uri": "https://localhost:8080/"
        },
        "id": "NBdAiosDlxhB",
        "outputId": "8cb9c3c0-13fc-448e-b33a-3fc5769644fc"
      },
      "source": [
        "df.shape"
      ],
      "execution_count": null,
      "outputs": [
        {
          "output_type": "execute_result",
          "data": {
            "text/plain": [
              "(410, 10)"
            ]
          },
          "metadata": {
            "tags": []
          },
          "execution_count": 433
        }
      ]
    },
    {
      "cell_type": "code",
      "metadata": {
        "id": "FEYsFJ6xsBor"
      },
      "source": [
        "encoded_df = df.copy()"
      ],
      "execution_count": null,
      "outputs": []
    },
    {
      "cell_type": "code",
      "metadata": {
        "id": "RHz5HcemtM5F"
      },
      "source": [
        "x = encoded_df.drop([\"Type\", \"Outcome\"],axis=1)"
      ],
      "execution_count": null,
      "outputs": []
    },
    {
      "cell_type": "code",
      "metadata": {
        "id": "kajojGwSDas5"
      },
      "source": [
        "y = y.astype('int')"
      ],
      "execution_count": null,
      "outputs": []
    },
    {
      "cell_type": "code",
      "metadata": {
        "id": "7nNLDgBoDqm1"
      },
      "source": [
        "x_train, x_test, y_train, y_test = train_test_split(x, y, test_size = 0.3, random_state = 0)"
      ],
      "execution_count": null,
      "outputs": []
    },
    {
      "cell_type": "code",
      "metadata": {
        "id": "oBvb_3m47wf6"
      },
      "source": [
        "privileged_groups = [{'Ethnicity': 'White'}]\n",
        "unprivileged_groups = [{'Ethnicity': 'Non-white'}]\n",
        "favorable_label = 1 \n",
        "unfavorable_label = 0"
      ],
      "execution_count": null,
      "outputs": []
    },
    {
      "cell_type": "code",
      "metadata": {
        "colab": {
          "base_uri": "https://localhost:8080/"
        },
        "id": "8TrHHXS5vEmU",
        "outputId": "733f344a-e932-42a6-8b12-6ffdd5125fc4"
      },
      "source": [
        "\n",
        "test = x_test.copy()\n",
        "test['Arrested'] = y_test\n",
        "test.shape"
      ],
      "execution_count": null,
      "outputs": [
        {
          "output_type": "execute_result",
          "data": {
            "text/plain": [
              "(123, 9)"
            ]
          },
          "metadata": {
            "tags": []
          },
          "execution_count": 439
        }
      ]
    },
    {
      "cell_type": "code",
      "metadata": {
        "colab": {
          "base_uri": "https://localhost:8080/",
          "height": 130
        },
        "id": "1yjiAO5Ovs9y",
        "outputId": "c66aef1b-b9ab-4697-bb58-dba278adaa22"
      },
      "source": [
        "Non-White_df = test[test['Arrested'] == 1]\n",
        "num_of_priviliged = Non-White_df.shape[0]\n",
        "White_df = test[test['Arrested'] == 0]\n",
        "num_of_unpriviliged = White_df.shape[0]"
      ],
      "execution_count": null,
      "outputs": [
        {
          "output_type": "error",
          "ename": "SyntaxError",
          "evalue": "ignored",
          "traceback": [
            "\u001b[0;36m  File \u001b[0;32m\"<ipython-input-440-e727b608df06>\"\u001b[0;36m, line \u001b[0;32m1\u001b[0m\n\u001b[0;31m    Non-White_df = test[test['Arrested'] == 1]\u001b[0m\n\u001b[0m                                              ^\u001b[0m\n\u001b[0;31mSyntaxError\u001b[0m\u001b[0;31m:\u001b[0m can't assign to operator\n"
          ]
        }
      ]
    },
    {
      "cell_type": "code",
      "metadata": {
        "id": "fsu-seH9XrMp"
      },
      "source": [
        "dataset_orig = Police_search(\n",
        "    protected_attribute_names=['Ethnicity'],      \n",
        "    )\n",
        "\n",
        "dataset_orig_train, dataset_orig_test = dataset_orig.split([0.7], shuffle=True)\n",
        "\n",
        "privileged_groups = [{'Ethnicity': 'White'}]\n",
        "unprivileged_groups = [{'Ethnicity': 'Non-White'}]"
      ],
      "execution_count": null,
      "outputs": []
    }
  ]
}