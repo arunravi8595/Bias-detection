{
  "nbformat": 4,
  "nbformat_minor": 0,
  "metadata": {
    "colab": {
      "name": "UK_police_bias.ipynb",
      "provenance": [],
      "collapsed_sections": [],
      "authorship_tag": "ABX9TyOomESX1JD695C9nc8+90BG",
      "include_colab_link": true
    },
    "kernelspec": {
      "name": "python3",
      "display_name": "Python 3"
    }
  },
  "cells": [
    {
      "cell_type": "markdown",
      "metadata": {
        "id": "view-in-github",
        "colab_type": "text"
      },
      "source": [
        "<a href=\"https://colab.research.google.com/github/arunravi8595/CE888_Assignment_2/blob/main/UK_police_bias.ipynb\" target=\"_parent\"><img src=\"https://colab.research.google.com/assets/colab-badge.svg\" alt=\"Open In Colab\"/></a>"
      ]
    },
    {
      "cell_type": "code",
      "metadata": {
        "id": "DQI_qJcmJHy5"
      },
      "source": [
        "#Import required libraries\n",
        "\n",
        "import numpy as np\n",
        "import pandas as pd\n",
        "import seaborn as sns\n",
        "import matplotlib.pyplot as plt\n",
        "from sklearn.preprocessing import LabelEncoder\n",
        "from sklearn.model_selection import train_test_split, cross_val_score\n",
        "from sklearn.ensemble import RandomForestClassifier\n"
      ],
      "execution_count": 324,
      "outputs": []
    },
    {
      "cell_type": "code",
      "metadata": {
        "id": "Fi7hNFAcAwt2"
      },
      "source": [
        "\n",
        "#To find ethnicity distribution in Stop & Search by Police\n",
        "#Data downloaded from https://data.police.uk/data/\n",
        "Police_search = pd.read_csv('https://raw.githubusercontent.com/arunravi8595/CE888/main/Assignment/2020-12-essex-stop-and-search.csv') \n"
      ],
      "execution_count": 325,
      "outputs": []
    },
    {
      "cell_type": "code",
      "metadata": {
        "colab": {
          "base_uri": "https://localhost:8080/"
        },
        "id": "L_25CwJRWP2_",
        "outputId": "d54014b4-4698-4dfc-ae8e-f76b98dfc6c1"
      },
      "source": [
        "Police_search.shape"
      ],
      "execution_count": 326,
      "outputs": [
        {
          "output_type": "execute_result",
          "data": {
            "text/plain": [
              "(422, 15)"
            ]
          },
          "metadata": {
            "tags": []
          },
          "execution_count": 326
        }
      ]
    },
    {
      "cell_type": "code",
      "metadata": {
        "colab": {
          "base_uri": "https://localhost:8080/"
        },
        "id": "lQBYE8RYX5fA",
        "outputId": "29655877-bae0-48c2-872f-bde008f7ef34"
      },
      "source": [
        "#Check NaN in data\n",
        "Police_search.isnull().sum()"
      ],
      "execution_count": 327,
      "outputs": [
        {
          "output_type": "execute_result",
          "data": {
            "text/plain": [
              "Type                                          0\n",
              "Date                                          0\n",
              "Part of a policing operation                  0\n",
              "Policing operation                          422\n",
              "Latitude                                      4\n",
              "Longitude                                     4\n",
              "Gender                                       37\n",
              "Age range                                    45\n",
              "Self-defined ethnicity                       37\n",
              "Officer-defined ethnicity                    48\n",
              "Legislation                                   0\n",
              "Object of search                              0\n",
              "Outcome                                       3\n",
              "Outcome linked to object of search            0\n",
              "Removal of more than just outer clothing     37\n",
              "dtype: int64"
            ]
          },
          "metadata": {
            "tags": []
          },
          "execution_count": 327
        }
      ]
    },
    {
      "cell_type": "code",
      "metadata": {
        "id": "4LDRMVZ_YQQV"
      },
      "source": [
        "# Drop columns with NaN values\n",
        "Police_search = Police_search[Police_search[\"Outcome\"].notna()]"
      ],
      "execution_count": 328,
      "outputs": []
    },
    {
      "cell_type": "code",
      "metadata": {
        "colab": {
          "base_uri": "https://localhost:8080/",
          "height": 581
        },
        "id": "7kvmxcHKWZmv",
        "outputId": "08c0c9c6-7cc1-42c7-de7f-edb7552ce543"
      },
      "source": [
        "Police_search.head()"
      ],
      "execution_count": 329,
      "outputs": [
        {
          "output_type": "execute_result",
          "data": {
            "text/html": [
              "<div>\n",
              "<style scoped>\n",
              "    .dataframe tbody tr th:only-of-type {\n",
              "        vertical-align: middle;\n",
              "    }\n",
              "\n",
              "    .dataframe tbody tr th {\n",
              "        vertical-align: top;\n",
              "    }\n",
              "\n",
              "    .dataframe thead th {\n",
              "        text-align: right;\n",
              "    }\n",
              "</style>\n",
              "<table border=\"1\" class=\"dataframe\">\n",
              "  <thead>\n",
              "    <tr style=\"text-align: right;\">\n",
              "      <th></th>\n",
              "      <th>Type</th>\n",
              "      <th>Date</th>\n",
              "      <th>Part of a policing operation</th>\n",
              "      <th>Policing operation</th>\n",
              "      <th>Latitude</th>\n",
              "      <th>Longitude</th>\n",
              "      <th>Gender</th>\n",
              "      <th>Age range</th>\n",
              "      <th>Self-defined ethnicity</th>\n",
              "      <th>Officer-defined ethnicity</th>\n",
              "      <th>Legislation</th>\n",
              "      <th>Object of search</th>\n",
              "      <th>Outcome</th>\n",
              "      <th>Outcome linked to object of search</th>\n",
              "      <th>Removal of more than just outer clothing</th>\n",
              "    </tr>\n",
              "  </thead>\n",
              "  <tbody>\n",
              "    <tr>\n",
              "      <th>0</th>\n",
              "      <td>Person and Vehicle search</td>\n",
              "      <td>2020-12-01T00:01:00+00:00</td>\n",
              "      <td>False</td>\n",
              "      <td>NaN</td>\n",
              "      <td>51.881413</td>\n",
              "      <td>0.215455</td>\n",
              "      <td>Female</td>\n",
              "      <td>25-34</td>\n",
              "      <td>Other ethnic group - Not stated</td>\n",
              "      <td>White</td>\n",
              "      <td>Police and Criminal Evidence Act 1984 (section 1)</td>\n",
              "      <td>Articles for use in criminal damage</td>\n",
              "      <td>A no further action disposal</td>\n",
              "      <td>False</td>\n",
              "      <td>False</td>\n",
              "    </tr>\n",
              "    <tr>\n",
              "      <th>1</th>\n",
              "      <td>Person search</td>\n",
              "      <td>2020-12-01T00:01:00+00:00</td>\n",
              "      <td>False</td>\n",
              "      <td>NaN</td>\n",
              "      <td>51.636110</td>\n",
              "      <td>0.062590</td>\n",
              "      <td>Female</td>\n",
              "      <td>18-24</td>\n",
              "      <td>White - English/Welsh/Scottish/Northern Irish/...</td>\n",
              "      <td>White</td>\n",
              "      <td>Misuse of Drugs Act 1971 (section 23)</td>\n",
              "      <td>Controlled drugs</td>\n",
              "      <td>A no further action disposal</td>\n",
              "      <td>False</td>\n",
              "      <td>False</td>\n",
              "    </tr>\n",
              "    <tr>\n",
              "      <th>2</th>\n",
              "      <td>Person search</td>\n",
              "      <td>2020-12-01T00:01:00+00:00</td>\n",
              "      <td>False</td>\n",
              "      <td>NaN</td>\n",
              "      <td>51.636546</td>\n",
              "      <td>0.063333</td>\n",
              "      <td>Male</td>\n",
              "      <td>18-24</td>\n",
              "      <td>Black/African/Caribbean/Black British - Caribbean</td>\n",
              "      <td>Black</td>\n",
              "      <td>Misuse of Drugs Act 1971 (section 23)</td>\n",
              "      <td>Controlled drugs</td>\n",
              "      <td>A no further action disposal</td>\n",
              "      <td>False</td>\n",
              "      <td>False</td>\n",
              "    </tr>\n",
              "    <tr>\n",
              "      <th>3</th>\n",
              "      <td>Person search</td>\n",
              "      <td>2020-12-01T01:01:00+00:00</td>\n",
              "      <td>False</td>\n",
              "      <td>NaN</td>\n",
              "      <td>51.629479</td>\n",
              "      <td>0.439730</td>\n",
              "      <td>Male</td>\n",
              "      <td>18-24</td>\n",
              "      <td>Other ethnic group - Not stated</td>\n",
              "      <td>White</td>\n",
              "      <td>Misuse of Drugs Act 1971 (section 23)</td>\n",
              "      <td>Controlled drugs</td>\n",
              "      <td>A no further action disposal</td>\n",
              "      <td>False</td>\n",
              "      <td>False</td>\n",
              "    </tr>\n",
              "    <tr>\n",
              "      <th>4</th>\n",
              "      <td>Vehicle search</td>\n",
              "      <td>2020-12-01T01:01:00+00:00</td>\n",
              "      <td>False</td>\n",
              "      <td>NaN</td>\n",
              "      <td>51.629479</td>\n",
              "      <td>0.439730</td>\n",
              "      <td>NaN</td>\n",
              "      <td>NaN</td>\n",
              "      <td>NaN</td>\n",
              "      <td>NaN</td>\n",
              "      <td>Misuse of Drugs Act 1971 (section 23)</td>\n",
              "      <td>Controlled drugs</td>\n",
              "      <td>A no further action disposal</td>\n",
              "      <td>False</td>\n",
              "      <td>NaN</td>\n",
              "    </tr>\n",
              "  </tbody>\n",
              "</table>\n",
              "</div>"
            ],
            "text/plain": [
              "                        Type  ... Removal of more than just outer clothing\n",
              "0  Person and Vehicle search  ...                                    False\n",
              "1              Person search  ...                                    False\n",
              "2              Person search  ...                                    False\n",
              "3              Person search  ...                                    False\n",
              "4             Vehicle search  ...                                      NaN\n",
              "\n",
              "[5 rows x 15 columns]"
            ]
          },
          "metadata": {
            "tags": []
          },
          "execution_count": 329
        }
      ]
    },
    {
      "cell_type": "code",
      "metadata": {
        "colab": {
          "base_uri": "https://localhost:8080/",
          "height": 173
        },
        "id": "2y41qBJL0VY2",
        "outputId": "37767e67-ab88-4030-c5b6-621c1dcfe728"
      },
      "source": [
        "#Taking only the required columns from the dataset\n",
        "\n",
        "Police_search = Police_search[['Type','Gender','Age range','Officer-defined ethnicity','Outcome','Outcome linked to object of search']]\n",
        "data = Police_search.dropna()\n",
        "data = data.reset_index(drop=True)\n",
        "data.describe()"
      ],
      "execution_count": 330,
      "outputs": [
        {
          "output_type": "execute_result",
          "data": {
            "text/html": [
              "<div>\n",
              "<style scoped>\n",
              "    .dataframe tbody tr th:only-of-type {\n",
              "        vertical-align: middle;\n",
              "    }\n",
              "\n",
              "    .dataframe tbody tr th {\n",
              "        vertical-align: top;\n",
              "    }\n",
              "\n",
              "    .dataframe thead th {\n",
              "        text-align: right;\n",
              "    }\n",
              "</style>\n",
              "<table border=\"1\" class=\"dataframe\">\n",
              "  <thead>\n",
              "    <tr style=\"text-align: right;\">\n",
              "      <th></th>\n",
              "      <th>Type</th>\n",
              "      <th>Gender</th>\n",
              "      <th>Age range</th>\n",
              "      <th>Officer-defined ethnicity</th>\n",
              "      <th>Outcome</th>\n",
              "      <th>Outcome linked to object of search</th>\n",
              "    </tr>\n",
              "  </thead>\n",
              "  <tbody>\n",
              "    <tr>\n",
              "      <th>count</th>\n",
              "      <td>364</td>\n",
              "      <td>364</td>\n",
              "      <td>364</td>\n",
              "      <td>364</td>\n",
              "      <td>364</td>\n",
              "      <td>364</td>\n",
              "    </tr>\n",
              "    <tr>\n",
              "      <th>unique</th>\n",
              "      <td>2</td>\n",
              "      <td>2</td>\n",
              "      <td>4</td>\n",
              "      <td>4</td>\n",
              "      <td>5</td>\n",
              "      <td>2</td>\n",
              "    </tr>\n",
              "    <tr>\n",
              "      <th>top</th>\n",
              "      <td>Person search</td>\n",
              "      <td>Male</td>\n",
              "      <td>18-24</td>\n",
              "      <td>White</td>\n",
              "      <td>A no further action disposal</td>\n",
              "      <td>False</td>\n",
              "    </tr>\n",
              "    <tr>\n",
              "      <th>freq</th>\n",
              "      <td>287</td>\n",
              "      <td>325</td>\n",
              "      <td>159</td>\n",
              "      <td>294</td>\n",
              "      <td>284</td>\n",
              "      <td>288</td>\n",
              "    </tr>\n",
              "  </tbody>\n",
              "</table>\n",
              "</div>"
            ],
            "text/plain": [
              "                 Type  ... Outcome linked to object of search\n",
              "count             364  ...                                364\n",
              "unique              2  ...                                  2\n",
              "top     Person search  ...                              False\n",
              "freq              287  ...                                288\n",
              "\n",
              "[4 rows x 6 columns]"
            ]
          },
          "metadata": {
            "tags": []
          },
          "execution_count": 330
        }
      ]
    },
    {
      "cell_type": "markdown",
      "metadata": {
        "id": "LB8Kd2VB2Sku"
      },
      "source": [
        "**Understanding the field of importance in the data**\n",
        "\n",
        "To know which part of the data to be checked for bias. Visualising the information from the stop and search can provide a general idea on what part needs to be analyzed.\n",
        "The main task is to find how ethnicity plays a role in police search. So the information that is related to ethnic distribution is considered."
      ]
    },
    {
      "cell_type": "code",
      "metadata": {
        "colab": {
          "base_uri": "https://localhost:8080/"
        },
        "id": "Xeg2qpDIWkIM",
        "outputId": "784800fd-3646-44ab-a484-2ea68795594c"
      },
      "source": [
        "Police_search[\"Officer-defined ethnicity\"].value_counts()"
      ],
      "execution_count": 331,
      "outputs": [
        {
          "output_type": "execute_result",
          "data": {
            "text/plain": [
              "White    302\n",
              "Black     46\n",
              "Asian     12\n",
              "Other     12\n",
              "Name: Officer-defined ethnicity, dtype: int64"
            ]
          },
          "metadata": {
            "tags": []
          },
          "execution_count": 331
        }
      ]
    },
    {
      "cell_type": "code",
      "metadata": {
        "colab": {
          "base_uri": "https://localhost:8080/",
          "height": 296
        },
        "id": "Z9XeZUH5Wu5Q",
        "outputId": "e7d26e9e-e0b6-486b-de72-a64ffb53efa9"
      },
      "source": [
        "#Plot ethnicity distribution\n",
        "sns.countplot(x=\"Officer-defined ethnicity\", data = Police_search)"
      ],
      "execution_count": 332,
      "outputs": [
        {
          "output_type": "execute_result",
          "data": {
            "text/plain": [
              "<matplotlib.axes._subplots.AxesSubplot at 0x7f090ddb8410>"
            ]
          },
          "metadata": {
            "tags": []
          },
          "execution_count": 332
        },
        {
          "output_type": "display_data",
          "data": {
            "image/png": "[encoded data removed]",
            "text/plain": [
              "<Figure size 432x288 with 1 Axes>"
            ]
          },
          "metadata": {
            "tags": [],
            "needs_background": "light"
          }
        }
      ]
    },
    {
      "cell_type": "code",
      "metadata": {
        "id": "HGMLC_PHv1Ak"
      },
      "source": [
        "#Combine different Non-white categoriess into a single class\n",
        "\n",
        "Ethnicity = []\n",
        "for x in Police_search[\"Officer-defined ethnicity\"]:\n",
        "  if x == \"White\":\n",
        "    y = \"White\"  \n",
        "  elif x == \"Other\":\n",
        "    y = \"Other\"\n",
        "  else:\n",
        "    y = \"Non-White\"     \n",
        "  Ethnicity.append(y)       \n",
        "  \n",
        "Police_search[\"Ethnicity\"] = Ethnicity        "
      ],
      "execution_count": 333,
      "outputs": []
    },
    {
      "cell_type": "code",
      "metadata": {
        "colab": {
          "base_uri": "https://localhost:8080/"
        },
        "id": "q_9i9EKgzR9p",
        "outputId": "07fa7b71-623e-44e7-e520-946a493c1330"
      },
      "source": [
        "Police_search[\"Ethnicity\"].value_counts()"
      ],
      "execution_count": 334,
      "outputs": [
        {
          "output_type": "execute_result",
          "data": {
            "text/plain": [
              "White        302\n",
              "Non-White    105\n",
              "Other         12\n",
              "Name: Ethnicity, dtype: int64"
            ]
          },
          "metadata": {
            "tags": []
          },
          "execution_count": 334
        }
      ]
    },
    {
      "cell_type": "code",
      "metadata": {
        "colab": {
          "base_uri": "https://localhost:8080/",
          "height": 520
        },
        "id": "1CE70pFfce3g",
        "outputId": "e5847a78-2b1d-407c-bc34-49e1b3b2185f"
      },
      "source": [
        "graph = Police_search['Ethnicity'].value_counts().plot(kind='bar', figsize=(10,7),\n",
        "                                                  color=\"grey\", fontsize=13);\n",
        "graph.set_alpha(0.8)\n",
        "graph.set_title(\"Ethnic distribution in Police search\", fontsize=12)\n",
        "graph.set_ylabel('Count', fontsize=12)\n",
        "graph.set_xlabel('Ethnicity', fontsize=12)\n",
        "\n",
        "totals = []\n",
        "\n",
        "# find the values and append to list\n",
        "for i in graph.patches:\n",
        "    totals.append(i.get_height())\n",
        "\n",
        "# set individual bar lables using above list\n",
        "total = sum(totals)\n",
        "\n",
        "# set individual bar lables using above list\n",
        "for i in graph.patches:\n",
        "    # get_x pulls left or right; get_height pushes up or down\n",
        "    graph.text(i.get_x()+0.15, i.get_height()+5, \\\n",
        "            str(round((i.get_height()/total)*100, 2))+'%', fontsize=13.5,\n",
        "                color='red')"
      ],
      "execution_count": 335,
      "outputs": [
        {
          "output_type": "display_data",
          "data": {
            "image/png": "[encoded data removed]",
            "text/plain": [
              "<Figure size 720x504 with 1 Axes>"
            ]
          },
          "metadata": {
            "tags": [],
            "needs_background": "light"
          }
        }
      ]
    },
    {
      "cell_type": "code",
      "metadata": {
        "colab": {
          "base_uri": "https://localhost:8080/",
          "height": 664
        },
        "id": "Mg9Nff975Uai",
        "outputId": "421f0aff-c433-4143-91bd-178883c4c3af"
      },
      "source": [
        "#To find the outcome decision taken by police officers based on ethnicity\n",
        "Police_search.groupby('Outcome')['Ethnicity'].value_counts().unstack(0).plot.bar(title='Search Decision by ethnicity', figsize=(15,10));"
      ],
      "execution_count": 336,
      "outputs": [
        {
          "output_type": "display_data",
          "data": {
            "image/png": "[encoded data removed]",
            "text/plain": [
              "<Figure size 1080x720 with 1 Axes>"
            ]
          },
          "metadata": {
            "tags": [],
            "needs_background": "light"
          }
        }
      ]
    },
    {
      "cell_type": "code",
      "metadata": {
        "colab": {
          "base_uri": "https://localhost:8080/"
        },
        "id": "bwnfSNO6PHR9",
        "outputId": "54094a0f-3497-403f-86d6-87c3493c3b26"
      },
      "source": [
        "# In the data, \"Outcome linked to object of search\" specifies whether the suspect has been arrested or not\n",
        "# Hence the column is renamed as \"Arrested\" which has the info as TRUE or FALSE\n",
        "Police_search.rename(columns = {'Outcome linked to object of search':'Arrested'}, inplace = True)\n",
        "Police_search[\"Arrested\"].value_counts()"
      ],
      "execution_count": 337,
      "outputs": [
        {
          "output_type": "execute_result",
          "data": {
            "text/plain": [
              "False    332\n",
              "True      87\n",
              "Name: Arrested, dtype: int64"
            ]
          },
          "metadata": {
            "tags": []
          },
          "execution_count": 337
        }
      ]
    },
    {
      "cell_type": "code",
      "metadata": {
        "id": "lWSQvGRs_ZVh",
        "colab": {
          "base_uri": "https://localhost:8080/",
          "height": 296
        },
        "outputId": "0f7201a2-dc22-4461-ffd3-12670a756722"
      },
      "source": [
        "sns.countplot(x = \"Arrested\", data = Police_search)"
      ],
      "execution_count": 338,
      "outputs": [
        {
          "output_type": "execute_result",
          "data": {
            "text/plain": [
              "<matplotlib.axes._subplots.AxesSubplot at 0x7f0912e6e2d0>"
            ]
          },
          "metadata": {
            "tags": []
          },
          "execution_count": 338
        },
        {
          "output_type": "display_data",
          "data": {
            "image/png": "[encoded data removed]",
            "text/plain": [
              "<Figure size 432x288 with 1 Axes>"
            ]
          },
          "metadata": {
            "tags": [],
            "needs_background": "light"
          }
        }
      ]
    },
    {
      "cell_type": "code",
      "metadata": {
        "colab": {
          "base_uri": "https://localhost:8080/",
          "height": 484
        },
        "id": "70B2v_4ktaD0",
        "outputId": "da0c737d-cf66-4cfe-a691-1fd2ecaa090d"
      },
      "source": [
        "graph = Police_search['Arrested'].value_counts().plot(kind='bar', figsize=(10,7),\n",
        "                                                  color=\"grey\", fontsize=13);\n",
        "graph.set_alpha(0.8)\n",
        "graph.set_title(\"Percentage of arrested people\", fontsize=12)\n",
        "graph.set_ylabel('Count', fontsize=12)\n",
        "graph.set_xlabel('Arrested', fontsize=12)\n",
        "\n",
        "totals = []\n",
        "\n",
        "# find the values and append to list\n",
        "for i in graph.patches:\n",
        "    totals.append(i.get_height())\n",
        "\n",
        "# set individual bar lables using above list\n",
        "total = sum(totals)\n",
        "\n",
        "# set individual bar lables using above list\n",
        "for i in graph.patches:\n",
        "    # get_x pulls left or right; get_height pushes up or down\n",
        "    graph.text(i.get_x()+0.16, i.get_height()+5, \\\n",
        "            str(round((i.get_height()/total)*100, 2))+'%', fontsize=13.5,\n",
        "                color='red')"
      ],
      "execution_count": 339,
      "outputs": [
        {
          "output_type": "display_data",
          "data": {
            "image/png": "[encoded data removed]",
            "text/plain": [
              "<Figure size 720x504 with 1 Axes>"
            ]
          },
          "metadata": {
            "tags": [],
            "needs_background": "light"
          }
        }
      ]
    },
    {
      "cell_type": "code",
      "metadata": {
        "colab": {
          "base_uri": "https://localhost:8080/",
          "height": 296
        },
        "id": "gXEYzhiAMtRW",
        "outputId": "eb3ca7ae-7fd1-45b4-cb0c-6e56f284f613"
      },
      "source": [
        "Arrested_race = Police_search[Police_search[\"Ethnicity\"] == \"White\"]\n",
        "sns.countplot(x=\"Ethnicity\", data = Arrested_race)"
      ],
      "execution_count": 340,
      "outputs": [
        {
          "output_type": "execute_result",
          "data": {
            "text/plain": [
              "<matplotlib.axes._subplots.AxesSubplot at 0x7f0912bacf50>"
            ]
          },
          "metadata": {
            "tags": []
          },
          "execution_count": 340
        },
        {
          "output_type": "display_data",
          "data": {
            "image/png": "[encoded data removed]",
            "text/plain": [
              "<Figure size 432x288 with 1 Axes>"
            ]
          },
          "metadata": {
            "tags": [],
            "needs_background": "light"
          }
        }
      ]
    },
    {
      "cell_type": "code",
      "metadata": {
        "id": "264EQAEbLMmI"
      },
      "source": [
        "#Manually encoding ethnicity and arrest columns\n",
        "\n",
        "Police_search.loc[Police_search.Ethnicity == \"White\",\"Ethnicity\"] = 0\n",
        "Police_search.loc[Police_search.Ethnicity == \"Non-white\",\"Ethnicity\"] = 1\n"
      ],
      "execution_count": 341,
      "outputs": []
    },
    {
      "cell_type": "code",
      "metadata": {
        "colab": {
          "base_uri": "https://localhost:8080/"
        },
        "id": "dtVvXiyNql1Y",
        "outputId": "118d71b4-2c8e-4e91-8753-e60670388f5d"
      },
      "source": [
        "Police_search['Arrested'].value_counts(normalize=True).mul(100).astype(str)+'%'"
      ],
      "execution_count": 342,
      "outputs": [
        {
          "output_type": "execute_result",
          "data": {
            "text/plain": [
              "False     79.23627684964201%\n",
              "True     20.763723150357997%\n",
              "Name: Arrested, dtype: object"
            ]
          },
          "metadata": {
            "tags": []
          },
          "execution_count": 342
        }
      ]
    },
    {
      "cell_type": "code",
      "metadata": {
        "colab": {
          "base_uri": "https://localhost:8080/",
          "height": 324
        },
        "id": "Q_USSfYFRwUy",
        "outputId": "895717ac-e93d-4e85-9ef4-115ebfd50888"
      },
      "source": [
        "arrested_df = Police_search[Police_search[\"Arrested\"] == \"True\"]\n",
        "sns.countplot(x = \"Ethnicity\", data = arrested_df)"
      ],
      "execution_count": 343,
      "outputs": [
        {
          "output_type": "error",
          "ename": "ValueError",
          "evalue": "ignored",
          "traceback": [
            "\u001b[0;31m---------------------------------------------------------------------------\u001b[0m",
            "\u001b[0;31mValueError\u001b[0m                                Traceback (most recent call last)",
            "\u001b[0;32m<ipython-input-343-724be2390b67>\u001b[0m in \u001b[0;36m<module>\u001b[0;34m()\u001b[0m\n\u001b[1;32m      1\u001b[0m \u001b[0marrested_df\u001b[0m \u001b[0;34m=\u001b[0m \u001b[0mPolice_search\u001b[0m\u001b[0;34m[\u001b[0m\u001b[0mPolice_search\u001b[0m\u001b[0;34m[\u001b[0m\u001b[0;34m\"Arrested\"\u001b[0m\u001b[0;34m]\u001b[0m \u001b[0;34m==\u001b[0m \u001b[0;34m\"True\"\u001b[0m\u001b[0;34m]\u001b[0m\u001b[0;34m\u001b[0m\u001b[0;34m\u001b[0m\u001b[0m\n\u001b[0;32m----> 2\u001b[0;31m \u001b[0msns\u001b[0m\u001b[0;34m.\u001b[0m\u001b[0mcountplot\u001b[0m\u001b[0;34m(\u001b[0m\u001b[0mx\u001b[0m \u001b[0;34m=\u001b[0m \u001b[0;34m\"Ethnicity\"\u001b[0m\u001b[0;34m,\u001b[0m \u001b[0mdata\u001b[0m \u001b[0;34m=\u001b[0m \u001b[0marrested_df\u001b[0m\u001b[0;34m)\u001b[0m\u001b[0;34m\u001b[0m\u001b[0;34m\u001b[0m\u001b[0m\n\u001b[0m",
            "\u001b[0;32m/usr/local/lib/python3.7/dist-packages/seaborn/_decorators.py\u001b[0m in \u001b[0;36minner_f\u001b[0;34m(*args, **kwargs)\u001b[0m\n\u001b[1;32m     44\u001b[0m             )\n\u001b[1;32m     45\u001b[0m         \u001b[0mkwargs\u001b[0m\u001b[0;34m.\u001b[0m\u001b[0mupdate\u001b[0m\u001b[0;34m(\u001b[0m\u001b[0;34m{\u001b[0m\u001b[0mk\u001b[0m\u001b[0;34m:\u001b[0m \u001b[0marg\u001b[0m \u001b[0;32mfor\u001b[0m \u001b[0mk\u001b[0m\u001b[0;34m,\u001b[0m \u001b[0marg\u001b[0m \u001b[0;32min\u001b[0m \u001b[0mzip\u001b[0m\u001b[0;34m(\u001b[0m\u001b[0msig\u001b[0m\u001b[0;34m.\u001b[0m\u001b[0mparameters\u001b[0m\u001b[0;34m,\u001b[0m \u001b[0margs\u001b[0m\u001b[0;34m)\u001b[0m\u001b[0;34m}\u001b[0m\u001b[0;34m)\u001b[0m\u001b[0;34m\u001b[0m\u001b[0;34m\u001b[0m\u001b[0m\n\u001b[0;32m---> 46\u001b[0;31m         \u001b[0;32mreturn\u001b[0m \u001b[0mf\u001b[0m\u001b[0;34m(\u001b[0m\u001b[0;34m**\u001b[0m\u001b[0mkwargs\u001b[0m\u001b[0;34m)\u001b[0m\u001b[0;34m\u001b[0m\u001b[0;34m\u001b[0m\u001b[0m\n\u001b[0m\u001b[1;32m     47\u001b[0m     \u001b[0;32mreturn\u001b[0m \u001b[0minner_f\u001b[0m\u001b[0;34m\u001b[0m\u001b[0;34m\u001b[0m\u001b[0m\n\u001b[1;32m     48\u001b[0m \u001b[0;34m\u001b[0m\u001b[0m\n",
            "\u001b[0;32m/usr/local/lib/python3.7/dist-packages/seaborn/categorical.py\u001b[0m in \u001b[0;36mcountplot\u001b[0;34m(x, y, hue, data, order, hue_order, orient, color, palette, saturation, dodge, ax, **kwargs)\u001b[0m\n\u001b[1;32m   3597\u001b[0m         \u001b[0mestimator\u001b[0m\u001b[0;34m,\u001b[0m \u001b[0mci\u001b[0m\u001b[0;34m,\u001b[0m \u001b[0mn_boot\u001b[0m\u001b[0;34m,\u001b[0m \u001b[0munits\u001b[0m\u001b[0;34m,\u001b[0m \u001b[0mseed\u001b[0m\u001b[0;34m,\u001b[0m\u001b[0;34m\u001b[0m\u001b[0;34m\u001b[0m\u001b[0m\n\u001b[1;32m   3598\u001b[0m         \u001b[0morient\u001b[0m\u001b[0;34m,\u001b[0m \u001b[0mcolor\u001b[0m\u001b[0;34m,\u001b[0m \u001b[0mpalette\u001b[0m\u001b[0;34m,\u001b[0m \u001b[0msaturation\u001b[0m\u001b[0;34m,\u001b[0m\u001b[0;34m\u001b[0m\u001b[0;34m\u001b[0m\u001b[0m\n\u001b[0;32m-> 3599\u001b[0;31m         \u001b[0merrcolor\u001b[0m\u001b[0;34m,\u001b[0m \u001b[0merrwidth\u001b[0m\u001b[0;34m,\u001b[0m \u001b[0mcapsize\u001b[0m\u001b[0;34m,\u001b[0m \u001b[0mdodge\u001b[0m\u001b[0;34m\u001b[0m\u001b[0;34m\u001b[0m\u001b[0m\n\u001b[0m\u001b[1;32m   3600\u001b[0m     )\n\u001b[1;32m   3601\u001b[0m \u001b[0;34m\u001b[0m\u001b[0m\n",
            "\u001b[0;32m/usr/local/lib/python3.7/dist-packages/seaborn/categorical.py\u001b[0m in \u001b[0;36m__init__\u001b[0;34m(self, x, y, hue, data, order, hue_order, estimator, ci, n_boot, units, seed, orient, color, palette, saturation, errcolor, errwidth, capsize, dodge)\u001b[0m\n\u001b[1;32m   1584\u001b[0m         self.establish_variables(x, y, hue, data, orient,\n\u001b[1;32m   1585\u001b[0m                                  order, hue_order, units)\n\u001b[0;32m-> 1586\u001b[0;31m         \u001b[0mself\u001b[0m\u001b[0;34m.\u001b[0m\u001b[0mestablish_colors\u001b[0m\u001b[0;34m(\u001b[0m\u001b[0mcolor\u001b[0m\u001b[0;34m,\u001b[0m \u001b[0mpalette\u001b[0m\u001b[0;34m,\u001b[0m \u001b[0msaturation\u001b[0m\u001b[0;34m)\u001b[0m\u001b[0;34m\u001b[0m\u001b[0;34m\u001b[0m\u001b[0m\n\u001b[0m\u001b[1;32m   1587\u001b[0m         \u001b[0mself\u001b[0m\u001b[0;34m.\u001b[0m\u001b[0mestimate_statistic\u001b[0m\u001b[0;34m(\u001b[0m\u001b[0mestimator\u001b[0m\u001b[0;34m,\u001b[0m \u001b[0mci\u001b[0m\u001b[0;34m,\u001b[0m \u001b[0mn_boot\u001b[0m\u001b[0;34m,\u001b[0m \u001b[0mseed\u001b[0m\u001b[0;34m)\u001b[0m\u001b[0;34m\u001b[0m\u001b[0;34m\u001b[0m\u001b[0m\n\u001b[1;32m   1588\u001b[0m \u001b[0;34m\u001b[0m\u001b[0m\n",
            "\u001b[0;32m/usr/local/lib/python3.7/dist-packages/seaborn/categorical.py\u001b[0m in \u001b[0;36mestablish_colors\u001b[0;34m(self, color, palette, saturation)\u001b[0m\n\u001b[1;32m    317\u001b[0m         \u001b[0;31m# Determine the gray color to use for the lines framing the plot\u001b[0m\u001b[0;34m\u001b[0m\u001b[0;34m\u001b[0m\u001b[0;34m\u001b[0m\u001b[0m\n\u001b[1;32m    318\u001b[0m         \u001b[0mlight_vals\u001b[0m \u001b[0;34m=\u001b[0m \u001b[0;34m[\u001b[0m\u001b[0mcolorsys\u001b[0m\u001b[0;34m.\u001b[0m\u001b[0mrgb_to_hls\u001b[0m\u001b[0;34m(\u001b[0m\u001b[0;34m*\u001b[0m\u001b[0mc\u001b[0m\u001b[0;34m)\u001b[0m\u001b[0;34m[\u001b[0m\u001b[0;36m1\u001b[0m\u001b[0;34m]\u001b[0m \u001b[0;32mfor\u001b[0m \u001b[0mc\u001b[0m \u001b[0;32min\u001b[0m \u001b[0mrgb_colors\u001b[0m\u001b[0;34m]\u001b[0m\u001b[0;34m\u001b[0m\u001b[0;34m\u001b[0m\u001b[0m\n\u001b[0;32m--> 319\u001b[0;31m         \u001b[0mlum\u001b[0m \u001b[0;34m=\u001b[0m \u001b[0mmin\u001b[0m\u001b[0;34m(\u001b[0m\u001b[0mlight_vals\u001b[0m\u001b[0;34m)\u001b[0m \u001b[0;34m*\u001b[0m \u001b[0;36m.6\u001b[0m\u001b[0;34m\u001b[0m\u001b[0;34m\u001b[0m\u001b[0m\n\u001b[0m\u001b[1;32m    320\u001b[0m         \u001b[0mgray\u001b[0m \u001b[0;34m=\u001b[0m \u001b[0mmpl\u001b[0m\u001b[0;34m.\u001b[0m\u001b[0mcolors\u001b[0m\u001b[0;34m.\u001b[0m\u001b[0mrgb2hex\u001b[0m\u001b[0;34m(\u001b[0m\u001b[0;34m(\u001b[0m\u001b[0mlum\u001b[0m\u001b[0;34m,\u001b[0m \u001b[0mlum\u001b[0m\u001b[0;34m,\u001b[0m \u001b[0mlum\u001b[0m\u001b[0;34m)\u001b[0m\u001b[0;34m)\u001b[0m\u001b[0;34m\u001b[0m\u001b[0;34m\u001b[0m\u001b[0m\n\u001b[1;32m    321\u001b[0m \u001b[0;34m\u001b[0m\u001b[0m\n",
            "\u001b[0;31mValueError\u001b[0m: min() arg is an empty sequence"
          ]
        }
      ]
    },
    {
      "cell_type": "code",
      "metadata": {
        "id": "DjOQ7oc5PbhM"
      },
      "source": [
        "Police_search[\"Gender\"].value_counts()"
      ],
      "execution_count": null,
      "outputs": []
    },
    {
      "cell_type": "code",
      "metadata": {
        "id": "nBdT-gvnP3wz"
      },
      "source": [
        ""
      ],
      "execution_count": null,
      "outputs": []
    },
    {
      "cell_type": "code",
      "metadata": {
        "id": "0eXxPl530Z0E"
      },
      "source": [
        "Ethnic_Arrest = Police_search[Police_search[\"Arrested\"] == \"TRUE\"]\n",
        "sns.countplot(x = \"Ethnicity\", data = Ethnic_Arrest)"
      ],
      "execution_count": null,
      "outputs": []
    },
    {
      "cell_type": "markdown",
      "metadata": {
        "id": "InLseDvbTX8Y"
      },
      "source": [
        "**Detection of Bias and Mitigation**\n",
        "\n",
        "Using AIF360 ML Algorithm to address the fairness metrics"
      ]
    },
    {
      "cell_type": "code",
      "metadata": {
        "id": "P0q9WLhvTT9D"
      },
      "source": [
        "#importing required library packages:\n",
        "\n",
        "import sys\n",
        "sys.path.insert(1, \"../\")  \n",
        "\n",
        "import numpy as np\n",
        "np.random.seed(0)\n",
        "\n",
        "!pip install aif360\n",
        "!pip install 'tensorflow>=1.13.1,< 2'\n",
        "\n",
        "import tensorflow as tf\n",
        "\n",
        "from aif360.datasets import GermanDataset\n",
        "from aif360.metrics import BinaryLabelDatasetMetric\n",
        "from aif360.algorithms.preprocessing import Reweighing\n",
        "from aif360.algorithms.preprocessing.reweighing import Reweighing\n",
        "\n",
        "\n",
        "from IPython.display import Markdown, display"
      ],
      "execution_count": null,
      "outputs": []
    },
    {
      "cell_type": "code",
      "metadata": {
        "id": "oBvb_3m47wf6"
      },
      "source": [
        "privileged_groups = [{'Ethnicity': 'White'}]\n",
        "unprivileged_groups = [{'Ethnicity': 'Non-white'}]\n",
        "favorable_label = 1 \n",
        "unfavorable_label = 0"
      ],
      "execution_count": null,
      "outputs": []
    },
    {
      "cell_type": "code",
      "metadata": {
        "id": "EiZGLiXL8Iqq"
      },
      "source": [
        "from sklearn import preprocessing\n",
        "\n",
        "categorical_column = ['Ethnicity', 'Outcome', 'Arrested',]\n",
        "data_encoded = Police_search.copy(deep=True)\n",
        "#Use Scikit-learn label encoding to encode character data\n",
        "lab_enc = preprocessing.LabelEncoder()\n",
        "for col in categorical_column:\n",
        "        data_encoded[col] = lab_enc.fit_transform(Police_search[col])\n",
        "        le_name_mapping = dict(zip(lab_enc.classes_, lab_enc.transform(lab_enc.classes_)))\n",
        "        print('Feature', col)\n",
        "        print('mapping', le_name_mapping)\n",
        "        \n",
        "\n",
        "data_encoded.head()"
      ],
      "execution_count": null,
      "outputs": []
    },
    {
      "cell_type": "code",
      "metadata": {
        "id": "8ZhGKAD-CK_e"
      },
      "source": [
        "pip install -U scikit-learn scipy matplotlib\n"
      ],
      "execution_count": null,
      "outputs": []
    },
    {
      "cell_type": "code",
      "metadata": {
        "id": "7OWN0hop99fG"
      },
      "source": [
        "from sklearn_label_encoder import PipelineLabelEncoder\n",
        "\n",
        "preprocessed_data = PipelineLabelEncoder(columns = ['Ethnicity','Outcome', 'Person Arrested']).fit_transform(data_encoded)"
      ],
      "execution_count": null,
      "outputs": []
    },
    {
      "cell_type": "code",
      "metadata": {
        "id": "dsNf67UR9jsz"
      },
      "source": [
        ""
      ],
      "execution_count": null,
      "outputs": []
    },
    {
      "cell_type": "code",
      "metadata": {
        "id": "fsu-seH9XrMp"
      },
      "source": [
        "dataset_orig = Police_search(\n",
        "    protected_attribute_names=['Ethnicity'],      \n",
        "    )\n",
        "\n",
        "dataset_orig_train, dataset_orig_test = dataset_orig.split([0.7], shuffle=True)\n",
        "\n",
        "privileged_groups = [{'Ethnicity': 'White'}]\n",
        "unprivileged_groups = [{'Ethnicity': 'Non-White'}]"
      ],
      "execution_count": null,
      "outputs": []
    },
    {
      "cell_type": "code",
      "metadata": {
        "colab": {
          "base_uri": "https://localhost:8080/"
        },
        "id": "2Pp-QUxLf_o6",
        "outputId": "4e964694-9d1a-4ad6-83de-9acdfcdc5348"
      },
      "source": [
        "census_data = pd.read_csv('https://raw.githubusercontent.com/arunravi8595/CE888/main/Assignment/Essex_Ethnicity_Census.csv') \n",
        "census_data.shape"
      ],
      "execution_count": 346,
      "outputs": [
        {
          "output_type": "execute_result",
          "data": {
            "text/plain": [
              "(23, 16)"
            ]
          },
          "metadata": {
            "tags": []
          },
          "execution_count": 346
        }
      ]
    },
    {
      "cell_type": "code",
      "metadata": {
        "colab": {
          "base_uri": "https://localhost:8080/"
        },
        "id": "L8AxCc9TgFT4",
        "outputId": "7d920422-19b3-45be-98cd-c652e382f828"
      },
      "source": [
        "#Check NaN in data\n",
        "census_data.isnull().sum()"
      ],
      "execution_count": 347,
      "outputs": [
        {
          "output_type": "execute_result",
          "data": {
            "text/plain": [
              "Category              0\n",
              "Essex                 0\n",
              "Basildon              0\n",
              "Braintree             0\n",
              "Brentwood             0\n",
              "Castle Point          0\n",
              "Chelmsford            0\n",
              "Colchester            0\n",
              "Epping Forest         0\n",
              "Harlow                0\n",
              "Maldon                0\n",
              "Rochford              0\n",
              "Tendring              0\n",
              "Uttlesford            0\n",
              "Southend-on-Sea UA    0\n",
              "Thurrock UA           0\n",
              "dtype: int64"
            ]
          },
          "metadata": {
            "tags": []
          },
          "execution_count": 347
        }
      ]
    },
    {
      "cell_type": "code",
      "metadata": {
        "colab": {
          "base_uri": "https://localhost:8080/",
          "height": 343
        },
        "id": "PB14J4sMgQtU",
        "outputId": "99ca19cb-992a-4328-d5c4-4c4e64ee510d"
      },
      "source": [
        "census_data.head()"
      ],
      "execution_count": 348,
      "outputs": [
        {
          "output_type": "execute_result",
          "data": {
            "text/html": [
              "<div>\n",
              "<style scoped>\n",
              "    .dataframe tbody tr th:only-of-type {\n",
              "        vertical-align: middle;\n",
              "    }\n",
              "\n",
              "    .dataframe tbody tr th {\n",
              "        vertical-align: top;\n",
              "    }\n",
              "\n",
              "    .dataframe thead th {\n",
              "        text-align: right;\n",
              "    }\n",
              "</style>\n",
              "<table border=\"1\" class=\"dataframe\">\n",
              "  <thead>\n",
              "    <tr style=\"text-align: right;\">\n",
              "      <th></th>\n",
              "      <th>Category</th>\n",
              "      <th>Essex</th>\n",
              "      <th>Basildon</th>\n",
              "      <th>Braintree</th>\n",
              "      <th>Brentwood</th>\n",
              "      <th>Castle Point</th>\n",
              "      <th>Chelmsford</th>\n",
              "      <th>Colchester</th>\n",
              "      <th>Epping Forest</th>\n",
              "      <th>Harlow</th>\n",
              "      <th>Maldon</th>\n",
              "      <th>Rochford</th>\n",
              "      <th>Tendring</th>\n",
              "      <th>Uttlesford</th>\n",
              "      <th>Southend-on-Sea UA</th>\n",
              "      <th>Thurrock UA</th>\n",
              "    </tr>\n",
              "  </thead>\n",
              "  <tbody>\n",
              "    <tr>\n",
              "      <th>0</th>\n",
              "      <td>White: British</td>\n",
              "      <td>1264877</td>\n",
              "      <td>156215</td>\n",
              "      <td>137010</td>\n",
              "      <td>65688</td>\n",
              "      <td>83943</td>\n",
              "      <td>151990</td>\n",
              "      <td>151453</td>\n",
              "      <td>106233</td>\n",
              "      <td>68715</td>\n",
              "      <td>59011</td>\n",
              "      <td>79628</td>\n",
              "      <td>131666</td>\n",
              "      <td>73325</td>\n",
              "      <td>151136</td>\n",
              "      <td>127587</td>\n",
              "    </tr>\n",
              "    <tr>\n",
              "      <th>1</th>\n",
              "      <td>White: Irish</td>\n",
              "      <td>11165</td>\n",
              "      <td>1313</td>\n",
              "      <td>1051</td>\n",
              "      <td>921</td>\n",
              "      <td>527</td>\n",
              "      <td>1450</td>\n",
              "      <td>1155</td>\n",
              "      <td>1427</td>\n",
              "      <td>875</td>\n",
              "      <td>358</td>\n",
              "      <td>468</td>\n",
              "      <td>998</td>\n",
              "      <td>622</td>\n",
              "      <td>1496</td>\n",
              "      <td>1108</td>\n",
              "    </tr>\n",
              "    <tr>\n",
              "      <th>2</th>\n",
              "      <td>White: Gypsy or Irish Traveller</td>\n",
              "      <td>2161</td>\n",
              "      <td>873</td>\n",
              "      <td>132</td>\n",
              "      <td>121</td>\n",
              "      <td>17</td>\n",
              "      <td>212</td>\n",
              "      <td>79</td>\n",
              "      <td>176</td>\n",
              "      <td>117</td>\n",
              "      <td>201</td>\n",
              "      <td>49</td>\n",
              "      <td>62</td>\n",
              "      <td>122</td>\n",
              "      <td>162</td>\n",
              "      <td>308</td>\n",
              "    </tr>\n",
              "    <tr>\n",
              "      <th>3</th>\n",
              "      <td>White: Other White</td>\n",
              "      <td>35653</td>\n",
              "      <td>3276</td>\n",
              "      <td>3894</td>\n",
              "      <td>2138</td>\n",
              "      <td>786</td>\n",
              "      <td>4331</td>\n",
              "      <td>6619</td>\n",
              "      <td>5033</td>\n",
              "      <td>3292</td>\n",
              "      <td>859</td>\n",
              "      <td>792</td>\n",
              "      <td>1941</td>\n",
              "      <td>2692</td>\n",
              "      <td>6229</td>\n",
              "      <td>6426</td>\n",
              "    </tr>\n",
              "    <tr>\n",
              "      <th>4</th>\n",
              "      <td>Mixed/multiple ethnic group: White and Black C...</td>\n",
              "      <td>6936</td>\n",
              "      <td>1131</td>\n",
              "      <td>554</td>\n",
              "      <td>343</td>\n",
              "      <td>346</td>\n",
              "      <td>854</td>\n",
              "      <td>889</td>\n",
              "      <td>881</td>\n",
              "      <td>654</td>\n",
              "      <td>152</td>\n",
              "      <td>296</td>\n",
              "      <td>595</td>\n",
              "      <td>241</td>\n",
              "      <td>1039</td>\n",
              "      <td>1056</td>\n",
              "    </tr>\n",
              "  </tbody>\n",
              "</table>\n",
              "</div>"
            ],
            "text/plain": [
              "                                            Category  ...  Thurrock UA\n",
              "0                                     White: British  ...       127587\n",
              "1                                       White: Irish  ...         1108\n",
              "2                    White: Gypsy or Irish Traveller  ...          308\n",
              "3                                 White: Other White  ...         6426\n",
              "4  Mixed/multiple ethnic group: White and Black C...  ...         1056\n",
              "\n",
              "[5 rows x 16 columns]"
            ]
          },
          "metadata": {
            "tags": []
          },
          "execution_count": 348
        }
      ]
    },
    {
      "cell_type": "code",
      "metadata": {
        "colab": {
          "base_uri": "https://localhost:8080/"
        },
        "id": "vOW3oB8O4ojj",
        "outputId": "f5eefef0-c0fa-4a48-9214-af678e9e5528"
      },
      "source": [
        "list(census_data.columns.values)"
      ],
      "execution_count": 349,
      "outputs": [
        {
          "output_type": "execute_result",
          "data": {
            "text/plain": [
              "['Category',\n",
              " 'Essex ',\n",
              " 'Basildon',\n",
              " 'Braintree',\n",
              " 'Brentwood',\n",
              " 'Castle Point',\n",
              " 'Chelmsford',\n",
              " 'Colchester',\n",
              " 'Epping Forest',\n",
              " 'Harlow',\n",
              " 'Maldon',\n",
              " 'Rochford',\n",
              " 'Tendring',\n",
              " 'Uttlesford',\n",
              " 'Southend-on-Sea UA',\n",
              " 'Thurrock UA']"
            ]
          },
          "metadata": {
            "tags": []
          },
          "execution_count": 349
        }
      ]
    },
    {
      "cell_type": "code",
      "metadata": {
        "colab": {
          "base_uri": "https://localhost:8080/",
          "height": 204
        },
        "id": "fOiOliu2q0ep",
        "outputId": "898f2808-a6a1-4124-ba2e-cc29f8c1b57e"
      },
      "source": [
        "census_data.rename(columns = {'Essex ':'Essex'}, inplace = True)\n",
        "census = census_data[['Category','Essex']]\n",
        "census.head()"
      ],
      "execution_count": 350,
      "outputs": [
        {
          "output_type": "execute_result",
          "data": {
            "text/html": [
              "<div>\n",
              "<style scoped>\n",
              "    .dataframe tbody tr th:only-of-type {\n",
              "        vertical-align: middle;\n",
              "    }\n",
              "\n",
              "    .dataframe tbody tr th {\n",
              "        vertical-align: top;\n",
              "    }\n",
              "\n",
              "    .dataframe thead th {\n",
              "        text-align: right;\n",
              "    }\n",
              "</style>\n",
              "<table border=\"1\" class=\"dataframe\">\n",
              "  <thead>\n",
              "    <tr style=\"text-align: right;\">\n",
              "      <th></th>\n",
              "      <th>Category</th>\n",
              "      <th>Essex</th>\n",
              "    </tr>\n",
              "  </thead>\n",
              "  <tbody>\n",
              "    <tr>\n",
              "      <th>0</th>\n",
              "      <td>White: British</td>\n",
              "      <td>1264877</td>\n",
              "    </tr>\n",
              "    <tr>\n",
              "      <th>1</th>\n",
              "      <td>White: Irish</td>\n",
              "      <td>11165</td>\n",
              "    </tr>\n",
              "    <tr>\n",
              "      <th>2</th>\n",
              "      <td>White: Gypsy or Irish Traveller</td>\n",
              "      <td>2161</td>\n",
              "    </tr>\n",
              "    <tr>\n",
              "      <th>3</th>\n",
              "      <td>White: Other White</td>\n",
              "      <td>35653</td>\n",
              "    </tr>\n",
              "    <tr>\n",
              "      <th>4</th>\n",
              "      <td>Mixed/multiple ethnic group: White and Black C...</td>\n",
              "      <td>6936</td>\n",
              "    </tr>\n",
              "  </tbody>\n",
              "</table>\n",
              "</div>"
            ],
            "text/plain": [
              "                                            Category    Essex\n",
              "0                                     White: British  1264877\n",
              "1                                       White: Irish    11165\n",
              "2                    White: Gypsy or Irish Traveller     2161\n",
              "3                                 White: Other White    35653\n",
              "4  Mixed/multiple ethnic group: White and Black C...     6936"
            ]
          },
          "metadata": {
            "tags": []
          },
          "execution_count": 350
        }
      ]
    },
    {
      "cell_type": "code",
      "metadata": {
        "colab": {
          "base_uri": "https://localhost:8080/",
          "height": 793
        },
        "id": "zykaLQwmEgAT",
        "outputId": "b1db9b9c-3878-4de3-ed73-01c68dd568ab"
      },
      "source": [
        "census.set_index('Category')\n"
      ],
      "execution_count": 351,
      "outputs": [
        {
          "output_type": "execute_result",
          "data": {
            "text/html": [
              "<div>\n",
              "<style scoped>\n",
              "    .dataframe tbody tr th:only-of-type {\n",
              "        vertical-align: middle;\n",
              "    }\n",
              "\n",
              "    .dataframe tbody tr th {\n",
              "        vertical-align: top;\n",
              "    }\n",
              "\n",
              "    .dataframe thead th {\n",
              "        text-align: right;\n",
              "    }\n",
              "</style>\n",
              "<table border=\"1\" class=\"dataframe\">\n",
              "  <thead>\n",
              "    <tr style=\"text-align: right;\">\n",
              "      <th></th>\n",
              "      <th>Essex</th>\n",
              "    </tr>\n",
              "    <tr>\n",
              "      <th>Category</th>\n",
              "      <th></th>\n",
              "    </tr>\n",
              "  </thead>\n",
              "  <tbody>\n",
              "    <tr>\n",
              "      <th>White: British</th>\n",
              "      <td>1264877</td>\n",
              "    </tr>\n",
              "    <tr>\n",
              "      <th>White: Irish</th>\n",
              "      <td>11165</td>\n",
              "    </tr>\n",
              "    <tr>\n",
              "      <th>White: Gypsy or Irish Traveller</th>\n",
              "      <td>2161</td>\n",
              "    </tr>\n",
              "    <tr>\n",
              "      <th>White: Other White</th>\n",
              "      <td>35653</td>\n",
              "    </tr>\n",
              "    <tr>\n",
              "      <th>Mixed/multiple ethnic group: White and Black Caribbean</th>\n",
              "      <td>6936</td>\n",
              "    </tr>\n",
              "    <tr>\n",
              "      <th>Mixed/multiple ethnic group: White and Black African</th>\n",
              "      <td>2801</td>\n",
              "    </tr>\n",
              "    <tr>\n",
              "      <th>Mixed/multiple ethnic group: White and Asian</th>\n",
              "      <td>6173</td>\n",
              "    </tr>\n",
              "    <tr>\n",
              "      <th>Mixed/multiple ethnic group: Other Mixed</th>\n",
              "      <td>4975</td>\n",
              "    </tr>\n",
              "    <tr>\n",
              "      <th>Mixed/Multiple Ethnic Group (Total)</th>\n",
              "      <td>20885</td>\n",
              "    </tr>\n",
              "    <tr>\n",
              "      <th>Asian/Asian British: Indian</th>\n",
              "      <td>12456</td>\n",
              "    </tr>\n",
              "    <tr>\n",
              "      <th>Asian/Asian British: Pakistani</th>\n",
              "      <td>3462</td>\n",
              "    </tr>\n",
              "    <tr>\n",
              "      <th>Asian/Asian British: Bangladeshi</th>\n",
              "      <td>2747</td>\n",
              "    </tr>\n",
              "    <tr>\n",
              "      <th>Asian/Asian British: Chinese</th>\n",
              "      <td>6361</td>\n",
              "    </tr>\n",
              "    <tr>\n",
              "      <th>Asian/Asian British: Other Asian</th>\n",
              "      <td>9834</td>\n",
              "    </tr>\n",
              "    <tr>\n",
              "      <th>Asian/Asian British (Total)</th>\n",
              "      <td>34860</td>\n",
              "    </tr>\n",
              "    <tr>\n",
              "      <th>Black/African/Caribbean/Black British: African</th>\n",
              "      <td>12143</td>\n",
              "    </tr>\n",
              "    <tr>\n",
              "      <th>Black/African/Caribbean/Black British: Caribbean</th>\n",
              "      <td>4556</td>\n",
              "    </tr>\n",
              "    <tr>\n",
              "      <th>Black/African/Caribbean/Black British: Other Black</th>\n",
              "      <td>2010</td>\n",
              "    </tr>\n",
              "    <tr>\n",
              "      <th>Black/Black British (Total)</th>\n",
              "      <td>18709</td>\n",
              "    </tr>\n",
              "    <tr>\n",
              "      <th>Other ethnic group: Arab</th>\n",
              "      <td>2042</td>\n",
              "    </tr>\n",
              "    <tr>\n",
              "      <th>Other ethnic group: Any other ethnic group</th>\n",
              "      <td>3235</td>\n",
              "    </tr>\n",
              "    <tr>\n",
              "      <th>Other Ethnic Groups (Total)</th>\n",
              "      <td>5277</td>\n",
              "    </tr>\n",
              "    <tr>\n",
              "      <th>BAME</th>\n",
              "      <td>79731</td>\n",
              "    </tr>\n",
              "  </tbody>\n",
              "</table>\n",
              "</div>"
            ],
            "text/plain": [
              "                                                      Essex\n",
              "Category                                                   \n",
              "White: British                                      1264877\n",
              "White: Irish                                          11165\n",
              "White: Gypsy or Irish Traveller                        2161\n",
              "White: Other White                                    35653\n",
              "Mixed/multiple ethnic group: White and Black Ca...     6936\n",
              "Mixed/multiple ethnic group: White and Black Af...     2801\n",
              "Mixed/multiple ethnic group: White and Asian           6173\n",
              "Mixed/multiple ethnic group: Other Mixed               4975\n",
              "Mixed/Multiple Ethnic Group (Total)                   20885\n",
              "Asian/Asian British: Indian                           12456\n",
              "Asian/Asian British: Pakistani                         3462\n",
              "Asian/Asian British: Bangladeshi                       2747\n",
              "Asian/Asian British: Chinese                           6361\n",
              "Asian/Asian British: Other Asian                       9834\n",
              "Asian/Asian British (Total)                           34860\n",
              "Black/African/Caribbean/Black British: African        12143\n",
              "Black/African/Caribbean/Black British: Caribbean       4556\n",
              "Black/African/Caribbean/Black British: Other Black     2010\n",
              "Black/Black British (Total)                           18709\n",
              "Other ethnic group: Arab                               2042\n",
              "Other ethnic group: Any other ethnic group             3235\n",
              "Other Ethnic Groups (Total)                            5277\n",
              "BAME                                                  79731"
            ]
          },
          "metadata": {
            "tags": []
          },
          "execution_count": 351
        }
      ]
    },
    {
      "cell_type": "code",
      "metadata": {
        "colab": {
          "base_uri": "https://localhost:8080/"
        },
        "id": "uuceJo5-6zq1",
        "outputId": "4a86de98-098b-46c6-c98b-83e5f87a224e"
      },
      "source": [
        "print (census.dtypes)"
      ],
      "execution_count": 352,
      "outputs": [
        {
          "output_type": "stream",
          "text": [
            "Category    object\n",
            "Essex        int64\n",
            "dtype: object\n"
          ],
          "name": "stdout"
        }
      ]
    },
    {
      "cell_type": "code",
      "metadata": {
        "colab": {
          "base_uri": "https://localhost:8080/",
          "height": 864
        },
        "id": "RoIfkspkvwAe",
        "outputId": "7a75affc-1f4f-4b97-caec-7630db5b8b42"
      },
      "source": [
        "census['Ethnic_percent'] = 100*census['Essex']/census['Essex'].sum()\n",
        "display(census)"
      ],
      "execution_count": 353,
      "outputs": [
        {
          "output_type": "stream",
          "text": [
            "/usr/local/lib/python3.7/dist-packages/ipykernel_launcher.py:1: SettingWithCopyWarning: \n",
            "A value is trying to be set on a copy of a slice from a DataFrame.\n",
            "Try using .loc[row_indexer,col_indexer] = value instead\n",
            "\n",
            "See the caveats in the documentation: https://pandas.pydata.org/pandas-docs/stable/user_guide/indexing.html#returning-a-view-versus-a-copy\n",
            "  \"\"\"Entry point for launching an IPython kernel.\n"
          ],
          "name": "stderr"
        },
        {
          "output_type": "display_data",
          "data": {
            "text/html": [
              "<div>\n",
              "<style scoped>\n",
              "    .dataframe tbody tr th:only-of-type {\n",
              "        vertical-align: middle;\n",
              "    }\n",
              "\n",
              "    .dataframe tbody tr th {\n",
              "        vertical-align: top;\n",
              "    }\n",
              "\n",
              "    .dataframe thead th {\n",
              "        text-align: right;\n",
              "    }\n",
              "</style>\n",
              "<table border=\"1\" class=\"dataframe\">\n",
              "  <thead>\n",
              "    <tr style=\"text-align: right;\">\n",
              "      <th></th>\n",
              "      <th>Category</th>\n",
              "      <th>Essex</th>\n",
              "      <th>Ethnic_percent</th>\n",
              "    </tr>\n",
              "  </thead>\n",
              "  <tbody>\n",
              "    <tr>\n",
              "      <th>0</th>\n",
              "      <td>White: British</td>\n",
              "      <td>1264877</td>\n",
              "      <td>81.444758</td>\n",
              "    </tr>\n",
              "    <tr>\n",
              "      <th>1</th>\n",
              "      <td>White: Irish</td>\n",
              "      <td>11165</td>\n",
              "      <td>0.718908</td>\n",
              "    </tr>\n",
              "    <tr>\n",
              "      <th>2</th>\n",
              "      <td>White: Gypsy or Irish Traveller</td>\n",
              "      <td>2161</td>\n",
              "      <td>0.139146</td>\n",
              "    </tr>\n",
              "    <tr>\n",
              "      <th>3</th>\n",
              "      <td>White: Other White</td>\n",
              "      <td>35653</td>\n",
              "      <td>2.295678</td>\n",
              "    </tr>\n",
              "    <tr>\n",
              "      <th>4</th>\n",
              "      <td>Mixed/multiple ethnic group: White and Black C...</td>\n",
              "      <td>6936</td>\n",
              "      <td>0.446605</td>\n",
              "    </tr>\n",
              "    <tr>\n",
              "      <th>5</th>\n",
              "      <td>Mixed/multiple ethnic group: White and Black A...</td>\n",
              "      <td>2801</td>\n",
              "      <td>0.180355</td>\n",
              "    </tr>\n",
              "    <tr>\n",
              "      <th>6</th>\n",
              "      <td>Mixed/multiple ethnic group: White and Asian</td>\n",
              "      <td>6173</td>\n",
              "      <td>0.397476</td>\n",
              "    </tr>\n",
              "    <tr>\n",
              "      <th>7</th>\n",
              "      <td>Mixed/multiple ethnic group: Other Mixed</td>\n",
              "      <td>4975</td>\n",
              "      <td>0.320338</td>\n",
              "    </tr>\n",
              "    <tr>\n",
              "      <th>8</th>\n",
              "      <td>Mixed/Multiple Ethnic Group (Total)</td>\n",
              "      <td>20885</td>\n",
              "      <td>1.344774</td>\n",
              "    </tr>\n",
              "    <tr>\n",
              "      <th>9</th>\n",
              "      <td>Asian/Asian British: Indian</td>\n",
              "      <td>12456</td>\n",
              "      <td>0.802035</td>\n",
              "    </tr>\n",
              "    <tr>\n",
              "      <th>10</th>\n",
              "      <td>Asian/Asian British: Pakistani</td>\n",
              "      <td>3462</td>\n",
              "      <td>0.222916</td>\n",
              "    </tr>\n",
              "    <tr>\n",
              "      <th>11</th>\n",
              "      <td>Asian/Asian British: Bangladeshi</td>\n",
              "      <td>2747</td>\n",
              "      <td>0.176878</td>\n",
              "    </tr>\n",
              "    <tr>\n",
              "      <th>12</th>\n",
              "      <td>Asian/Asian British: Chinese</td>\n",
              "      <td>6361</td>\n",
              "      <td>0.409581</td>\n",
              "    </tr>\n",
              "    <tr>\n",
              "      <th>13</th>\n",
              "      <td>Asian/Asian British: Other Asian</td>\n",
              "      <td>9834</td>\n",
              "      <td>0.633206</td>\n",
              "    </tr>\n",
              "    <tr>\n",
              "      <th>14</th>\n",
              "      <td>Asian/Asian British (Total)</td>\n",
              "      <td>34860</td>\n",
              "      <td>2.244617</td>\n",
              "    </tr>\n",
              "    <tr>\n",
              "      <th>15</th>\n",
              "      <td>Black/African/Caribbean/Black British: African</td>\n",
              "      <td>12143</td>\n",
              "      <td>0.781881</td>\n",
              "    </tr>\n",
              "    <tr>\n",
              "      <th>16</th>\n",
              "      <td>Black/African/Caribbean/Black British: Caribbean</td>\n",
              "      <td>4556</td>\n",
              "      <td>0.293358</td>\n",
              "    </tr>\n",
              "    <tr>\n",
              "      <th>17</th>\n",
              "      <td>Black/African/Caribbean/Black British: Other B...</td>\n",
              "      <td>2010</td>\n",
              "      <td>0.129423</td>\n",
              "    </tr>\n",
              "    <tr>\n",
              "      <th>18</th>\n",
              "      <td>Black/Black British (Total)</td>\n",
              "      <td>18709</td>\n",
              "      <td>1.204663</td>\n",
              "    </tr>\n",
              "    <tr>\n",
              "      <th>19</th>\n",
              "      <td>Other ethnic group: Arab</td>\n",
              "      <td>2042</td>\n",
              "      <td>0.131483</td>\n",
              "    </tr>\n",
              "    <tr>\n",
              "      <th>20</th>\n",
              "      <td>Other ethnic group: Any other ethnic group</td>\n",
              "      <td>3235</td>\n",
              "      <td>0.208300</td>\n",
              "    </tr>\n",
              "    <tr>\n",
              "      <th>21</th>\n",
              "      <td>Other Ethnic Groups (Total)</td>\n",
              "      <td>5277</td>\n",
              "      <td>0.339783</td>\n",
              "    </tr>\n",
              "    <tr>\n",
              "      <th>22</th>\n",
              "      <td>BAME</td>\n",
              "      <td>79731</td>\n",
              "      <td>5.133837</td>\n",
              "    </tr>\n",
              "  </tbody>\n",
              "</table>\n",
              "</div>"
            ],
            "text/plain": [
              "                                             Category    Essex  Ethnic_percent\n",
              "0                                      White: British  1264877       81.444758\n",
              "1                                        White: Irish    11165        0.718908\n",
              "2                     White: Gypsy or Irish Traveller     2161        0.139146\n",
              "3                                  White: Other White    35653        2.295678\n",
              "4   Mixed/multiple ethnic group: White and Black C...     6936        0.446605\n",
              "5   Mixed/multiple ethnic group: White and Black A...     2801        0.180355\n",
              "6        Mixed/multiple ethnic group: White and Asian     6173        0.397476\n",
              "7            Mixed/multiple ethnic group: Other Mixed     4975        0.320338\n",
              "8                 Mixed/Multiple Ethnic Group (Total)    20885        1.344774\n",
              "9                         Asian/Asian British: Indian    12456        0.802035\n",
              "10                     Asian/Asian British: Pakistani     3462        0.222916\n",
              "11                   Asian/Asian British: Bangladeshi     2747        0.176878\n",
              "12                       Asian/Asian British: Chinese     6361        0.409581\n",
              "13                   Asian/Asian British: Other Asian     9834        0.633206\n",
              "14                        Asian/Asian British (Total)    34860        2.244617\n",
              "15     Black/African/Caribbean/Black British: African    12143        0.781881\n",
              "16   Black/African/Caribbean/Black British: Caribbean     4556        0.293358\n",
              "17  Black/African/Caribbean/Black British: Other B...     2010        0.129423\n",
              "18                        Black/Black British (Total)    18709        1.204663\n",
              "19                           Other ethnic group: Arab     2042        0.131483\n",
              "20         Other ethnic group: Any other ethnic group     3235        0.208300\n",
              "21                        Other Ethnic Groups (Total)     5277        0.339783\n",
              "22                                               BAME    79731        5.133837"
            ]
          },
          "metadata": {
            "tags": []
          }
        }
      ]
    },
    {
      "cell_type": "code",
      "metadata": {
        "colab": {
          "base_uri": "https://localhost:8080/",
          "height": 384
        },
        "id": "yv-ZDirOD3sE",
        "outputId": "3d46f405-9a79-4432-cb8b-ac08d7ab4015"
      },
      "source": [
        "plot = census.plot.pie(y='Ethnic_percent', figsize=(5, 5))\n"
      ],
      "execution_count": 354,
      "outputs": [
        {
          "output_type": "display_data",
          "data": {
            "image/png": "[encoded data removed]",
            "text/plain": [
              "<Figure size 360x360 with 1 Axes>"
            ]
          },
          "metadata": {
            "tags": []
          }
        }
      ]
    },
    {
      "cell_type": "code",
      "metadata": {
        "colab": {
          "base_uri": "https://localhost:8080/",
          "height": 386
        },
        "id": "89q-kSKIqieQ",
        "outputId": "d0db8b11-93c2-4fd7-a9f0-967208a47742"
      },
      "source": [
        "\n",
        "sns.displot(x=\"Ethnic_percent\", data = census)"
      ],
      "execution_count": 344,
      "outputs": [
        {
          "output_type": "execute_result",
          "data": {
            "text/plain": [
              "<seaborn.axisgrid.FacetGrid at 0x7f090dcf1b10>"
            ]
          },
          "metadata": {
            "tags": []
          },
          "execution_count": 344
        },
        {
          "output_type": "display_data",
          "data": {
            "image/png": "[encoded data removed]",
            "text/plain": [
              "<Figure size 360x360 with 1 Axes>"
            ]
          },
          "metadata": {
            "tags": [],
            "needs_background": "light"
          }
        }
      ]
    },
    {
      "cell_type": "code",
      "metadata": {
        "id": "lT6TxiUqpIwz"
      },
      "source": [
        "census_data['Essex'] = census_data.index\n",
        "sns.countplot(x = \"Essex\", data = census_data)\n",
        "#sns.factorplot(x='Essex', data=census_data)"
      ],
      "execution_count": null,
      "outputs": []
    },
    {
      "cell_type": "code",
      "metadata": {
        "id": "09dAOl4Vlg4t"
      },
      "source": [
        "plt.figure(figsize=(12,8))\n",
        "ax = sns.countplot(y=\"0\", data=dfWIM, order=[3,4,5,6,7,8,9,10,11,12])\n",
        "plt.title('Distribution of Truck Configurations')\n",
        "plt.xlabel('Number of Axles')\n",
        "plt.ylabel('Frequency [%]')\n",
        "\n",
        "for p in ax.patches:\n",
        "        ax.annotate('%{:.1f}'.format(p.get_height()), (p.get_x()+0.1, p.get_height()+50))"
      ],
      "execution_count": null,
      "outputs": []
    },
    {
      "cell_type": "code",
      "metadata": {
        "id": "HuVe2yXNlvzG"
      },
      "source": [
        ""
      ],
      "execution_count": null,
      "outputs": []
    },
    {
      "cell_type": "code",
      "metadata": {
        "id": "zHfbbba3iin2"
      },
      "source": [
        "#Combine similar ethnic groups together\n",
        "#Make ethnic classifications to match Data1 - Police search"
      ],
      "execution_count": null,
      "outputs": []
    },
    {
      "cell_type": "code",
      "metadata": {
        "id": "7w4-msruZPLe"
      },
      "source": [
        "#Load Data-3\n",
        "#To find ethnic distribution across the Police workforce\n",
        "#Data downloaded from https://www.ethnicity-facts-figures.service.gov.uk/workforce-and-business/workforce-diversity/police-workforce/latest#by-ethnicity-police-officers\n",
        "Workforce_data=pd.read_csv('https://raw.githubusercontent.com/arunravi8595/CE888/main/Assignment/by-ethnicity-police-officers-table.csv')"
      ],
      "execution_count": null,
      "outputs": []
    },
    {
      "cell_type": "code",
      "metadata": {
        "id": "51OTAoHFZs4l"
      },
      "source": [
        "Workforce_data.head()"
      ],
      "execution_count": null,
      "outputs": []
    },
    {
      "cell_type": "code",
      "metadata": {
        "id": "OXz2YK5vZ8ok"
      },
      "source": [
        "sns.displot(Workforce_data, bins=30, kde=True, rug=True)"
      ],
      "execution_count": null,
      "outputs": []
    },
    {
      "cell_type": "code",
      "metadata": {
        "id": "S5At3NwhgiIx"
      },
      "source": [
        "sns.jointplot(x='% of police officers', y='% of population', data=Workforce_data)"
      ],
      "execution_count": null,
      "outputs": []
    },
    {
      "cell_type": "code",
      "metadata": {
        "id": "qijE6p4za3F7"
      },
      "source": [
        "#Compare Dataset 2 and 3 (Ethnicity in workforce and Census)\n",
        "#Result of this Data will be either a match or difference between them\n",
        "#If there is no percentage difference then the employment is distributed to all ethnicity equally\n",
        "#If there is a difference between them, then compare the result with Data 1 (Police search) to find if the predominant ethnicity has any influence"
      ],
      "execution_count": null,
      "outputs": []
    },
    {
      "cell_type": "code",
      "metadata": {
        "id": "zG963KBEemhZ"
      },
      "source": [
        ""
      ],
      "execution_count": null,
      "outputs": []
    }
  ]
}